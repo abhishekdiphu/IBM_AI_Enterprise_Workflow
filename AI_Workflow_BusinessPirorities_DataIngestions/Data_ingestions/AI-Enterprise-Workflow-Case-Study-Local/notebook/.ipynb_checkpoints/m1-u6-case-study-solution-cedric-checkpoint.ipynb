{
 "cells": [
  {
   "attachments": {
    "ibm-cloud.png": {
     "image/png": "[encoded data removed]"
    }
   },
   "cell_type": "markdown",
   "metadata": {},
   "source": [
    "![ibm-cloud.png](attachment:ibm-cloud.png)\n",
    "\n",
    "# Case Study - Data ingestion"
   ]
  },
  {
   "cell_type": "markdown",
   "metadata": {},
   "source": [
    "The goal of this case study is to put into practice the important concepts from module 1.  We will go through the basic process that begins with refining the business opportunity and ensuring that it is articulated using a scientific thought process.\n",
    "\n",
    "The business opportunity and case study was first mentioned in Unit 2 of module 1 and like the AAVIAL company itself these data were created for learning purposes.  We will be using the AAVAIL example as a basis for this case study. You will be gathering data from several provided sources, staging it for quality assurance and saving it in a target destination that is most appropriate.\n"
   ]
  },
  {
   "cell_type": "markdown",
   "metadata": {},
   "source": [
    "## Case study overall objectives\n",
    "\n",
    "1. Gather all relevant data from the sources of provided data\n",
    "2. Implement several checks for quality assurance \n",
    "3. Take the initial steps towards automation of the ingestion pipeline\n",
    "\n",
    "## Getting started\n",
    "\n",
    "Download this notebook and open it locally using a Jupyter server. Alternatively you may use Watson Studio.  To make using Watson Studio easier we have provided a zip archive file containing the files needed to complete this case study in Watson Studio. See the [Getting started with Watson Studio](m1-u5-5-watson-studio.rst) page.\n",
    "\n",
    "**You will need the following files to complete this case study**\n",
    "\n",
    "* [m1-u6-case-study.ipynb](m1-u6-case-study.ipynb)\n",
    "* [m1-u6-case-study-solution.ipynb](./notebooks/m1-u6-case-study-solution.ipynb)\n",
    "* [aavail-customers.db](./data/aavail-customers.db)\n",
    "* [aavail-steams.csv](./data/aavail-streams.csv)\n",
    "\n",
    "1. Fill in all of the places in this notebook marked with ***YOUR CODE HERE*** or ***YOUR ANSWER HERE***\n",
    "2. When you have finished the case study there will be a short quiz\n",
    "\n",
    "You may review the rest of this content as part of the notebook, but once you are ready to get started be ensure that you are working with a *live* version either as part of Watson Studio or locally."
   ]
  },
  {
   "cell_type": "markdown",
   "metadata": {},
   "source": [
    "## Data Sources\n",
    "\n",
    "The data you will be sourcing from is contained in two sources.\n",
    "\n",
    "1. A database ([SQLite](https://www.sqlite.org/index.html)) of `customer` data\n",
    "2. A [CSV file](https://en.wikipedia.org/wiki/Comma-separated_values) of `stream` level data\n",
    "\n",
    "   >You will create a simple data pipeline that\n",
    "   (1) simplifies the data for future analysis\n",
    "   (2) performs quality assurance checks.\n",
    "\n",
    "The process of building *the data ingestion pipeline* entails extracting data, transforming it, and loading it into an appropriate data storage technology.  When constructing a pipeline it is important to keep in mind that they generally process data in batches.  For example, data may be compiled during the day and the batch could be processed during the night.  The data pipeline may also be optimized to execute as a streaming computation (i.e., every event is handled as it occurs)."
   ]
  },
  {
   "attachments": {
    "aavail-schema.svg": {
     "image/svg+xml": [
      "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"
     ]
    }
   },
   "cell_type": "markdown",
   "metadata": {},
   "source": [
    "## PART 1: Gathering the data\n",
    "\n",
    "The following is an [Entity Relationship Diagram (ERD)](https://en.wikipedia.org/wiki/Entity%E2%80%93relationship_model) that details the tables and contents of the database.\n",
    "\n",
    "![aavail-schema.svg](attachment:aavail-schema.svg)"
   ]
  },
  {
   "cell_type": "code",
   "execution_count": 2,
   "metadata": {},
   "outputs": [],
   "source": [
    "## all the imports you will need for this case study\n",
    "import os\n",
    "import pandas as pd\n",
    "import numpy as np\n",
    "import sqlite3\n",
    "\n",
    "## specify the directory you saved the data in\n",
    "data_dir = os.path.join(\"..\",\"data\")"
   ]
  },
  {
   "cell_type": "markdown",
   "metadata": {},
   "source": [
    "Much of the data exist in a database.  You can connect to it using the `sqlite3` Python package with the function shown below.  Note that is is good practice to wrap your connect functions in a [try-except statement](https://docs.python.org/3/tutorial/errors.html) to cleanly handle exceptions."
   ]
  },
  {
   "cell_type": "code",
   "execution_count": 3,
   "metadata": {},
   "outputs": [],
   "source": [
    "def connect_db(file_path):\n",
    "    try:\n",
    "        conn = sqlite3.connect(file_path)\n",
    "        print(\"...successfully connected to db\\n\")\n",
    "    except Error as e:\n",
    "        print(\"...unsuccessful connection\\n\",e)\n",
    "    \n",
    "    return(conn)"
   ]
  },
  {
   "cell_type": "code",
   "execution_count": 4,
   "metadata": {},
   "outputs": [
    {
     "name": "stdout",
     "output_type": "stream",
     "text": [
      "...successfully connected to db\n",
      "\n",
      "['CUSTOMER', 'INVOICE', 'INVOICE_ITEM', 'COUNTRY']\n"
     ]
    }
   ],
   "source": [
    "## make the connection to the database\n",
    "conn = connect_db(os.path.join(data_dir,\"aavail-customers.db\"))\n",
    "\n",
    "## print the table names\n",
    "tables = [t[0] for t in conn.execute(\"SELECT name FROM sqlite_master WHERE type='table';\")]\n",
    "print(tables)"
   ]
  },
  {
   "cell_type": "markdown",
   "metadata": {},
   "source": [
    "### QUESTION 1:\n",
    "\n",
    "**extract the relevant data from the DB**\n",
    "\n",
    "Query the database and extract the following data into a [Pandas DataFrame](https://pandas.pydata.org/pandas-docs/stable/reference/api/pandas.DataFrame.html).\n",
    " \n",
    "* Customer ID (integer)\n",
    "* Last name\n",
    "* First name\n",
    "* DOB (Date Of Birth)\n",
    "* City\n",
    "* State\n",
    "* Country (the name NOT the country_id)\n",
    "* Gender\n",
    "\n",
    "Remember that that SQL is case-insensitive, but it is traditional to use ALL CAPS for SQL keywords. It is also a convention to end SQL statements with a semi-colon.  \n",
    "\n",
    "#### Resources\n",
    "\n",
    "* [W3 schools SQL tutorial](https://www.w3schools.com/sql)\n",
    "* [W3 schools SQL joins](https://www.w3schools.com/sql/sql_join.asp)"
   ]
  },
  {
   "cell_type": "code",
   "execution_count": 5,
   "metadata": {},
   "outputs": [
    {
     "data": {
      "text/html": [
       "<div>\n",
       "<style scoped>\n",
       "    .dataframe tbody tr th:only-of-type {\n",
       "        vertical-align: middle;\n",
       "    }\n",
       "\n",
       "    .dataframe tbody tr th {\n",
       "        vertical-align: top;\n",
       "    }\n",
       "\n",
       "    .dataframe thead th {\n",
       "        text-align: right;\n",
       "    }\n",
       "</style>\n",
       "<table border=\"1\" class=\"dataframe\">\n",
       "  <thead>\n",
       "    <tr style=\"text-align: right;\">\n",
       "      <th></th>\n",
       "      <th>customer_id</th>\n",
       "      <th>last_name</th>\n",
       "      <th>first_name</th>\n",
       "      <th>DOB</th>\n",
       "      <th>city</th>\n",
       "      <th>state</th>\n",
       "      <th>country_name</th>\n",
       "      <th>gender</th>\n",
       "    </tr>\n",
       "  </thead>\n",
       "  <tbody>\n",
       "    <tr>\n",
       "      <th>0</th>\n",
       "      <td>1</td>\n",
       "      <td>Todd</td>\n",
       "      <td>Kasen</td>\n",
       "      <td>07/30/98</td>\n",
       "      <td>Rock Hill</td>\n",
       "      <td>South Carolina</td>\n",
       "      <td>united_states</td>\n",
       "      <td>m</td>\n",
       "    </tr>\n",
       "    <tr>\n",
       "      <th>1</th>\n",
       "      <td>2</td>\n",
       "      <td>Garza</td>\n",
       "      <td>Ensley</td>\n",
       "      <td>04/12/89</td>\n",
       "      <td>singapore</td>\n",
       "      <td>None</td>\n",
       "      <td>singapore</td>\n",
       "      <td>f</td>\n",
       "    </tr>\n",
       "    <tr>\n",
       "      <th>2</th>\n",
       "      <td>3</td>\n",
       "      <td>Carey</td>\n",
       "      <td>Lillian</td>\n",
       "      <td>09/12/97</td>\n",
       "      <td>Auburn</td>\n",
       "      <td>Alabama</td>\n",
       "      <td>united_states</td>\n",
       "      <td>f</td>\n",
       "    </tr>\n",
       "    <tr>\n",
       "      <th>3</th>\n",
       "      <td>4</td>\n",
       "      <td>Christensen</td>\n",
       "      <td>Beau</td>\n",
       "      <td>01/28/99</td>\n",
       "      <td>Hempstead</td>\n",
       "      <td>New York</td>\n",
       "      <td>united_states</td>\n",
       "      <td>m</td>\n",
       "    </tr>\n",
       "    <tr>\n",
       "      <th>4</th>\n",
       "      <td>5</td>\n",
       "      <td>Gibson</td>\n",
       "      <td>Ernesto</td>\n",
       "      <td>03/23/98</td>\n",
       "      <td>singapore</td>\n",
       "      <td>None</td>\n",
       "      <td>singapore</td>\n",
       "      <td>m</td>\n",
       "    </tr>\n",
       "  </tbody>\n",
       "</table>\n",
       "</div>"
      ],
      "text/plain": [
       "   customer_id    last_name first_name       DOB       city           state  \\\n",
       "0            1         Todd      Kasen  07/30/98  Rock Hill  South Carolina   \n",
       "1            2        Garza     Ensley  04/12/89  singapore            None   \n",
       "2            3        Carey    Lillian  09/12/97     Auburn         Alabama   \n",
       "3            4  Christensen       Beau  01/28/99  Hempstead        New York   \n",
       "4            5       Gibson    Ernesto  03/23/98  singapore            None   \n",
       "\n",
       "    country_name gender  \n",
       "0  united_states      m  \n",
       "1      singapore      f  \n",
       "2  united_states      f  \n",
       "3  united_states      m  \n",
       "4      singapore      m  "
      ]
     },
     "execution_count": 5,
     "metadata": {},
     "output_type": "execute_result"
    }
   ],
   "source": [
    "## YOUR CODE HERE\n",
    "query = \"\"\"\n",
    "SELECT cu.customer_id, cu.last_name, cu.first_name, cu.DOB,\n",
    "       cu.city, cu.state, co.country_name, cu.gender\n",
    "FROM CUSTOMER cu\n",
    "INNER JOIN COUNTRY co\n",
    "ON cu.country_id = co.country_id;\n",
    "\"\"\"\n",
    "\n",
    "df_db = pd.read_sql_query(query, conn)\n",
    "df_db.head()"
   ]
  },
  {
   "cell_type": "markdown",
   "metadata": {},
   "source": [
    "### QUESTION 2:\n",
    "\n",
    "**Extract the relevant data from the CSV file**\n",
    "\n",
    "For each ```customer_id``` determine if a customer has stopped their subscription or not and save it in a dictionary or another data container."
   ]
  },
  {
   "cell_type": "code",
   "execution_count": 6,
   "metadata": {},
   "outputs": [
    {
     "data": {
      "text/html": [
       "<div>\n",
       "<style scoped>\n",
       "    .dataframe tbody tr th:only-of-type {\n",
       "        vertical-align: middle;\n",
       "    }\n",
       "\n",
       "    .dataframe tbody tr th {\n",
       "        vertical-align: top;\n",
       "    }\n",
       "\n",
       "    .dataframe thead th {\n",
       "        text-align: right;\n",
       "    }\n",
       "</style>\n",
       "<table border=\"1\" class=\"dataframe\">\n",
       "  <thead>\n",
       "    <tr style=\"text-align: right;\">\n",
       "      <th></th>\n",
       "      <th>customer_id</th>\n",
       "      <th>stream_id</th>\n",
       "      <th>date</th>\n",
       "      <th>invoice_item_id</th>\n",
       "      <th>subscription_stopped</th>\n",
       "    </tr>\n",
       "  </thead>\n",
       "  <tbody>\n",
       "    <tr>\n",
       "      <th>0</th>\n",
       "      <td>1</td>\n",
       "      <td>1420.0</td>\n",
       "      <td>2018-10-21</td>\n",
       "      <td>2.0</td>\n",
       "      <td>0</td>\n",
       "    </tr>\n",
       "    <tr>\n",
       "      <th>1</th>\n",
       "      <td>1</td>\n",
       "      <td>1343.0</td>\n",
       "      <td>2018-10-23</td>\n",
       "      <td>2.0</td>\n",
       "      <td>0</td>\n",
       "    </tr>\n",
       "    <tr>\n",
       "      <th>2</th>\n",
       "      <td>1</td>\n",
       "      <td>1756.0</td>\n",
       "      <td>2018-11-05</td>\n",
       "      <td>2.0</td>\n",
       "      <td>0</td>\n",
       "    </tr>\n",
       "    <tr>\n",
       "      <th>3</th>\n",
       "      <td>1</td>\n",
       "      <td>1250.0</td>\n",
       "      <td>2018-11-06</td>\n",
       "      <td>2.0</td>\n",
       "      <td>0</td>\n",
       "    </tr>\n",
       "    <tr>\n",
       "      <th>4</th>\n",
       "      <td>1</td>\n",
       "      <td>1324.0</td>\n",
       "      <td>2018-11-12</td>\n",
       "      <td>2.0</td>\n",
       "      <td>0</td>\n",
       "    </tr>\n",
       "  </tbody>\n",
       "</table>\n",
       "</div>"
      ],
      "text/plain": [
       "   customer_id  stream_id        date  invoice_item_id  subscription_stopped\n",
       "0            1     1420.0  2018-10-21              2.0                     0\n",
       "1            1     1343.0  2018-10-23              2.0                     0\n",
       "2            1     1756.0  2018-11-05              2.0                     0\n",
       "3            1     1250.0  2018-11-06              2.0                     0\n",
       "4            1     1324.0  2018-11-12              2.0                     0"
      ]
     },
     "execution_count": 6,
     "metadata": {},
     "output_type": "execute_result"
    }
   ],
   "source": [
    "df_streams = pd.read_csv(os.path.join(data_dir, r\"aavail-streams.csv\"))\n",
    "df_streams.head()"
   ]
  },
  {
   "cell_type": "code",
   "execution_count": 7,
   "metadata": {},
   "outputs": [],
   "source": [
    "## YOUR CODE HERE\n",
    "\n",
    "has_stopped = df_streams.groupby(\"customer_id\").apply(lambda x : True if x['subscription_stopped'].max() > 0 else False)"
   ]
  },
  {
   "cell_type": "markdown",
   "metadata": {},
   "source": [
    "## PART 2: Checks for quality assurance\n",
    "\n",
    "Sometimes it is known in advance which types of data integrity issues to expect, but other times it is during the Exploratory Data Analysis (EDA) process that these issues are identified.  After extracting data it is important to include checks for quality assurance even on the first pass through the AI workflow.  Here you will combine the data into a single structure and provide a couple checks for quality assurance.\n",
    "\n",
    "### QUESTION 3: \n",
    "\n",
    "**Implement checks for quality assurance**\n",
    "\n",
    "1. In the customer dataframe loaded question 1, remove any repeat customers based on ```customer_id```\n",
    "2. In the streams dataset, remove stream data that do not have an associated ```stream_id```\n",
    "3. Check for missing values in both datasets."
   ]
  },
  {
   "cell_type": "code",
   "execution_count": 8,
   "metadata": {},
   "outputs": [
    {
     "name": "stdout",
     "output_type": "stream",
     "text": [
      "\n",
      "Cleaning Summary\n",
      "-----------------------------------\n",
      "... removed 7 duplicate rows in db data\n",
      "... removed 1164 missing stream ids\n",
      "\n",
      "Missing Value Summary\n",
      "-----------------------------------\n",
      "\n",
      "df_db\n",
      "---------------\n",
      "customer_id       0\n",
      "last_name         0\n",
      "first_name        0\n",
      "DOB               0\n",
      "city              0\n",
      "state           300\n",
      "country_name      0\n",
      "gender            0\n",
      "dtype: int64\n",
      "\n",
      "df_streams\n",
      "---------------\n",
      "customer_id             0\n",
      "stream_id               0\n",
      "date                    0\n",
      "invoice_item_id         0\n",
      "subscription_stopped    0\n",
      "dtype: int64\n"
     ]
    }
   ],
   "source": [
    "## YOUR CODE HERE\n",
    "print(\"\\nCleaning Summary\\n{}\".format(\"-\"*35))\n",
    "size_before = len(df_db)\n",
    "df_db.drop_duplicates(subset='customer_id', keep=\"first\", inplace=True )\n",
    "size_after = len(df_db)\n",
    "print(\"... removed {} duplicate rows in db data\".format(size_before-size_after))\n",
    "\n",
    "size_before = len(df_streams)\n",
    "df_streams = df_streams[~df_streams['stream_id'].isna()]\n",
    "size_after = len(df_streams)\n",
    "print(\"... removed {} missing stream ids\".format(size_before-size_after))\n",
    "\n",
    "print(\"\\nMissing Value Summary\\n{}\".format(\"-\"*35))\n",
    "print(\"\\ndf_db\\n{}\".format(\"-\"*15))\n",
    "print(df_db.isnull().sum(axis = 0))\n",
    "print(\"\\ndf_streams\\n{}\".format(\"-\"*15))\n",
    "print(df_streams.isnull().sum(axis = 0))"
   ]
  },
  {
   "cell_type": "markdown",
   "metadata": {},
   "source": [
    "### QUESTION 4: \n",
    "\n",
    "**combine the data into a single data structure**\n",
    "\n",
    "For this example, the two most convenient structures for this task are Pandas dataframes and NumPy arrays.  At a minimum ensure that your structure accommodates the following.\n",
    "\n",
    "1. A column for `customer_id`\n",
    "2. A column for `country`\n",
    "3. A column for ```age``` that is created from ```DOB```\n",
    "4. A column ```customer_name``` that is created from ```first_name``` and ```last_name```\n",
    "5. A column to indicate churn called ```is_subscriber```\n",
    "7. A column that indicates ```subscriber_type``` that comes from ```invoice_item``` \n",
    "6. A column to indicate the total ```num_streams```\n",
    "\n",
    "> HINT: For the subscriber type use the most frequent invoice_item_id and link it to the relevant invoice_item thanks to the INVOICE table in the database\n",
    "\n",
    "#### Resources\n",
    "\n",
    "* [Python's datetime library](https://docs.python.org/3/library/datetime.html)\n",
    "* [NumPy's datetime data type](https://docs.scipy.org/doc/numpy/reference/arrays.datetime.html)\n"
   ]
  },
  {
   "cell_type": "code",
   "execution_count": 9,
   "metadata": {},
   "outputs": [],
   "source": [
    "## YOUR CODE HERE\n",
    "\n",
    "# We create a copy of the customer data restricted to the customer_ids found in the stream data\n",
    "df_clean = df_db[df_db['customer_id'].isin(df_streams['customer_id'].unique())].copy()\n",
    "\n",
    "# Create customer_name column\n",
    "df_clean['customer_name'] = df_clean['first_name'] +' '+ df_clean['last_name']\n",
    "\n",
    "# Create age column from DOB\n",
    "DT = pd.Timestamp('now')\n",
    "df_clean['DOB'] = pd.to_datetime(df_clean['DOB'], format='%m/%d/%y') \n",
    "df_clean['DOB'] = df_clean['DOB'].where(df_clean['DOB'] < DT, df_clean['DOB'] -  np.timedelta64(100, 'Y'))\n",
    "df_clean['age'] = (DT - df_clean['DOB']).astype('<m8[Y]')\n",
    "\n",
    "# Create is_subscriber column \n",
    "df_clean['is_subscriber'] = df_clean.apply(lambda x : ~has_stopped[x['customer_id']], axis=1)\n",
    "\n",
    "# Create num_streams column\n",
    "df_num_streams_tmp = df_streams.groupby('customer_id')\\\n",
    "                                .size()\\\n",
    "                                .reset_index()\n",
    "df_num_streams_tmp.columns = ['customer_id', 'num_streams']\n",
    "df_clean = df_clean.merge(df_num_streams_tmp, on='customer_id')\n",
    "del df_num_streams_tmp\n",
    "\n",
    "# Create subscryber type column\n",
    "query = \"\"\"\n",
    "SELECT i.invoice_item_id, i.invoice_item\n",
    "FROM INVOICE_ITEM i;\n",
    "\"\"\"\n",
    "df_invoice = pd.read_sql_query(query, conn)\n",
    "\n",
    "df_invoice_type_tmp = df_streams[['customer_id', 'invoice_item_id']].groupby('customer_id')\\\n",
    "                                                                    .agg(lambda x:x.value_counts().index[0])\\\n",
    "                                                                    .reset_index()\n",
    "df_invoice_type_tmp = df_invoice_type_tmp.merge(df_invoice, on='invoice_item_id')\\\n",
    "                                        .drop('invoice_item_id', axis=1)\n",
    "df_invoice_type_tmp.columns = ['customer_id', 'subscriber_type']\n",
    "df_clean = df_clean.merge(df_invoice_type_tmp, on='customer_id')\n",
    "del df_invoice_type_tmp\n",
    "\n",
    "\n",
    "# Select the desired columns and copy to df_clean.\n",
    "columns_name = ['customer_id', 'country_name', 'age', 'customer_name', 'is_subscriber', 'subscriber_type', 'num_streams']\n",
    "df_clean = df_clean[columns_name]"
   ]
  },
  {
   "cell_type": "markdown",
   "metadata": {},
   "source": [
    "## PART 3: Automating the process\n",
    "\n",
    "To ensure that you code can be used to automate this process.  First you will save you dataframe or numpy array as a CSV file.  \n",
    "\n",
    "### QUESTION 5:\n",
    "\n",
    "**Take the initial steps towards automation**\n",
    "\n",
    "1. Save your cleaned, combined data as a CSV file.\n",
    "2. From the code above create a function or class that performs all of the steps given a database file and a streams CSV file.\n",
    "3. Run the function in batches and write a check to ensure you got the same result that you did in the code above.\n",
    "\n",
    "There will be some logic involved to ensure that you do not write the same data twice to the target CSV file.\n",
    "\n",
    "Shown below is some code that will split your streams file into two batches. "
   ]
  },
  {
   "cell_type": "code",
   "execution_count": 10,
   "metadata": {},
   "outputs": [],
   "source": [
    "## code to split the streams csv into batches\n",
    "df_all = pd.read_csv(os.path.join(data_dir, \"aavail-streams.csv\"))\n",
    "customers_arr = df_all['customer_id'].unique()\n",
    "customer_batches = customers_arr.reshape(2, int(customers_arr.shape[0]/2))\n",
    "df_part1 = df_all[df_all['customer_id'].isin(customer_batches[0])]\n",
    "df_part2 = df_all[df_all['customer_id'].isin(customer_batches[1])]\n",
    "df_part1.to_csv(os.path.join(data_dir, \"aavail-streams-1.csv\"),index=False)\n",
    "df_part2.to_csv(os.path.join(data_dir, \"aavail-streams-2.csv\"),index=False)"
   ]
  },
  {
   "cell_type": "markdown",
   "metadata": {},
   "source": [
    "You will need to save your function as a .py file.  The following cell demonstrates how to do this from within a notebook."
   ]
  },
  {
   "cell_type": "code",
   "execution_count": 11,
   "metadata": {},
   "outputs": [
    {
     "name": "stdout",
     "output_type": "stream",
     "text": [
      "Overwriting aavail-data-ingestor.py\n"
     ]
    }
   ],
   "source": [
    "%%writefile aavail-data-ingestor.py\n",
    "# The line above create a file called \"aavail-data-ingestor.py\" in the current working\n",
    "# directory and write the the reste of the cell in this file.\n",
    "\n",
    "import os\n",
    "import sys\n",
    "import getopt\n",
    "import pandas as pd\n",
    "import numpy as np\n",
    "import sqlite3\n",
    "\n",
    "DATA_DIR = os.path.join(\"..\",\"data\")\n",
    "\n",
    "pass"
   ]
  },
  {
   "cell_type": "markdown",
   "metadata": {},
   "source": [
    "You will also need to be able to pass the file names to your function without hardcoding them into the script itself.  This is an important step towards automation.  Here are the two libraries commonly used to accomplish this in Python.\n",
    "\n",
    "* [getopt](https://docs.python.org/3/library/getopt.html)\n",
    "* [argparse](https://docs.python.org/3/library/argparse.html)"
   ]
  },
  {
   "cell_type": "markdown",
   "metadata": {},
   "source": [
    "You may run the script you just created from the commandline directly or from within this notebook using:\n",
    "\n",
    "```\n",
    "!python aavail-data-ingestor.py aavail-customers.db aavail-streams.csv\n",
    "\n",
    "```"
   ]
  },
  {
   "cell_type": "code",
   "execution_count": 15,
   "metadata": {},
   "outputs": [
    {
     "name": "stdout",
     "output_type": "stream",
     "text": [
      "Overwriting aavail-data-ingestor.py\n"
     ]
    }
   ],
   "source": [
    "%%writefile aavail-data-ingestor.py\n",
    "\n",
    "import os\n",
    "import sys\n",
    "import getopt\n",
    "import pandas as pd\n",
    "import numpy as np\n",
    "import sqlite3\n",
    "\n",
    "DATA_DIR = os.path.join(\"..\",\"data\")\n",
    "\n",
    "def connect_db(file_path):\n",
    "    \"\"\"\n",
    "    function to connection to aavail database\n",
    "    \"\"\"\n",
    "    try:\n",
    "        conn = sqlite3.connect(file_path)\n",
    "        print(\"...successfully connected to db\")\n",
    "    except Error as e:\n",
    "        print(\"...unsuccessful connection\", e)\n",
    "    \n",
    "    return(conn)\n",
    "\n",
    "def ingest_db_data(conn):\n",
    "    \"\"\"\n",
    "    load and clean the db data\n",
    "    \"\"\"\n",
    "    \n",
    "    query = \"\"\"\n",
    "    SELECT cu.customer_id, cu.last_name, cu.first_name, cu.DOB,\n",
    "           cu.city, cu.state, co.country_name, cu.gender\n",
    "    FROM CUSTOMER cu\n",
    "    INNER JOIN COUNTRY co\n",
    "    ON cu.country_id = co.country_id;\n",
    "    \"\"\"\n",
    "    df_db = pd.read_sql_query(query, conn)\n",
    "    \n",
    "    # Remove duplicates\n",
    "    size_before = len(df_db)\n",
    "    df_db.drop_duplicates(subset='customer_id', keep=\"first\", inplace=True )\n",
    "    size_after = len(df_db)\n",
    "    print(\"... removed {} duplicate rows in db data\".format(size_before-size_after))\n",
    "    return df_db\n",
    "\n",
    "def ingest_stream_data(file_path):\n",
    "    \"\"\"\n",
    "    load and clean the stream data\n",
    "    \"\"\"\n",
    "    \n",
    "    df_streams = pd.read_csv(file_path)  \n",
    "    size_before = len(df_streams)\n",
    "    df_streams = df_streams[~df_streams['stream_id'].isna()]\n",
    "    size_after = len(df_streams)\n",
    "    print(\"... removed {} missing stream ids\".format(size_before-size_after))\n",
    "\n",
    "    has_churned = df_streams.groupby(\"customer_id\").apply(lambda x : True if x['subscription_stopped'].max() > 0 else False)\n",
    "    \n",
    "    return df_streams, has_churned\n",
    "\n",
    "def process_dataframes(df_db, df_streams, has_churned, conn):\n",
    "    \"\"\"\n",
    "    add data to target csv\n",
    "    \"\"\"\n",
    "    df_clean = df_db[df_db['customer_id'].isin(df_streams['customer_id'].unique())].copy()\n",
    "\n",
    "    # Create customer_name column\n",
    "    df_clean['customer_name'] = df_clean['first_name'] +' '+ df_clean['last_name']\n",
    "\n",
    "    # Create age column from DOB\n",
    "    DT = pd.Timestamp('now')\n",
    "    df_clean['DOB'] = pd.to_datetime(df_clean['DOB'], format='%m/%d/%y') \n",
    "    df_clean['DOB'] = df_clean['DOB'].where(df_clean['DOB'] < DT, df_clean['DOB'] -  np.timedelta64(100, 'Y'))\n",
    "    df_clean['age'] = (DT - df_clean['DOB']).astype('<m8[Y]')\n",
    "\n",
    "    # Create is_subscriber column \n",
    "    df_clean['is_subscriber'] = df_clean.apply(lambda x : ~has_churned[x['customer_id']], axis=1)\n",
    "\n",
    "    # Create num_streams column\n",
    "    df_num_streams_tmp = df_streams.groupby('customer_id')\\\n",
    "                                    .size()\\\n",
    "                                    .reset_index()\n",
    "    df_num_streams_tmp.columns = ['customer_id', 'num_streams']\n",
    "    df_clean = df_clean.merge(df_num_streams_tmp, on='customer_id')\n",
    "\n",
    "    del df_num_streams_tmp\n",
    "\n",
    "    # Create subscryber type column\n",
    "    query = \"\"\"\n",
    "    SELECT i.invoice_item_id, i.invoice_item\n",
    "    FROM INVOICE_ITEM i;\n",
    "    \"\"\"\n",
    "    df_invoice = pd.read_sql_query(query, conn)\n",
    "\n",
    "    df_invoice_type_tmp = df_streams[['customer_id', 'invoice_item_id']].groupby('customer_id')\\\n",
    "                                                                        .agg(lambda x:x.value_counts().index[0])\\\n",
    "                                                                        .reset_index()\n",
    "    df_invoice_type_tmp = df_invoice_type_tmp.merge(df_invoice, on='invoice_item_id').drop('invoice_item_id', axis=1)\n",
    "    df_invoice_type_tmp.columns = ['customer_id', 'subscriber_type']\n",
    "    df_clean = df_clean.merge(df_invoice_type_tmp, on='customer_id')\n",
    "\n",
    "    del df_invoice_type_tmp\n",
    "\n",
    "\n",
    "    # Select the desired columns and copy to df_clean.\n",
    "    columns_name = ['customer_id', 'country_name', 'age', 'customer_name', 'is_subscriber', 'subscriber_type', 'num_streams']\n",
    "    df_clean = df_clean[columns_name]\n",
    "    \n",
    "    return(df_clean)\n",
    "    \n",
    "def update_target(target_file,\n",
    "                  df_clean, overwrite=False):\n",
    "    \"\"\"\n",
    "    update line by line in case data are large\n",
    "    \"\"\"\n",
    "\n",
    "    if overwrite or not os.path.exists(target_file):\n",
    "        df_clean.to_csv(target_file, index=False)   \n",
    "    else:\n",
    "        df_clean.to_csv(target_file, mode='a', header=False, index=False)\n",
    "        \n",
    "if __name__ == \"__main__\":\n",
    "  \n",
    "    ## collect args\n",
    "    arg_string = \"%s -d db_filepath -s streams_filepath\"%sys.argv[0]\n",
    "    try:\n",
    "        optlist, args = getopt.getopt(sys.argv[1:],'d:s:')\n",
    "    except getopt.GetoptError:\n",
    "        print(getopt.GetoptError)\n",
    "        raise Exception(arg_string)\n",
    "\n",
    "    ## handle args\n",
    "    streams_file = None\n",
    "    db_file = None\n",
    "    for o, a in optlist:\n",
    "        if o == '-d':\n",
    "            db_file = a\n",
    "        if o == '-s':\n",
    "            streams_file = a\n",
    "    streams_file = os.path.join(DATA_DIR,streams_file)\n",
    "    db_file = os.path.join(DATA_DIR,db_file)\n",
    "    target_file = os.path.join(DATA_DIR, \"aavail-target.csv\")\n",
    "    \n",
    "    ## make the connection to the database\n",
    "    conn = connect_db(db_file)\n",
    "\n",
    "    ## ingest data base data\n",
    "    df_db = ingest_db_data(conn)\n",
    "    df_streams, df_churn = ingest_stream_data(streams_file)\n",
    "    df_clean = process_dataframes(df_db, df_streams, df_churn, conn)\n",
    "    \n",
    "    ## write\n",
    "    update_target(target_file, df_clean, overwrite=False)\n",
    "    print(\"done\")"
   ]
  },
  {
   "cell_type": "markdown",
   "metadata": {},
   "source": [
    "Run the script once for each batch that you created and then load both the original and batch versions back into the notebook to check that they are the same. "
   ]
  },
  {
   "cell_type": "code",
   "execution_count": 16,
   "metadata": {},
   "outputs": [
    {
     "name": "stdout",
     "output_type": "stream",
     "text": [
      "...successfully connected to db\n",
      "... removed 7 duplicate rows in db data\n",
      "... removed 572 missing stream ids\n",
      "done\n",
      "     501 ../data/aavail-target.csv\n",
      "...successfully connected to db\n",
      "... removed 7 duplicate rows in db data\n",
      "... removed 592 missing stream ids\n",
      "done\n",
      "    1001 ../data/aavail-target.csv\n"
     ]
    }
   ],
   "source": [
    "## YOUR CODE HERE\n",
    "\n",
    "!rm ../data/aavail-target.csv\n",
    "!python aavail-data-ingestor.py -d aavail-customers.db -s aavail-streams-1.csv\n",
    "!wc -l ../data/aavail-target.csv\n",
    "!python aavail-data-ingestor.py -d aavail-customers.db -s aavail-streams-2.csv\n",
    "!wc -l ../data/aavail-target.csv"
   ]
  },
  {
   "cell_type": "code",
   "execution_count": 14,
   "metadata": {},
   "outputs": [
    {
     "name": "stdout",
     "output_type": "stream",
     "text": [
      "...successfully connected to db\n",
      "... removed 7 duplicate rows in db data\n",
      "... removed 1164 missing stream ids\n",
      "done\n",
      "    1001 ../data/aavail-target.csv\n"
     ]
    }
   ],
   "source": [
    "!rm ../data/aavail-target.csv\n",
    "!python aavail-data-ingestor.py -d aavail-customers.db -s aavail-streams.csv\n",
    "!wc -l ../data/aavail-target.csv"
   ]
  },
  {
   "cell_type": "markdown",
   "metadata": {},
   "source": [
    "### QUESTION 6:\n",
    "\n",
    "**How can you improve the process?**\n",
    "\n",
    "In paragraph form or using bullets write down some of the ways that you could improve this pipeline."
   ]
  },
  {
   "cell_type": "markdown",
   "metadata": {},
   "source": [
    "YOUR ANSWER HERE\n",
    "\n",
    "\n"
   ]
  }
 ],
 "metadata": {
  "kernelspec": {
   "display_name": "Python 3",
   "language": "python",
   "name": "python3"
  },
  "language_info": {
   "codemirror_mode": {
    "name": "ipython",
    "version": 3
   },
   "file_extension": ".py",
   "mimetype": "text/x-python",
   "name": "python",
   "nbconvert_exporter": "python",
   "pygments_lexer": "ipython3",
   "version": "3.7.3"
  }
 },
 "nbformat": 4,
 "nbformat_minor": 4
}
