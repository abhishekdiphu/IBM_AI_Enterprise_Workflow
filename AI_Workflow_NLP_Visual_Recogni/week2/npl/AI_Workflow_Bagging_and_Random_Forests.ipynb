{
  "nbformat": 4,
  "nbformat_minor": 0,
  "metadata": {
    "colab": {
      "name": "AI_Workflow_Bagging_and_Random_Forests.ipynb",
      "provenance": []
    },
    "kernelspec": {
      "name": "python3",
      "display_name": "Python 3"
    }
  },
  "cells": [
    {
      "cell_type": "code",
      "metadata": {
        "colab": {
          "base_uri": "https://localhost:8080/"
        },
        "id": "ZR4Mtpb3NTrm",
        "outputId": "d08b6c95-5a52-4570-d6ad-d0c1d1e1590d"
      },
      "source": [
        "import numpy as np\r\n",
        "x = np.random.normal(loc=50.0, scale=10.0, size=100)\r\n",
        "nsamples = 500\r\n",
        "bs_samples = np.random.choice(x, (nsamples, x.size), replace=True)\r\n",
        "bs_distn = np.mean(bs_samples, axis=1)\r\n",
        "print(\"Bootstrap CI: (%.4f, %.4f)\"%(bs_distn[int(0.025*nsamples)], bs_distn[int(0.975*nsamples)]))"
      ],
      "execution_count": 1,
      "outputs": [
        {
          "output_type": "stream",
          "text": [
            "Bootstrap CI: (51.1939, 50.3934)\n"
          ],
          "name": "stdout"
        }
      ]
    },
    {
      "cell_type": "code",
      "metadata": {
        "id": "29VvLvLfN6CR"
      },
      "source": [
        "#!/usr/bin/env python\r\n",
        "\r\n",
        "\"\"\"\r\n",
        "simple bagging example\r\n",
        "\"\"\"\r\n",
        "\r\n",
        "import numpy as np\r\n",
        "from sklearn.ensemble import BaggingClassifier\r\n",
        "from sklearn.neighbors import KNeighborsClassifier\r\n",
        "from sklearn.datasets import load_iris\r\n",
        "from sklearn.preprocessing import StandardScaler\r\n",
        "from sklearn.metrics import classification_report, f1_score\r\n",
        "from sklearn.model_selection import train_test_split\r\n",
        "from sklearn.tree import DecisionTreeClassifier\r\n",
        "from sklearn.pipeline import Pipeline\r\n",
        "from sklearn.svm import SVC\r\n",
        "\r\n",
        "np.random.seed(0)\r\n",
        "iris = load_iris()\r\n",
        "X, y = iris.data, iris.target\r\n",
        "indices = np.arange(y.shape[0])\r\n",
        "np.random.shuffle(indices)\r\n",
        "\r\n",
        "X_train, X_test, y_train, y_test = train_test_split(X, y, test_size=0.2, stratify=y)\r\n",
        "\r\n",
        "\r\n",
        "\r\n",
        "   "
      ],
      "execution_count": 3,
      "outputs": []
    },
    {
      "cell_type": "code",
      "metadata": {
        "colab": {
          "base_uri": "https://localhost:8080/"
        },
        "id": "yJBDbxnsO2Nm",
        "outputId": "19460100-59dd-410a-f7de-168db9c8c382"
      },
      "source": [
        "bm_name = ['KNN','DT ','SVM']\r\n",
        "for bm, basemodel in enumerate([KNeighborsClassifier(), DecisionTreeClassifier(), SVC(kernel='rbf')]):\r\n",
        "    \r\n",
        "    clf = BaggingClassifier(basemodel, n_estimators=30,max_samples=0.5, max_features=0.5)\r\n",
        "    \r\n",
        "    pipe  = Pipeline(steps=[('scaler', StandardScaler()),('bagged_clf', clf)])\r\n",
        "\r\n",
        "    pipe.fit(X_train, y_train)\r\n",
        "    \r\n",
        "    y_pred = pipe.predict(X_test)\r\n",
        "    \r\n",
        "    print(bm_name[bm], \"f1_score\", round(f1_score(y_test, y_pred,average='weighted'), 3))"
      ],
      "execution_count": 5,
      "outputs": [
        {
          "output_type": "stream",
          "text": [
            "KNN f1_score 0.967\n",
            "DT  f1_score 0.933\n",
            "SVM f1_score 0.967\n"
          ],
          "name": "stdout"
        }
      ]
    }
  ]
}