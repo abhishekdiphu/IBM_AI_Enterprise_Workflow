{
  "nbformat": 4,
  "nbformat_minor": 0,
  "metadata": {
    "colab": {
      "name": "decison_tree.ipynb",
      "provenance": []
    },
    "kernelspec": {
      "name": "python3",
      "display_name": "Python 3"
    }
  },
  "cells": [
    {
      "cell_type": "code",
      "metadata": {
        "id": "P64JYuCsSDqb"
      },
      "source": [
        "#!/usr/bin/env python\r\n",
        "\"\"\"\r\n",
        "\r\n",
        "\"\"\"\r\n",
        "\r\n",
        "import sys\r\n",
        "import os\r\n",
        "import re\r\n",
        "import numpy as np\r\n",
        "import pandas as pd\r\n",
        "from sklearn.impute import SimpleImputer\r\n",
        "from sklearn.metrics import classification_report\r\n",
        "from sklearn.preprocessing import StandardScaler, OneHotEncoder\r\n",
        "from sklearn.compose import ColumnTransformer\r\n",
        "from sklearn.model_selection import train_test_split\r\n",
        "from sklearn.tree import DecisionTreeClassifier, export_graphviz, plot_tree\r\n",
        "from sklearn.pipeline import Pipeline\r\n",
        "\r\n",
        "def load_data():\r\n",
        "\r\n",
        "    data_dir = os.path.join(\".\",\"sample_data\")\r\n",
        "    df = pd.read_csv(os.path.join(data_dir,r\"aavail-target.csv\"))\r\n",
        "\r\n",
        "    ## pull out the target and remove uneeded columns\r\n",
        "    _y = df.pop('is_subscriber')\r\n",
        "    y = np.zeros(_y.size)\r\n",
        "    y[_y==0] = 1 \r\n",
        "    df.drop(columns=['customer_id','customer_name'],inplace=True)\r\n",
        "    return(y,df)\r\n",
        "\r\n",
        "\r\n",
        "## variables\r\n",
        "rs = 42\r\n",
        "\r\n",
        "## preprocessing pipeline\r\n",
        "numeric_features = ['age', 'num_streams']\r\n",
        "numeric_transformer = Pipeline(steps=[\r\n",
        "    ('imputer', SimpleImputer(strategy='mean')),\r\n",
        "    ('scaler', StandardScaler())])\r\n",
        "\r\n",
        "categorical_features = ['country', 'subscriber_type']\r\n",
        "categorical_transformer = Pipeline(steps=[\r\n",
        "    ('imputer', SimpleImputer(strategy='constant', fill_value='missing')),\r\n",
        "    ('onehot', OneHotEncoder(handle_unknown='ignore'))])\r\n",
        "\r\n",
        "preprocessor = ColumnTransformer(\r\n",
        "    transformers=[\r\n",
        "        ('num', numeric_transformer, numeric_features),\r\n",
        "        ('cat', categorical_transformer, categorical_features)])\r\n",
        "\r\n",
        "    \r\n"
      ],
      "execution_count": 2,
      "outputs": []
    },
    {
      "cell_type": "code",
      "metadata": {
        "colab": {
          "base_uri": "https://localhost:8080/"
        },
        "id": "lm6WstCCdK5O",
        "outputId": "2953bd37-e489-49a9-81b8-8a2e7eb43ee0"
      },
      "source": [
        "\r\n",
        "\r\n",
        "## load the data\r\n",
        "y,df = load_data()\r\n",
        "X_train, X_test, y_train, y_test = train_test_split(df, y, test_size=0.2, stratify=y, random_state=rs)\r\n",
        "\r\n",
        "pipe  = Pipeline(steps=[('preprocessor', preprocessor),\r\n",
        "                      ('dt', DecisionTreeClassifier(min_samples_leaf=100))])\r\n",
        "\r\n",
        "pipe.fit(X_train, y_train)\r\n",
        "y_pred = pipe.predict(X_test)\r\n",
        "\r\n",
        "\r\n",
        "## extract feature names \r\n",
        "feature_names = np.hstack([numeric_features,\r\n",
        "                          preprocessor.transformers_[1][1].named_steps['onehot'].get_feature_names()])\r\n",
        "feature_names = [re.sub(\"x\\d_\",\"\",fn) for fn in feature_names]\r\n",
        "target_names = ['subscriber','churned']\r\n",
        "print(feature_names)\r\n",
        "print(classification_report(y_test, y_pred, target_names=target_names))\r\n",
        "\r\n",
        "\r\n",
        "## make plot\r\n",
        "try:\r\n",
        "  import graphviz        \r\n",
        "except:\r\n",
        "  print(\"not creating tree since graphviz is not installed\")\r\n",
        "  sys.exit()\r\n",
        "\r\n",
        "dot_data = export_graphviz(pipe['dt'], out_file=None, \r\n",
        "                              feature_names=feature_names,  \r\n",
        "                              class_names=target_names,  \r\n",
        "                              filled=True, rounded=True, \r\n",
        "                              special_characters=True)\r\n",
        "\r\n",
        "graph = graphviz.Source(dot_data)  \r\n",
        "graph.render(\"aavail_churn_dt\")\r\n",
        "print(\"Graph saved in your working directory.\")\r\n",
        "\r\n"
      ],
      "execution_count": 3,
      "outputs": [
        {
          "output_type": "stream",
          "text": [
            "['age', 'num_streams', 'singapore', 'united_states', 'aavail_basic', 'aavail_premium', 'aavail_unlimited']\n",
            "              precision    recall  f1-score   support\n",
            "\n",
            "  subscriber       0.83      0.91      0.87       142\n",
            "     churned       0.71      0.55      0.62        58\n",
            "\n",
            "    accuracy                           0.81       200\n",
            "   macro avg       0.77      0.73      0.75       200\n",
            "weighted avg       0.80      0.81      0.80       200\n",
            "\n",
            "Graph saved in your working directory.\n"
          ],
          "name": "stdout"
        }
      ]
    },
    {
      "cell_type": "code",
      "metadata": {
        "colab": {
          "base_uri": "https://localhost:8080/",
          "height": 618
        },
        "id": "Z-a_uC4ieNtS",
        "outputId": "2dfc8c34-bc69-4562-c373-d2517c43f106"
      },
      "source": [
        "graph"
      ],
      "execution_count": 4,
      "outputs": [
        {
          "output_type": "execute_result",
          "data": {
            "text/plain": [
              "<graphviz.files.Source at 0x7f748c8338d0>"
            ],
            "image/svg+xml": "<?xml version=\"1.0\" encoding=\"UTF-8\" standalone=\"no\"?>\n<!DOCTYPE svg PUBLIC \"-//W3C//DTD SVG 1.1//EN\"\n \"http://www.w3.org/Graphics/SVG/1.1/DTD/svg11.dtd\">\n<!-- Generated by graphviz version 2.40.1 (20161225.0304)\n -->\n<!-- Title: Tree Pages: 1 -->\n<svg width=\"753pt\" height=\"433pt\"\n viewBox=\"0.00 0.00 753.00 433.00\" xmlns=\"http://www.w3.org/2000/svg\" xmlns:xlink=\"http://www.w3.org/1999/xlink\">\n<g id=\"graph0\" class=\"graph\" transform=\"scale(1 1) rotate(0) translate(4 429)\">\n<title>Tree</title>\n<polygon fill=\"#ffffff\" stroke=\"transparent\" points=\"-4,4 -4,-429 749,-429 749,4 -4,4\"/>\n<!-- 0 -->\n<g id=\"node1\" class=\"node\">\n<title>0</title>\n<path fill=\"#f0b489\" stroke=\"#000000\" d=\"M344.5,-425C344.5,-425 229.5,-425 229.5,-425 223.5,-425 217.5,-419 217.5,-413 217.5,-413 217.5,-354 217.5,-354 217.5,-348 223.5,-342 229.5,-342 229.5,-342 344.5,-342 344.5,-342 350.5,-342 356.5,-348 356.5,-354 356.5,-354 356.5,-413 356.5,-413 356.5,-419 350.5,-425 344.5,-425\"/>\n<text text-anchor=\"start\" x=\"225.5\" y=\"-409.8\" font-family=\"Helvetica,sans-Serif\" font-size=\"14.00\" fill=\"#000000\">united_states ≤ 0.5</text>\n<text text-anchor=\"start\" x=\"249\" y=\"-394.8\" font-family=\"Helvetica,sans-Serif\" font-size=\"14.00\" fill=\"#000000\">gini = 0.411</text>\n<text text-anchor=\"start\" x=\"239\" y=\"-379.8\" font-family=\"Helvetica,sans-Serif\" font-size=\"14.00\" fill=\"#000000\">samples = 800</text>\n<text text-anchor=\"start\" x=\"229\" y=\"-364.8\" font-family=\"Helvetica,sans-Serif\" font-size=\"14.00\" fill=\"#000000\">value = [569, 231]</text>\n<text text-anchor=\"start\" x=\"228\" y=\"-349.8\" font-family=\"Helvetica,sans-Serif\" font-size=\"14.00\" fill=\"#000000\">class = subscriber</text>\n</g>\n<!-- 1 -->\n<g id=\"node2\" class=\"node\">\n<title>1</title>\n<path fill=\"#bddef6\" stroke=\"#000000\" d=\"M260.5,-306C260.5,-306 151.5,-306 151.5,-306 145.5,-306 139.5,-300 139.5,-294 139.5,-294 139.5,-235 139.5,-235 139.5,-229 145.5,-223 151.5,-223 151.5,-223 260.5,-223 260.5,-223 266.5,-223 272.5,-229 272.5,-235 272.5,-235 272.5,-294 272.5,-294 272.5,-300 266.5,-306 260.5,-306\"/>\n<text text-anchor=\"start\" x=\"147.5\" y=\"-290.8\" font-family=\"Helvetica,sans-Serif\" font-size=\"14.00\" fill=\"#000000\">aavail_basic ≤ 0.5</text>\n<text text-anchor=\"start\" x=\"172.5\" y=\"-275.8\" font-family=\"Helvetica,sans-Serif\" font-size=\"14.00\" fill=\"#000000\">gini = 0.48</text>\n<text text-anchor=\"start\" x=\"158\" y=\"-260.8\" font-family=\"Helvetica,sans-Serif\" font-size=\"14.00\" fill=\"#000000\">samples = 235</text>\n<text text-anchor=\"start\" x=\"152\" y=\"-245.8\" font-family=\"Helvetica,sans-Serif\" font-size=\"14.00\" fill=\"#000000\">value = [94, 141]</text>\n<text text-anchor=\"start\" x=\"154.5\" y=\"-230.8\" font-family=\"Helvetica,sans-Serif\" font-size=\"14.00\" fill=\"#000000\">class = churned</text>\n</g>\n<!-- 0&#45;&gt;1 -->\n<g id=\"edge1\" class=\"edge\">\n<title>0&#45;&gt;1</title>\n<path fill=\"none\" stroke=\"#000000\" d=\"M258.6701,-341.8796C252.7237,-333.1434 246.3914,-323.8404 240.255,-314.8253\"/>\n<polygon fill=\"#000000\" stroke=\"#000000\" points=\"242.9711,-312.5953 234.4508,-306.2981 237.1844,-316.5342 242.9711,-312.5953\"/>\n<text text-anchor=\"middle\" x=\"229.7843\" y=\"-327.1587\" font-family=\"Helvetica,sans-Serif\" font-size=\"14.00\" fill=\"#000000\">True</text>\n</g>\n<!-- 4 -->\n<g id=\"node5\" class=\"node\">\n<title>4</title>\n<path fill=\"#ea995f\" stroke=\"#000000\" d=\"M435.5,-306C435.5,-306 302.5,-306 302.5,-306 296.5,-306 290.5,-300 290.5,-294 290.5,-294 290.5,-235 290.5,-235 290.5,-229 296.5,-223 302.5,-223 302.5,-223 435.5,-223 435.5,-223 441.5,-223 447.5,-229 447.5,-235 447.5,-235 447.5,-294 447.5,-294 447.5,-300 441.5,-306 435.5,-306\"/>\n<text text-anchor=\"start\" x=\"298.5\" y=\"-290.8\" font-family=\"Helvetica,sans-Serif\" font-size=\"14.00\" fill=\"#000000\">num_streams ≤ 0.368</text>\n<text text-anchor=\"start\" x=\"331\" y=\"-275.8\" font-family=\"Helvetica,sans-Serif\" font-size=\"14.00\" fill=\"#000000\">gini = 0.268</text>\n<text text-anchor=\"start\" x=\"321\" y=\"-260.8\" font-family=\"Helvetica,sans-Serif\" font-size=\"14.00\" fill=\"#000000\">samples = 565</text>\n<text text-anchor=\"start\" x=\"315\" y=\"-245.8\" font-family=\"Helvetica,sans-Serif\" font-size=\"14.00\" fill=\"#000000\">value = [475, 90]</text>\n<text text-anchor=\"start\" x=\"310\" y=\"-230.8\" font-family=\"Helvetica,sans-Serif\" font-size=\"14.00\" fill=\"#000000\">class = subscriber</text>\n</g>\n<!-- 0&#45;&gt;4 -->\n<g id=\"edge4\" class=\"edge\">\n<title>0&#45;&gt;4</title>\n<path fill=\"none\" stroke=\"#000000\" d=\"M315.6796,-341.8796C321.7615,-333.0534 328.2422,-323.6485 334.5141,-314.5466\"/>\n<polygon fill=\"#000000\" stroke=\"#000000\" points=\"337.4059,-316.5184 340.198,-306.2981 331.6418,-312.5465 337.4059,-316.5184\"/>\n<text text-anchor=\"middle\" x=\"344.7239\" y=\"-327.185\" font-family=\"Helvetica,sans-Serif\" font-size=\"14.00\" fill=\"#000000\">False</text>\n</g>\n<!-- 2 -->\n<g id=\"node3\" class=\"node\">\n<title>2</title>\n<path fill=\"#7cbeee\" stroke=\"#000000\" d=\"M112,-179.5C112,-179.5 12,-179.5 12,-179.5 6,-179.5 0,-173.5 0,-167.5 0,-167.5 0,-123.5 0,-123.5 0,-117.5 6,-111.5 12,-111.5 12,-111.5 112,-111.5 112,-111.5 118,-111.5 124,-117.5 124,-123.5 124,-123.5 124,-167.5 124,-167.5 124,-173.5 118,-179.5 112,-179.5\"/>\n<text text-anchor=\"start\" x=\"24\" y=\"-164.3\" font-family=\"Helvetica,sans-Serif\" font-size=\"14.00\" fill=\"#000000\">gini = 0.377</text>\n<text text-anchor=\"start\" x=\"14\" y=\"-149.3\" font-family=\"Helvetica,sans-Serif\" font-size=\"14.00\" fill=\"#000000\">samples = 135</text>\n<text text-anchor=\"start\" x=\"8\" y=\"-134.3\" font-family=\"Helvetica,sans-Serif\" font-size=\"14.00\" fill=\"#000000\">value = [34, 101]</text>\n<text text-anchor=\"start\" x=\"10.5\" y=\"-119.3\" font-family=\"Helvetica,sans-Serif\" font-size=\"14.00\" fill=\"#000000\">class = churned</text>\n</g>\n<!-- 1&#45;&gt;2 -->\n<g id=\"edge2\" class=\"edge\">\n<title>1&#45;&gt;2</title>\n<path fill=\"none\" stroke=\"#000000\" d=\"M155.6358,-222.8796C141.2651,-211.0038 125.6267,-198.0804 111.3192,-186.2568\"/>\n<polygon fill=\"#000000\" stroke=\"#000000\" points=\"113.462,-183.4872 103.524,-179.8149 109.0029,-188.8831 113.462,-183.4872\"/>\n</g>\n<!-- 3 -->\n<g id=\"node4\" class=\"node\">\n<title>3</title>\n<path fill=\"#f6d5bd\" stroke=\"#000000\" d=\"M264,-179.5C264,-179.5 154,-179.5 154,-179.5 148,-179.5 142,-173.5 142,-167.5 142,-167.5 142,-123.5 142,-123.5 142,-117.5 148,-111.5 154,-111.5 154,-111.5 264,-111.5 264,-111.5 270,-111.5 276,-117.5 276,-123.5 276,-123.5 276,-167.5 276,-167.5 276,-173.5 270,-179.5 264,-179.5\"/>\n<text text-anchor=\"start\" x=\"175.5\" y=\"-164.3\" font-family=\"Helvetica,sans-Serif\" font-size=\"14.00\" fill=\"#000000\">gini = 0.48</text>\n<text text-anchor=\"start\" x=\"161\" y=\"-149.3\" font-family=\"Helvetica,sans-Serif\" font-size=\"14.00\" fill=\"#000000\">samples = 100</text>\n<text text-anchor=\"start\" x=\"159\" y=\"-134.3\" font-family=\"Helvetica,sans-Serif\" font-size=\"14.00\" fill=\"#000000\">value = [60, 40]</text>\n<text text-anchor=\"start\" x=\"150\" y=\"-119.3\" font-family=\"Helvetica,sans-Serif\" font-size=\"14.00\" fill=\"#000000\">class = subscriber</text>\n</g>\n<!-- 1&#45;&gt;3 -->\n<g id=\"edge3\" class=\"edge\">\n<title>1&#45;&gt;3</title>\n<path fill=\"none\" stroke=\"#000000\" d=\"M207.0493,-222.8796C207.3182,-212.2134 207.6084,-200.7021 207.8806,-189.9015\"/>\n<polygon fill=\"#000000\" stroke=\"#000000\" points=\"211.3817,-189.9 208.1349,-179.8149 204.3839,-189.7235 211.3817,-189.9\"/>\n</g>\n<!-- 5 -->\n<g id=\"node6\" class=\"node\">\n<title>5</title>\n<path fill=\"#e89253\" stroke=\"#000000\" d=\"M421,-187C421,-187 311,-187 311,-187 305,-187 299,-181 299,-175 299,-175 299,-116 299,-116 299,-110 305,-104 311,-104 311,-104 421,-104 421,-104 427,-104 433,-110 433,-116 433,-116 433,-175 433,-175 433,-181 427,-187 421,-187\"/>\n<text text-anchor=\"start\" x=\"325\" y=\"-171.8\" font-family=\"Helvetica,sans-Serif\" font-size=\"14.00\" fill=\"#000000\">age ≤ &#45;0.221</text>\n<text text-anchor=\"start\" x=\"328\" y=\"-156.8\" font-family=\"Helvetica,sans-Serif\" font-size=\"14.00\" fill=\"#000000\">gini = 0.206</text>\n<text text-anchor=\"start\" x=\"318\" y=\"-141.8\" font-family=\"Helvetica,sans-Serif\" font-size=\"14.00\" fill=\"#000000\">samples = 275</text>\n<text text-anchor=\"start\" x=\"312\" y=\"-126.8\" font-family=\"Helvetica,sans-Serif\" font-size=\"14.00\" fill=\"#000000\">value = [243, 32]</text>\n<text text-anchor=\"start\" x=\"307\" y=\"-111.8\" font-family=\"Helvetica,sans-Serif\" font-size=\"14.00\" fill=\"#000000\">class = subscriber</text>\n</g>\n<!-- 4&#45;&gt;5 -->\n<g id=\"edge5\" class=\"edge\">\n<title>4&#45;&gt;5</title>\n<path fill=\"none\" stroke=\"#000000\" d=\"M367.9507,-222.8796C367.7441,-214.6838 367.5249,-205.9891 367.311,-197.5013\"/>\n<polygon fill=\"#000000\" stroke=\"#000000\" points=\"370.8047,-197.2067 367.0537,-187.2981 363.807,-197.3831 370.8047,-197.2067\"/>\n</g>\n<!-- 8 -->\n<g id=\"node9\" class=\"node\">\n<title>8</title>\n<path fill=\"#eca06a\" stroke=\"#000000\" d=\"M594.5,-187C594.5,-187 463.5,-187 463.5,-187 457.5,-187 451.5,-181 451.5,-175 451.5,-175 451.5,-116 451.5,-116 451.5,-110 457.5,-104 463.5,-104 463.5,-104 594.5,-104 594.5,-104 600.5,-104 606.5,-110 606.5,-116 606.5,-116 606.5,-175 606.5,-175 606.5,-181 600.5,-187 594.5,-187\"/>\n<text text-anchor=\"start\" x=\"459.5\" y=\"-171.8\" font-family=\"Helvetica,sans-Serif\" font-size=\"14.00\" fill=\"#000000\">aavail_premium ≤ 0.5</text>\n<text text-anchor=\"start\" x=\"495.5\" y=\"-156.8\" font-family=\"Helvetica,sans-Serif\" font-size=\"14.00\" fill=\"#000000\">gini = 0.32</text>\n<text text-anchor=\"start\" x=\"481\" y=\"-141.8\" font-family=\"Helvetica,sans-Serif\" font-size=\"14.00\" fill=\"#000000\">samples = 290</text>\n<text text-anchor=\"start\" x=\"475\" y=\"-126.8\" font-family=\"Helvetica,sans-Serif\" font-size=\"14.00\" fill=\"#000000\">value = [232, 58]</text>\n<text text-anchor=\"start\" x=\"470\" y=\"-111.8\" font-family=\"Helvetica,sans-Serif\" font-size=\"14.00\" fill=\"#000000\">class = subscriber</text>\n</g>\n<!-- 4&#45;&gt;8 -->\n<g id=\"edge8\" class=\"edge\">\n<title>4&#45;&gt;8</title>\n<path fill=\"none\" stroke=\"#000000\" d=\"M424.9602,-222.8796C437.8708,-213.2774 451.7021,-202.9903 464.9282,-193.1534\"/>\n<polygon fill=\"#000000\" stroke=\"#000000\" points=\"467.1361,-195.8732 473.0714,-187.0969 462.9586,-190.2564 467.1361,-195.8732\"/>\n</g>\n<!-- 6 -->\n<g id=\"node7\" class=\"node\">\n<title>6</title>\n<path fill=\"#e99457\" stroke=\"#000000\" d=\"M272,-68C272,-68 162,-68 162,-68 156,-68 150,-62 150,-56 150,-56 150,-12 150,-12 150,-6 156,0 162,0 162,0 272,0 272,0 278,0 284,-6 284,-12 284,-12 284,-56 284,-56 284,-62 278,-68 272,-68\"/>\n<text text-anchor=\"start\" x=\"179\" y=\"-52.8\" font-family=\"Helvetica,sans-Serif\" font-size=\"14.00\" fill=\"#000000\">gini = 0.229</text>\n<text text-anchor=\"start\" x=\"169\" y=\"-37.8\" font-family=\"Helvetica,sans-Serif\" font-size=\"14.00\" fill=\"#000000\">samples = 106</text>\n<text text-anchor=\"start\" x=\"167\" y=\"-22.8\" font-family=\"Helvetica,sans-Serif\" font-size=\"14.00\" fill=\"#000000\">value = [92, 14]</text>\n<text text-anchor=\"start\" x=\"158\" y=\"-7.8\" font-family=\"Helvetica,sans-Serif\" font-size=\"14.00\" fill=\"#000000\">class = subscriber</text>\n</g>\n<!-- 5&#45;&gt;6 -->\n<g id=\"edge6\" class=\"edge\">\n<title>5&#45;&gt;6</title>\n<path fill=\"none\" stroke=\"#000000\" d=\"M310.5179,-103.9815C297.6221,-94.3313 283.9116,-84.0714 271.0773,-74.4673\"/>\n<polygon fill=\"#000000\" stroke=\"#000000\" points=\"272.8908,-71.4528 262.7873,-68.2637 268.6968,-77.0574 272.8908,-71.4528\"/>\n</g>\n<!-- 7 -->\n<g id=\"node8\" class=\"node\">\n<title>7</title>\n<path fill=\"#e89051\" stroke=\"#000000\" d=\"M424,-68C424,-68 314,-68 314,-68 308,-68 302,-62 302,-56 302,-56 302,-12 302,-12 302,-6 308,0 314,0 314,0 424,0 424,0 430,0 436,-6 436,-12 436,-12 436,-56 436,-56 436,-62 430,-68 424,-68\"/>\n<text text-anchor=\"start\" x=\"335.5\" y=\"-52.8\" font-family=\"Helvetica,sans-Serif\" font-size=\"14.00\" fill=\"#000000\">gini = 0.19</text>\n<text text-anchor=\"start\" x=\"321\" y=\"-37.8\" font-family=\"Helvetica,sans-Serif\" font-size=\"14.00\" fill=\"#000000\">samples = 169</text>\n<text text-anchor=\"start\" x=\"315\" y=\"-22.8\" font-family=\"Helvetica,sans-Serif\" font-size=\"14.00\" fill=\"#000000\">value = [151, 18]</text>\n<text text-anchor=\"start\" x=\"310\" y=\"-7.8\" font-family=\"Helvetica,sans-Serif\" font-size=\"14.00\" fill=\"#000000\">class = subscriber</text>\n</g>\n<!-- 5&#45;&gt;7 -->\n<g id=\"edge7\" class=\"edge\">\n<title>5&#45;&gt;7</title>\n<path fill=\"none\" stroke=\"#000000\" d=\"M367.1171,-103.9815C367.3421,-95.618 367.5795,-86.7965 367.807,-78.3409\"/>\n<polygon fill=\"#000000\" stroke=\"#000000\" points=\"371.3078,-78.3542 368.0781,-68.2637 364.3103,-78.1659 371.3078,-78.3542\"/>\n</g>\n<!-- 9 -->\n<g id=\"node10\" class=\"node\">\n<title>9</title>\n<path fill=\"#eb9c64\" stroke=\"#000000\" d=\"M581,-68C581,-68 471,-68 471,-68 465,-68 459,-62 459,-56 459,-56 459,-12 459,-12 459,-6 465,0 471,0 471,0 581,0 581,0 587,0 593,-6 593,-12 593,-12 593,-56 593,-56 593,-62 587,-68 581,-68\"/>\n<text text-anchor=\"start\" x=\"488\" y=\"-52.8\" font-family=\"Helvetica,sans-Serif\" font-size=\"14.00\" fill=\"#000000\">gini = 0.294</text>\n<text text-anchor=\"start\" x=\"478\" y=\"-37.8\" font-family=\"Helvetica,sans-Serif\" font-size=\"14.00\" fill=\"#000000\">samples = 179</text>\n<text text-anchor=\"start\" x=\"472\" y=\"-22.8\" font-family=\"Helvetica,sans-Serif\" font-size=\"14.00\" fill=\"#000000\">value = [147, 32]</text>\n<text text-anchor=\"start\" x=\"467\" y=\"-7.8\" font-family=\"Helvetica,sans-Serif\" font-size=\"14.00\" fill=\"#000000\">class = subscriber</text>\n</g>\n<!-- 8&#45;&gt;9 -->\n<g id=\"edge9\" class=\"edge\">\n<title>8&#45;&gt;9</title>\n<path fill=\"none\" stroke=\"#000000\" d=\"M527.8829,-103.9815C527.6579,-95.618 527.4205,-86.7965 527.193,-78.3409\"/>\n<polygon fill=\"#000000\" stroke=\"#000000\" points=\"530.6897,-78.1659 526.9219,-68.2637 523.6922,-78.3542 530.6897,-78.1659\"/>\n</g>\n<!-- 10 -->\n<g id=\"node11\" class=\"node\">\n<title>10</title>\n<path fill=\"#eda876\" stroke=\"#000000\" d=\"M733,-68C733,-68 623,-68 623,-68 617,-68 611,-62 611,-56 611,-56 611,-12 611,-12 611,-6 617,0 623,0 623,0 733,0 733,0 739,0 745,-6 745,-12 745,-12 745,-56 745,-56 745,-62 739,-68 733,-68\"/>\n<text text-anchor=\"start\" x=\"640\" y=\"-52.8\" font-family=\"Helvetica,sans-Serif\" font-size=\"14.00\" fill=\"#000000\">gini = 0.359</text>\n<text text-anchor=\"start\" x=\"630\" y=\"-37.8\" font-family=\"Helvetica,sans-Serif\" font-size=\"14.00\" fill=\"#000000\">samples = 111</text>\n<text text-anchor=\"start\" x=\"628\" y=\"-22.8\" font-family=\"Helvetica,sans-Serif\" font-size=\"14.00\" fill=\"#000000\">value = [85, 26]</text>\n<text text-anchor=\"start\" x=\"619\" y=\"-7.8\" font-family=\"Helvetica,sans-Serif\" font-size=\"14.00\" fill=\"#000000\">class = subscriber</text>\n</g>\n<!-- 8&#45;&gt;10 -->\n<g id=\"edge10\" class=\"edge\">\n<title>8&#45;&gt;10</title>\n<path fill=\"none\" stroke=\"#000000\" d=\"M584.4821,-103.9815C597.3779,-94.3313 611.0884,-84.0714 623.9227,-74.4673\"/>\n<polygon fill=\"#000000\" stroke=\"#000000\" points=\"626.3032,-77.0574 632.2127,-68.2637 622.1092,-71.4528 626.3032,-77.0574\"/>\n</g>\n</g>\n</svg>\n"
          },
          "metadata": {
            "tags": []
          },
          "execution_count": 4
        }
      ]
    },
    {
      "cell_type": "code",
      "metadata": {
        "id": "uwDHr-gKch85"
      },
      "source": [
        ""
      ],
      "execution_count": null,
      "outputs": []
    }
  ]
}