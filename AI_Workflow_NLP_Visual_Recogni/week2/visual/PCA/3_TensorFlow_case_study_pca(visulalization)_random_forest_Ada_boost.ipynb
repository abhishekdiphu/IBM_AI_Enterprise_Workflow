{
  "nbformat": 4,
  "nbformat_minor": 0,
  "metadata": {
    "kernelspec": {
      "display_name": "Python 3",
      "language": "python",
      "name": "python3"
    },
    "language_info": {
      "codemirror_mode": {
        "name": "ipython",
        "version": 3
      },
      "file_extension": ".py",
      "mimetype": "text/x-python",
      "name": "python",
      "nbconvert_exporter": "python",
      "pygments_lexer": "ipython3",
      "version": "3.7.3"
    },
    "colab": {
      "name": "3. TensorFlow-case-study-pca(visulalization)_random_forest_Ada_boost.ipynb",
      "provenance": [],
      "toc_visible": true
    }
  },
  "cells": [
    {
      "cell_type": "markdown",
      "metadata": {
        "id": "L3pU44naFhbZ"
      },
      "source": [
        "![ibm-cloud.png](attachment:ibm-cloud.png)\n",
        "# CASE STUDY - convolutional neural networks"
      ]
    },
    {
      "cell_type": "code",
      "metadata": {
        "id": "NiyHk8ZDFhbi"
      },
      "source": [
        "from __future__ import absolute_import, division, print_function, unicode_literals\n",
        "\n",
        "import os\n",
        "import csv\n",
        "import joblib\n",
        "import time\n",
        "from collections import Counter\n",
        "import numpy as np\n",
        "import pandas as pd\n",
        "from tensorflow import keras\n",
        "from tensorflow.keras.utils import to_categorical\n",
        "import matplotlib.pyplot as plt\n",
        "\n",
        "from sklearn.ensemble import RandomForestClassifier\n",
        "from sklearn.preprocessing import StandardScaler\n",
        "from sklearn.pipeline import Pipeline\n",
        "from sklearn.metrics import classification_report\n",
        "from sklearn.decomposition import PCA\n",
        "\n",
        "plt.style.use('seaborn')\n",
        "%matplotlib inline"
      ],
      "execution_count": 1,
      "outputs": []
    },
    {
      "cell_type": "markdown",
      "metadata": {
        "id": "sd5IlwTcFhbi"
      },
      "source": [
        "Synopsis\n",
        "----------\n",
        "\n",
        "You were hired at AAVAIL to be a member of a data science team that works closely together.  Some of your first projects\n",
        "are meant to help marketing with customer retention and to investigate market specific trends. There are also some\n",
        "projects relating to user comments that are getting off the ground.  However, you will also be working alongside\n",
        "the deep-learning specialists that maintain the core product at AAVAIL---its audio and visual manipulation models.\n",
        "\n",
        "Because the team meets regularly all new data science hires are expected to go through a series deep-learning tutorials\n",
        "to ensure that they can contribute to conversations about the core product.   The first in this series is the following\n",
        "tutorial on CNNs.  You will be guided through the following parts.\n",
        "\n",
        "  1. Environment setup\n",
        "  2. Model scaffolding using Keras\n",
        "  3. Logging and Model serialization\n",
        "  4. Model iteration"
      ]
    },
    {
      "cell_type": "markdown",
      "metadata": {
        "id": "OUAKRkh7Fhbk"
      },
      "source": [
        "## Fashion MNIST\n",
        "\n",
        ">One project that the data science team at AAVAIL has been tasked with is ensuring that the video feeds are in fact news video feeds.  There are people that are performing quality assurance on these feeds, but eventually the data science team will need to build a service that samples a number of frames from a video, then identifies objects in the images, flagging for review any feeds that may be different.\n",
        "\n",
        "A solid benchmark dataset for this task is the Fashion MNIST dataset.  \n",
        "\n",
        "* training set - 60,000 images\n",
        "* test set - 10,000 images\n",
        "* images are 28 pixels x 28 pixels\n",
        "* classes: T-shirt/top, Trouser, Pullover, Dress, Coat, Sandal, Shirt, Sneaker, Bag, Ankle boot"
      ]
    },
    {
      "cell_type": "markdown",
      "metadata": {
        "id": "JxZCXus7Fhbl"
      },
      "source": [
        "## PART 1 - environment setup"
      ]
    },
    {
      "cell_type": "code",
      "metadata": {
        "colab": {
          "base_uri": "https://localhost:8080/"
        },
        "id": "mx5a_44EFhbp",
        "outputId": "0a4f1fe7-28af-48ec-8764-8818919ed386"
      },
      "source": [
        "## if you wish to work with tensorflow v1 then ask it to emulate version 2 behavior\n",
        "import tensorflow.compat.v2 as tf\n",
        "tf.enable_v2_behavior()\n",
        "print(tf.__version__)\n",
        "\n",
        "## check hardware availability\n",
        "from tensorflow.python.client import device_lib\n",
        "print(device_lib.list_local_devices())"
      ],
      "execution_count": 2,
      "outputs": [
        {
          "output_type": "stream",
          "text": [
            "2.4.0\n",
            "[name: \"/device:CPU:0\"\n",
            "device_type: \"CPU\"\n",
            "memory_limit: 268435456\n",
            "locality {\n",
            "}\n",
            "incarnation: 17698929305962579333\n",
            "]\n"
          ],
          "name": "stdout"
        }
      ]
    },
    {
      "cell_type": "code",
      "metadata": {
        "colab": {
          "base_uri": "https://localhost:8080/"
        },
        "id": "Es6tfAKDFhbq",
        "outputId": "8d35eec7-b52b-465c-a216-eb0a3d9be0ff"
      },
      "source": [
        "### load the data  \n",
        "fashion_mnist = keras.datasets.fashion_mnist\n",
        "(train_images, train_labels), (test_images, test_labels) = fashion_mnist.load_data() \n",
        "class_names = ['T-shirt/top', 'Trouser', 'Pullover', 'Dress', 'Coat', 'Sandal', 'Shirt', \n",
        "               'Sneaker', 'Bag', 'Ankle boot']\n",
        "num_classes = len(class_names)\n",
        "\n",
        "## Normalize pixel values to be between 0 and 1\n",
        "train_images, test_images = train_images / 255.0, test_images / 255.0\n",
        "\n",
        "X_train = train_images\n",
        "X_test = test_images\n",
        "y_train = train_labels\n",
        "y_test = test_labels"
      ],
      "execution_count": 3,
      "outputs": [
        {
          "output_type": "stream",
          "text": [
            "Downloading data from https://storage.googleapis.com/tensorflow/tf-keras-datasets/train-labels-idx1-ubyte.gz\n",
            "32768/29515 [=================================] - 0s 0us/step\n",
            "Downloading data from https://storage.googleapis.com/tensorflow/tf-keras-datasets/train-images-idx3-ubyte.gz\n",
            "26427392/26421880 [==============================] - 0s 0us/step\n",
            "Downloading data from https://storage.googleapis.com/tensorflow/tf-keras-datasets/t10k-labels-idx1-ubyte.gz\n",
            "8192/5148 [===============================================] - 0s 0us/step\n",
            "Downloading data from https://storage.googleapis.com/tensorflow/tf-keras-datasets/t10k-images-idx3-ubyte.gz\n",
            "4423680/4422102 [==============================] - 0s 0us/step\n"
          ],
          "name": "stdout"
        }
      ]
    },
    {
      "cell_type": "markdown",
      "metadata": {
        "id": "StAStb5RFhbr"
      },
      "source": [
        "### QUESTION 1\n",
        "\n",
        "Visualize a sample of the images to QA the data set (for instance plot one image of each class). Then, print a summary of the data (for instance, the shape of training set, the shape of the test set, the number of sample per class...)."
      ]
    },
    {
      "cell_type": "code",
      "metadata": {
        "colab": {
          "base_uri": "https://localhost:8080/",
          "height": 838
        },
        "id": "8WaS6KfrFhbs",
        "outputId": "b16c42a3-4504-41a7-b479-6890dce0d1b0"
      },
      "source": [
        "## YOUR CODE HERE (visualization code)\n",
        "\n",
        "def show_img(img_ind):\n",
        "    fig = plt.figure(figsize=(6,4),dpi=150,facecolor='white')\n",
        "    ax = fig.add_subplot(111)\n",
        "\n",
        "    ax.imshow(train_images[img_ind])\n",
        "    ax.grid(False)\n",
        "    ax.set_title(class_names[train_labels[img_ind]])\n",
        "    \n",
        "fig = plt.figure(figsize=(10,8),dpi=150,facecolor='white')\n",
        "offset = 25\n",
        "for i in range(25):\n",
        "    ax = fig.add_subplot(5,5,i+1)\n",
        "    ax.set_xticks([])\n",
        "    ax.set_yticks([])\n",
        "    ax.grid(False)\n",
        "    ax.imshow(train_images[i+offset], cmap=plt.cm.binary)\n",
        "    ax.set_xlabel(class_names[train_labels[i+offset]])\n"
      ],
      "execution_count": 4,
      "outputs": [
        {
          "output_type": "display_data",
          "data": {
            "image/png": "[encoded data removed]",
            "text/plain": [
              "<Figure size 1500x1200 with 25 Axes>"
            ]
          },
          "metadata": {
            "tags": []
          }
        }
      ]
    },
    {
      "cell_type": "code",
      "metadata": {
        "colab": {
          "base_uri": "https://localhost:8080/"
        },
        "id": "axcsxemHFhbt",
        "outputId": "1e5bcb5c-8fc3-4c3d-b0c2-da7d142b4ee1"
      },
      "source": [
        "## YOUR CODE HERE (Summarize the data)\n",
        "\n",
        "print(\"-------------------------------------------\")\n",
        "print(\"X_train: {}\".format(X_train.shape))\n",
        "class_info = list(sorted(Counter(y_train).items()))\n",
        "print(\"num classes: {}, classes: {}\".format(len(class_info), [i[0] for i in class_info]))\n",
        "print(\"class samples: {}\".format([i[1] for i in class_info]))\n",
        "print(\"class balance: {}\".format([round(i[1]/X_train.shape[0],2) for i in class_info]))\n",
        "print(\"-------------------------------------------\")\n"
      ],
      "execution_count": 5,
      "outputs": [
        {
          "output_type": "stream",
          "text": [
            "-------------------------------------------\n",
            "X_train: (60000, 28, 28)\n",
            "num classes: 10, classes: [0, 1, 2, 3, 4, 5, 6, 7, 8, 9]\n",
            "class samples: [6000, 6000, 6000, 6000, 6000, 6000, 6000, 6000, 6000, 6000]\n",
            "class balance: [0.1, 0.1, 0.1, 0.1, 0.1, 0.1, 0.1, 0.1, 0.1, 0.1]\n",
            "-------------------------------------------\n"
          ],
          "name": "stdout"
        }
      ]
    },
    {
      "cell_type": "markdown",
      "metadata": {
        "id": "s-5PQPWfFhbu"
      },
      "source": [
        "Take a moment to understand how the data set is built, especially what are the 3 dimensions of X_train and X_test."
      ]
    },
    {
      "cell_type": "markdown",
      "metadata": {
        "id": "5HGNFH2BFhbv"
      },
      "source": [
        "### QUESTION 2\n",
        "\n",
        "In this question you are asked to build a base model. The base model that we want to build is composed of a PCA model followed by a classic machine learning classifier. The PCA takes as input the images that have been flattened and creates a representation of the images with few features (the first n principal components). Then, the classifier will classify the images based on this reduced representation. Following the best practices we will create a sklearn Pipeline. You are free to use the classifier that you think will perform best in this pipeline."
      ]
    },
    {
      "cell_type": "code",
      "metadata": {
        "colab": {
          "base_uri": "https://localhost:8080/"
        },
        "id": "1bdbimVPFhbv",
        "outputId": "8bc80f72-4ff9-4ce6-df23-897041d774e1"
      },
      "source": [
        "## YOUR CODE HERE (Replace the symbole #<> with your code)\n",
        "\n",
        "# First we flatten the images to have a data shape that can be ingested by the PCA model.\n",
        "# Take a moment to understand what does this function (flatten()) do to the images \n",
        "# and why this step is necessary.\n",
        "X_train_flat = np.array([i.flatten() for i in train_images])\n",
        "print(X_train_flat.shape)\n",
        "X_test_flat = np.array([i.flatten() for i in test_images])\n",
        "print(X_test_flat.shape)"
      ],
      "execution_count": 11,
      "outputs": [
        {
          "output_type": "stream",
          "text": [
            "(60000, 784)\n",
            "(10000, 784)\n"
          ],
          "name": "stdout"
        }
      ]
    },
    {
      "cell_type": "code",
      "metadata": {
        "id": "rvPPZUR-GNmP"
      },
      "source": [
        "pca = PCA(n_components=500)\r\n",
        "df_pca = pca.fit_transform(X=X_train_flat) "
      ],
      "execution_count": 12,
      "outputs": []
    },
    {
      "cell_type": "code",
      "metadata": {
        "colab": {
          "base_uri": "https://localhost:8080/",
          "height": 262
        },
        "id": "KIUb4mTfIOa3",
        "outputId": "18e7fab3-2255-48ba-ec81-eb7bdab1866b"
      },
      "source": [
        "# Store as dataframe and print\r\n",
        "df_pca = pd.DataFrame(df_pca)\r\n",
        "print(df_pca.shape)  #> (3147, 784)\r\n",
        "df_pca.round(2).head()"
      ],
      "execution_count": 14,
      "outputs": [
        {
          "output_type": "stream",
          "text": [
            "(60000, 500)\n"
          ],
          "name": "stdout"
        },
        {
          "output_type": "execute_result",
          "data": {
            "text/html": [
              "<div>\n",
              "<style scoped>\n",
              "    .dataframe tbody tr th:only-of-type {\n",
              "        vertical-align: middle;\n",
              "    }\n",
              "\n",
              "    .dataframe tbody tr th {\n",
              "        vertical-align: top;\n",
              "    }\n",
              "\n",
              "    .dataframe thead th {\n",
              "        text-align: right;\n",
              "    }\n",
              "</style>\n",
              "<table border=\"1\" class=\"dataframe\">\n",
              "  <thead>\n",
              "    <tr style=\"text-align: right;\">\n",
              "      <th></th>\n",
              "      <th>0</th>\n",
              "      <th>1</th>\n",
              "      <th>2</th>\n",
              "      <th>3</th>\n",
              "      <th>4</th>\n",
              "      <th>5</th>\n",
              "      <th>6</th>\n",
              "      <th>7</th>\n",
              "      <th>8</th>\n",
              "      <th>9</th>\n",
              "      <th>10</th>\n",
              "      <th>11</th>\n",
              "      <th>12</th>\n",
              "      <th>13</th>\n",
              "      <th>14</th>\n",
              "      <th>15</th>\n",
              "      <th>16</th>\n",
              "      <th>17</th>\n",
              "      <th>18</th>\n",
              "      <th>19</th>\n",
              "      <th>20</th>\n",
              "      <th>21</th>\n",
              "      <th>22</th>\n",
              "      <th>23</th>\n",
              "      <th>24</th>\n",
              "      <th>25</th>\n",
              "      <th>26</th>\n",
              "      <th>27</th>\n",
              "      <th>28</th>\n",
              "      <th>29</th>\n",
              "      <th>30</th>\n",
              "      <th>31</th>\n",
              "      <th>32</th>\n",
              "      <th>33</th>\n",
              "      <th>34</th>\n",
              "      <th>35</th>\n",
              "      <th>36</th>\n",
              "      <th>37</th>\n",
              "      <th>38</th>\n",
              "      <th>39</th>\n",
              "      <th>...</th>\n",
              "      <th>460</th>\n",
              "      <th>461</th>\n",
              "      <th>462</th>\n",
              "      <th>463</th>\n",
              "      <th>464</th>\n",
              "      <th>465</th>\n",
              "      <th>466</th>\n",
              "      <th>467</th>\n",
              "      <th>468</th>\n",
              "      <th>469</th>\n",
              "      <th>470</th>\n",
              "      <th>471</th>\n",
              "      <th>472</th>\n",
              "      <th>473</th>\n",
              "      <th>474</th>\n",
              "      <th>475</th>\n",
              "      <th>476</th>\n",
              "      <th>477</th>\n",
              "      <th>478</th>\n",
              "      <th>479</th>\n",
              "      <th>480</th>\n",
              "      <th>481</th>\n",
              "      <th>482</th>\n",
              "      <th>483</th>\n",
              "      <th>484</th>\n",
              "      <th>485</th>\n",
              "      <th>486</th>\n",
              "      <th>487</th>\n",
              "      <th>488</th>\n",
              "      <th>489</th>\n",
              "      <th>490</th>\n",
              "      <th>491</th>\n",
              "      <th>492</th>\n",
              "      <th>493</th>\n",
              "      <th>494</th>\n",
              "      <th>495</th>\n",
              "      <th>496</th>\n",
              "      <th>497</th>\n",
              "      <th>498</th>\n",
              "      <th>499</th>\n",
              "    </tr>\n",
              "  </thead>\n",
              "  <tbody>\n",
              "    <tr>\n",
              "      <th>0</th>\n",
              "      <td>-0.49</td>\n",
              "      <td>6.40</td>\n",
              "      <td>-4.75</td>\n",
              "      <td>0.94</td>\n",
              "      <td>-0.01</td>\n",
              "      <td>-1.59</td>\n",
              "      <td>-0.36</td>\n",
              "      <td>0.79</td>\n",
              "      <td>-0.13</td>\n",
              "      <td>-0.12</td>\n",
              "      <td>0.58</td>\n",
              "      <td>-0.26</td>\n",
              "      <td>0.19</td>\n",
              "      <td>-0.54</td>\n",
              "      <td>0.44</td>\n",
              "      <td>-0.18</td>\n",
              "      <td>0.46</td>\n",
              "      <td>-0.76</td>\n",
              "      <td>1.67</td>\n",
              "      <td>-0.82</td>\n",
              "      <td>-0.57</td>\n",
              "      <td>0.66</td>\n",
              "      <td>0.39</td>\n",
              "      <td>-0.15</td>\n",
              "      <td>0.85</td>\n",
              "      <td>0.16</td>\n",
              "      <td>-0.43</td>\n",
              "      <td>-0.45</td>\n",
              "      <td>-0.44</td>\n",
              "      <td>0.38</td>\n",
              "      <td>-0.36</td>\n",
              "      <td>-1.23</td>\n",
              "      <td>-0.24</td>\n",
              "      <td>-0.11</td>\n",
              "      <td>-0.16</td>\n",
              "      <td>-0.27</td>\n",
              "      <td>0.16</td>\n",
              "      <td>-0.57</td>\n",
              "      <td>0.05</td>\n",
              "      <td>-0.50</td>\n",
              "      <td>...</td>\n",
              "      <td>0.05</td>\n",
              "      <td>0.09</td>\n",
              "      <td>0.24</td>\n",
              "      <td>-0.10</td>\n",
              "      <td>0.07</td>\n",
              "      <td>-0.06</td>\n",
              "      <td>-0.20</td>\n",
              "      <td>-0.07</td>\n",
              "      <td>0.03</td>\n",
              "      <td>-0.07</td>\n",
              "      <td>-0.04</td>\n",
              "      <td>-0.19</td>\n",
              "      <td>0.07</td>\n",
              "      <td>0.17</td>\n",
              "      <td>0.01</td>\n",
              "      <td>-0.04</td>\n",
              "      <td>0.02</td>\n",
              "      <td>-0.01</td>\n",
              "      <td>0.07</td>\n",
              "      <td>0.20</td>\n",
              "      <td>-0.12</td>\n",
              "      <td>0.05</td>\n",
              "      <td>0.12</td>\n",
              "      <td>0.06</td>\n",
              "      <td>-0.03</td>\n",
              "      <td>-0.04</td>\n",
              "      <td>-0.02</td>\n",
              "      <td>-0.13</td>\n",
              "      <td>0.09</td>\n",
              "      <td>0.09</td>\n",
              "      <td>0.03</td>\n",
              "      <td>-0.00</td>\n",
              "      <td>-0.08</td>\n",
              "      <td>-0.04</td>\n",
              "      <td>0.08</td>\n",
              "      <td>0.04</td>\n",
              "      <td>0.22</td>\n",
              "      <td>-0.02</td>\n",
              "      <td>0.03</td>\n",
              "      <td>-0.06</td>\n",
              "    </tr>\n",
              "    <tr>\n",
              "      <th>1</th>\n",
              "      <td>5.52</td>\n",
              "      <td>-1.77</td>\n",
              "      <td>-1.02</td>\n",
              "      <td>1.44</td>\n",
              "      <td>0.84</td>\n",
              "      <td>4.98</td>\n",
              "      <td>-0.58</td>\n",
              "      <td>-0.88</td>\n",
              "      <td>-0.45</td>\n",
              "      <td>-0.90</td>\n",
              "      <td>0.01</td>\n",
              "      <td>0.74</td>\n",
              "      <td>-0.99</td>\n",
              "      <td>-1.00</td>\n",
              "      <td>0.16</td>\n",
              "      <td>-0.41</td>\n",
              "      <td>1.14</td>\n",
              "      <td>1.43</td>\n",
              "      <td>0.10</td>\n",
              "      <td>0.91</td>\n",
              "      <td>0.00</td>\n",
              "      <td>0.37</td>\n",
              "      <td>-0.43</td>\n",
              "      <td>0.33</td>\n",
              "      <td>0.67</td>\n",
              "      <td>-0.92</td>\n",
              "      <td>-0.19</td>\n",
              "      <td>-0.09</td>\n",
              "      <td>0.84</td>\n",
              "      <td>-0.68</td>\n",
              "      <td>-0.02</td>\n",
              "      <td>0.24</td>\n",
              "      <td>0.14</td>\n",
              "      <td>-0.63</td>\n",
              "      <td>0.43</td>\n",
              "      <td>0.27</td>\n",
              "      <td>0.44</td>\n",
              "      <td>-0.12</td>\n",
              "      <td>-0.10</td>\n",
              "      <td>-0.20</td>\n",
              "      <td>...</td>\n",
              "      <td>-0.03</td>\n",
              "      <td>-0.07</td>\n",
              "      <td>-0.02</td>\n",
              "      <td>0.01</td>\n",
              "      <td>-0.12</td>\n",
              "      <td>0.07</td>\n",
              "      <td>0.05</td>\n",
              "      <td>0.10</td>\n",
              "      <td>0.01</td>\n",
              "      <td>0.02</td>\n",
              "      <td>0.03</td>\n",
              "      <td>0.03</td>\n",
              "      <td>-0.05</td>\n",
              "      <td>0.00</td>\n",
              "      <td>0.00</td>\n",
              "      <td>-0.02</td>\n",
              "      <td>-0.05</td>\n",
              "      <td>-0.03</td>\n",
              "      <td>0.05</td>\n",
              "      <td>-0.02</td>\n",
              "      <td>0.11</td>\n",
              "      <td>0.01</td>\n",
              "      <td>0.01</td>\n",
              "      <td>-0.12</td>\n",
              "      <td>0.03</td>\n",
              "      <td>0.03</td>\n",
              "      <td>-0.02</td>\n",
              "      <td>0.01</td>\n",
              "      <td>0.02</td>\n",
              "      <td>0.03</td>\n",
              "      <td>-0.02</td>\n",
              "      <td>-0.01</td>\n",
              "      <td>-0.04</td>\n",
              "      <td>0.08</td>\n",
              "      <td>-0.04</td>\n",
              "      <td>-0.11</td>\n",
              "      <td>0.01</td>\n",
              "      <td>-0.08</td>\n",
              "      <td>0.04</td>\n",
              "      <td>-0.01</td>\n",
              "    </tr>\n",
              "    <tr>\n",
              "      <th>2</th>\n",
              "      <td>-2.85</td>\n",
              "      <td>-4.32</td>\n",
              "      <td>0.42</td>\n",
              "      <td>0.82</td>\n",
              "      <td>-0.41</td>\n",
              "      <td>-0.21</td>\n",
              "      <td>-0.01</td>\n",
              "      <td>0.20</td>\n",
              "      <td>-0.36</td>\n",
              "      <td>-0.33</td>\n",
              "      <td>0.44</td>\n",
              "      <td>-0.36</td>\n",
              "      <td>0.40</td>\n",
              "      <td>-0.35</td>\n",
              "      <td>-0.37</td>\n",
              "      <td>-0.21</td>\n",
              "      <td>-0.16</td>\n",
              "      <td>0.24</td>\n",
              "      <td>0.43</td>\n",
              "      <td>-0.21</td>\n",
              "      <td>0.92</td>\n",
              "      <td>0.33</td>\n",
              "      <td>-0.20</td>\n",
              "      <td>0.02</td>\n",
              "      <td>0.37</td>\n",
              "      <td>0.36</td>\n",
              "      <td>-0.14</td>\n",
              "      <td>-0.45</td>\n",
              "      <td>0.30</td>\n",
              "      <td>0.41</td>\n",
              "      <td>-0.43</td>\n",
              "      <td>0.46</td>\n",
              "      <td>0.40</td>\n",
              "      <td>-0.35</td>\n",
              "      <td>0.33</td>\n",
              "      <td>-0.59</td>\n",
              "      <td>-0.15</td>\n",
              "      <td>0.61</td>\n",
              "      <td>0.18</td>\n",
              "      <td>-0.07</td>\n",
              "      <td>...</td>\n",
              "      <td>-0.05</td>\n",
              "      <td>-0.00</td>\n",
              "      <td>-0.02</td>\n",
              "      <td>-0.04</td>\n",
              "      <td>-0.03</td>\n",
              "      <td>0.03</td>\n",
              "      <td>0.01</td>\n",
              "      <td>0.03</td>\n",
              "      <td>0.02</td>\n",
              "      <td>-0.02</td>\n",
              "      <td>-0.01</td>\n",
              "      <td>0.03</td>\n",
              "      <td>0.00</td>\n",
              "      <td>0.01</td>\n",
              "      <td>-0.00</td>\n",
              "      <td>0.01</td>\n",
              "      <td>-0.04</td>\n",
              "      <td>-0.00</td>\n",
              "      <td>-0.02</td>\n",
              "      <td>0.02</td>\n",
              "      <td>-0.02</td>\n",
              "      <td>0.02</td>\n",
              "      <td>0.01</td>\n",
              "      <td>0.02</td>\n",
              "      <td>-0.01</td>\n",
              "      <td>0.03</td>\n",
              "      <td>0.02</td>\n",
              "      <td>-0.01</td>\n",
              "      <td>0.00</td>\n",
              "      <td>-0.01</td>\n",
              "      <td>-0.02</td>\n",
              "      <td>0.01</td>\n",
              "      <td>-0.02</td>\n",
              "      <td>-0.02</td>\n",
              "      <td>0.01</td>\n",
              "      <td>0.00</td>\n",
              "      <td>-0.02</td>\n",
              "      <td>-0.01</td>\n",
              "      <td>-0.00</td>\n",
              "      <td>0.01</td>\n",
              "    </tr>\n",
              "    <tr>\n",
              "      <th>3</th>\n",
              "      <td>0.12</td>\n",
              "      <td>-3.85</td>\n",
              "      <td>0.79</td>\n",
              "      <td>1.48</td>\n",
              "      <td>0.06</td>\n",
              "      <td>0.73</td>\n",
              "      <td>-0.44</td>\n",
              "      <td>0.06</td>\n",
              "      <td>-1.35</td>\n",
              "      <td>0.27</td>\n",
              "      <td>1.58</td>\n",
              "      <td>0.86</td>\n",
              "      <td>0.80</td>\n",
              "      <td>-0.08</td>\n",
              "      <td>-0.18</td>\n",
              "      <td>0.12</td>\n",
              "      <td>-0.61</td>\n",
              "      <td>0.37</td>\n",
              "      <td>0.67</td>\n",
              "      <td>-0.31</td>\n",
              "      <td>0.54</td>\n",
              "      <td>-0.05</td>\n",
              "      <td>0.03</td>\n",
              "      <td>-0.33</td>\n",
              "      <td>0.51</td>\n",
              "      <td>0.17</td>\n",
              "      <td>0.20</td>\n",
              "      <td>-0.52</td>\n",
              "      <td>-0.31</td>\n",
              "      <td>0.29</td>\n",
              "      <td>0.20</td>\n",
              "      <td>0.04</td>\n",
              "      <td>0.41</td>\n",
              "      <td>0.50</td>\n",
              "      <td>0.60</td>\n",
              "      <td>0.45</td>\n",
              "      <td>-0.59</td>\n",
              "      <td>0.22</td>\n",
              "      <td>0.11</td>\n",
              "      <td>0.09</td>\n",
              "      <td>...</td>\n",
              "      <td>0.06</td>\n",
              "      <td>-0.03</td>\n",
              "      <td>-0.00</td>\n",
              "      <td>-0.01</td>\n",
              "      <td>-0.10</td>\n",
              "      <td>-0.09</td>\n",
              "      <td>-0.07</td>\n",
              "      <td>-0.16</td>\n",
              "      <td>0.05</td>\n",
              "      <td>-0.03</td>\n",
              "      <td>-0.00</td>\n",
              "      <td>-0.02</td>\n",
              "      <td>-0.03</td>\n",
              "      <td>-0.03</td>\n",
              "      <td>0.02</td>\n",
              "      <td>0.01</td>\n",
              "      <td>0.07</td>\n",
              "      <td>0.14</td>\n",
              "      <td>0.03</td>\n",
              "      <td>-0.06</td>\n",
              "      <td>0.01</td>\n",
              "      <td>0.12</td>\n",
              "      <td>0.07</td>\n",
              "      <td>-0.11</td>\n",
              "      <td>0.10</td>\n",
              "      <td>-0.04</td>\n",
              "      <td>-0.08</td>\n",
              "      <td>0.04</td>\n",
              "      <td>0.03</td>\n",
              "      <td>0.02</td>\n",
              "      <td>-0.02</td>\n",
              "      <td>0.02</td>\n",
              "      <td>-0.08</td>\n",
              "      <td>0.07</td>\n",
              "      <td>-0.02</td>\n",
              "      <td>-0.02</td>\n",
              "      <td>0.15</td>\n",
              "      <td>0.07</td>\n",
              "      <td>0.03</td>\n",
              "      <td>0.00</td>\n",
              "    </tr>\n",
              "    <tr>\n",
              "      <th>4</th>\n",
              "      <td>3.15</td>\n",
              "      <td>-4.71</td>\n",
              "      <td>-2.92</td>\n",
              "      <td>-1.06</td>\n",
              "      <td>1.59</td>\n",
              "      <td>-0.59</td>\n",
              "      <td>0.90</td>\n",
              "      <td>0.55</td>\n",
              "      <td>0.06</td>\n",
              "      <td>-0.65</td>\n",
              "      <td>2.12</td>\n",
              "      <td>-0.31</td>\n",
              "      <td>0.27</td>\n",
              "      <td>1.23</td>\n",
              "      <td>0.16</td>\n",
              "      <td>0.09</td>\n",
              "      <td>-0.28</td>\n",
              "      <td>-0.21</td>\n",
              "      <td>1.05</td>\n",
              "      <td>-0.74</td>\n",
              "      <td>0.35</td>\n",
              "      <td>-0.77</td>\n",
              "      <td>-0.84</td>\n",
              "      <td>0.25</td>\n",
              "      <td>-0.01</td>\n",
              "      <td>0.15</td>\n",
              "      <td>-0.34</td>\n",
              "      <td>0.19</td>\n",
              "      <td>-0.11</td>\n",
              "      <td>0.17</td>\n",
              "      <td>0.66</td>\n",
              "      <td>0.05</td>\n",
              "      <td>0.37</td>\n",
              "      <td>-0.73</td>\n",
              "      <td>-0.32</td>\n",
              "      <td>-0.05</td>\n",
              "      <td>-0.30</td>\n",
              "      <td>0.59</td>\n",
              "      <td>0.52</td>\n",
              "      <td>-0.26</td>\n",
              "      <td>...</td>\n",
              "      <td>-0.09</td>\n",
              "      <td>0.06</td>\n",
              "      <td>0.04</td>\n",
              "      <td>-0.00</td>\n",
              "      <td>0.08</td>\n",
              "      <td>0.03</td>\n",
              "      <td>0.04</td>\n",
              "      <td>-0.05</td>\n",
              "      <td>0.10</td>\n",
              "      <td>-0.10</td>\n",
              "      <td>-0.08</td>\n",
              "      <td>-0.04</td>\n",
              "      <td>-0.05</td>\n",
              "      <td>-0.01</td>\n",
              "      <td>0.02</td>\n",
              "      <td>-0.01</td>\n",
              "      <td>-0.01</td>\n",
              "      <td>0.07</td>\n",
              "      <td>-0.10</td>\n",
              "      <td>-0.06</td>\n",
              "      <td>-0.06</td>\n",
              "      <td>0.02</td>\n",
              "      <td>-0.09</td>\n",
              "      <td>0.03</td>\n",
              "      <td>0.01</td>\n",
              "      <td>-0.11</td>\n",
              "      <td>0.01</td>\n",
              "      <td>0.03</td>\n",
              "      <td>0.03</td>\n",
              "      <td>-0.04</td>\n",
              "      <td>-0.03</td>\n",
              "      <td>-0.04</td>\n",
              "      <td>-0.05</td>\n",
              "      <td>0.02</td>\n",
              "      <td>0.02</td>\n",
              "      <td>-0.02</td>\n",
              "      <td>0.07</td>\n",
              "      <td>-0.01</td>\n",
              "      <td>0.15</td>\n",
              "      <td>-0.05</td>\n",
              "    </tr>\n",
              "  </tbody>\n",
              "</table>\n",
              "<p>5 rows × 500 columns</p>\n",
              "</div>"
            ],
            "text/plain": [
              "    0     1     2     3     4     5    ...   494   495   496   497   498   499\n",
              "0 -0.49  6.40 -4.75  0.94 -0.01 -1.59  ...  0.08  0.04  0.22 -0.02  0.03 -0.06\n",
              "1  5.52 -1.77 -1.02  1.44  0.84  4.98  ... -0.04 -0.11  0.01 -0.08  0.04 -0.01\n",
              "2 -2.85 -4.32  0.42  0.82 -0.41 -0.21  ...  0.01  0.00 -0.02 -0.01 -0.00  0.01\n",
              "3  0.12 -3.85  0.79  1.48  0.06  0.73  ... -0.02 -0.02  0.15  0.07  0.03  0.00\n",
              "4  3.15 -4.71 -2.92 -1.06  1.59 -0.59  ...  0.02 -0.02  0.07 -0.01  0.15 -0.05\n",
              "\n",
              "[5 rows x 500 columns]"
            ]
          },
          "metadata": {
            "tags": []
          },
          "execution_count": 14
        }
      ]
    },
    {
      "cell_type": "code",
      "metadata": {
        "colab": {
          "base_uri": "https://localhost:8080/",
          "height": 329
        },
        "id": "PLzBzcCtIibH",
        "outputId": "9e0717fb-d7cd-43b5-fdc7-af662cd3d6ab"
      },
      "source": [
        "# Principal Components Weights (Eigenvectors)\r\n",
        "df_pca_loadings = pd.DataFrame(pca.components_)\r\n",
        "df_pca_loadings.head()"
      ],
      "execution_count": 15,
      "outputs": [
        {
          "output_type": "execute_result",
          "data": {
            "text/html": [
              "<div>\n",
              "<style scoped>\n",
              "    .dataframe tbody tr th:only-of-type {\n",
              "        vertical-align: middle;\n",
              "    }\n",
              "\n",
              "    .dataframe tbody tr th {\n",
              "        vertical-align: top;\n",
              "    }\n",
              "\n",
              "    .dataframe thead th {\n",
              "        text-align: right;\n",
              "    }\n",
              "</style>\n",
              "<table border=\"1\" class=\"dataframe\">\n",
              "  <thead>\n",
              "    <tr style=\"text-align: right;\">\n",
              "      <th></th>\n",
              "      <th>0</th>\n",
              "      <th>1</th>\n",
              "      <th>2</th>\n",
              "      <th>3</th>\n",
              "      <th>4</th>\n",
              "      <th>5</th>\n",
              "      <th>6</th>\n",
              "      <th>7</th>\n",
              "      <th>8</th>\n",
              "      <th>9</th>\n",
              "      <th>10</th>\n",
              "      <th>11</th>\n",
              "      <th>12</th>\n",
              "      <th>13</th>\n",
              "      <th>14</th>\n",
              "      <th>15</th>\n",
              "      <th>16</th>\n",
              "      <th>17</th>\n",
              "      <th>18</th>\n",
              "      <th>19</th>\n",
              "      <th>20</th>\n",
              "      <th>21</th>\n",
              "      <th>22</th>\n",
              "      <th>23</th>\n",
              "      <th>24</th>\n",
              "      <th>25</th>\n",
              "      <th>26</th>\n",
              "      <th>27</th>\n",
              "      <th>28</th>\n",
              "      <th>29</th>\n",
              "      <th>30</th>\n",
              "      <th>31</th>\n",
              "      <th>32</th>\n",
              "      <th>33</th>\n",
              "      <th>34</th>\n",
              "      <th>35</th>\n",
              "      <th>36</th>\n",
              "      <th>37</th>\n",
              "      <th>38</th>\n",
              "      <th>39</th>\n",
              "      <th>...</th>\n",
              "      <th>744</th>\n",
              "      <th>745</th>\n",
              "      <th>746</th>\n",
              "      <th>747</th>\n",
              "      <th>748</th>\n",
              "      <th>749</th>\n",
              "      <th>750</th>\n",
              "      <th>751</th>\n",
              "      <th>752</th>\n",
              "      <th>753</th>\n",
              "      <th>754</th>\n",
              "      <th>755</th>\n",
              "      <th>756</th>\n",
              "      <th>757</th>\n",
              "      <th>758</th>\n",
              "      <th>759</th>\n",
              "      <th>760</th>\n",
              "      <th>761</th>\n",
              "      <th>762</th>\n",
              "      <th>763</th>\n",
              "      <th>764</th>\n",
              "      <th>765</th>\n",
              "      <th>766</th>\n",
              "      <th>767</th>\n",
              "      <th>768</th>\n",
              "      <th>769</th>\n",
              "      <th>770</th>\n",
              "      <th>771</th>\n",
              "      <th>772</th>\n",
              "      <th>773</th>\n",
              "      <th>774</th>\n",
              "      <th>775</th>\n",
              "      <th>776</th>\n",
              "      <th>777</th>\n",
              "      <th>778</th>\n",
              "      <th>779</th>\n",
              "      <th>780</th>\n",
              "      <th>781</th>\n",
              "      <th>782</th>\n",
              "      <th>783</th>\n",
              "    </tr>\n",
              "  </thead>\n",
              "  <tbody>\n",
              "    <tr>\n",
              "      <th>0</th>\n",
              "      <td>1.765215e-07</td>\n",
              "      <td>2.447684e-06</td>\n",
              "      <td>0.000017</td>\n",
              "      <td>0.000066</td>\n",
              "      <td>0.000152</td>\n",
              "      <td>0.000283</td>\n",
              "      <td>0.000496</td>\n",
              "      <td>0.001320</td>\n",
              "      <td>0.003466</td>\n",
              "      <td>0.007777</td>\n",
              "      <td>0.014379</td>\n",
              "      <td>0.021051</td>\n",
              "      <td>0.026067</td>\n",
              "      <td>0.025613</td>\n",
              "      <td>0.025280</td>\n",
              "      <td>0.026948</td>\n",
              "      <td>0.025045</td>\n",
              "      <td>0.017894</td>\n",
              "      <td>0.010769</td>\n",
              "      <td>0.005048</td>\n",
              "      <td>0.001998</td>\n",
              "      <td>0.000766</td>\n",
              "      <td>0.000316</td>\n",
              "      <td>0.000173</td>\n",
              "      <td>0.000153</td>\n",
              "      <td>0.000082</td>\n",
              "      <td>0.000016</td>\n",
              "      <td>5.340641e-07</td>\n",
              "      <td>4.275256e-06</td>\n",
              "      <td>0.000015</td>\n",
              "      <td>0.000057</td>\n",
              "      <td>0.000287</td>\n",
              "      <td>0.000588</td>\n",
              "      <td>0.001528</td>\n",
              "      <td>0.005486</td>\n",
              "      <td>0.013605</td>\n",
              "      <td>0.024684</td>\n",
              "      <td>0.036760</td>\n",
              "      <td>0.046561</td>\n",
              "      <td>0.057341</td>\n",
              "      <td>...</td>\n",
              "      <td>0.047173</td>\n",
              "      <td>0.047012</td>\n",
              "      <td>0.045657</td>\n",
              "      <td>0.040381</td>\n",
              "      <td>0.029601</td>\n",
              "      <td>0.029373</td>\n",
              "      <td>0.034389</td>\n",
              "      <td>0.029228</td>\n",
              "      <td>0.014857</td>\n",
              "      <td>0.003397</td>\n",
              "      <td>0.000753</td>\n",
              "      <td>0.000182</td>\n",
              "      <td>9.485329e-07</td>\n",
              "      <td>0.000064</td>\n",
              "      <td>0.000547</td>\n",
              "      <td>0.003208</td>\n",
              "      <td>0.010004</td>\n",
              "      <td>0.015849</td>\n",
              "      <td>0.013535</td>\n",
              "      <td>0.009091</td>\n",
              "      <td>0.012081</td>\n",
              "      <td>0.016409</td>\n",
              "      <td>0.019782</td>\n",
              "      <td>0.021496</td>\n",
              "      <td>0.022901</td>\n",
              "      <td>0.023592</td>\n",
              "      <td>0.023587</td>\n",
              "      <td>0.022969</td>\n",
              "      <td>0.022225</td>\n",
              "      <td>0.021068</td>\n",
              "      <td>0.018284</td>\n",
              "      <td>0.014228</td>\n",
              "      <td>0.010084</td>\n",
              "      <td>0.011233</td>\n",
              "      <td>0.016460</td>\n",
              "      <td>0.013885</td>\n",
              "      <td>0.005942</td>\n",
              "      <td>0.001066</td>\n",
              "      <td>0.000114</td>\n",
              "      <td>0.000013</td>\n",
              "    </tr>\n",
              "    <tr>\n",
              "      <th>1</th>\n",
              "      <td>-2.007776e-07</td>\n",
              "      <td>3.259162e-06</td>\n",
              "      <td>0.000007</td>\n",
              "      <td>0.000050</td>\n",
              "      <td>0.000112</td>\n",
              "      <td>0.000175</td>\n",
              "      <td>0.000159</td>\n",
              "      <td>-0.000125</td>\n",
              "      <td>-0.001484</td>\n",
              "      <td>-0.008337</td>\n",
              "      <td>-0.027514</td>\n",
              "      <td>-0.032977</td>\n",
              "      <td>-0.027469</td>\n",
              "      <td>-0.023260</td>\n",
              "      <td>-0.020696</td>\n",
              "      <td>-0.023951</td>\n",
              "      <td>-0.027980</td>\n",
              "      <td>-0.030473</td>\n",
              "      <td>-0.022033</td>\n",
              "      <td>-0.004923</td>\n",
              "      <td>-0.000299</td>\n",
              "      <td>0.000466</td>\n",
              "      <td>0.000515</td>\n",
              "      <td>0.000485</td>\n",
              "      <td>0.000407</td>\n",
              "      <td>0.000255</td>\n",
              "      <td>0.000104</td>\n",
              "      <td>2.242809e-05</td>\n",
              "      <td>7.787299e-06</td>\n",
              "      <td>0.000025</td>\n",
              "      <td>0.000062</td>\n",
              "      <td>0.000269</td>\n",
              "      <td>0.000494</td>\n",
              "      <td>0.000520</td>\n",
              "      <td>0.000221</td>\n",
              "      <td>-0.000925</td>\n",
              "      <td>-0.007105</td>\n",
              "      <td>-0.023451</td>\n",
              "      <td>-0.049461</td>\n",
              "      <td>-0.053443</td>\n",
              "      <td>...</td>\n",
              "      <td>-0.064004</td>\n",
              "      <td>-0.062270</td>\n",
              "      <td>-0.044449</td>\n",
              "      <td>-0.021861</td>\n",
              "      <td>-0.007584</td>\n",
              "      <td>0.011727</td>\n",
              "      <td>0.027166</td>\n",
              "      <td>0.027967</td>\n",
              "      <td>0.018926</td>\n",
              "      <td>0.009007</td>\n",
              "      <td>0.004100</td>\n",
              "      <td>0.000721</td>\n",
              "      <td>2.216296e-05</td>\n",
              "      <td>0.000239</td>\n",
              "      <td>0.001086</td>\n",
              "      <td>0.004011</td>\n",
              "      <td>0.009658</td>\n",
              "      <td>0.013371</td>\n",
              "      <td>0.009844</td>\n",
              "      <td>0.001903</td>\n",
              "      <td>-0.004289</td>\n",
              "      <td>-0.011725</td>\n",
              "      <td>-0.026075</td>\n",
              "      <td>-0.041030</td>\n",
              "      <td>-0.041601</td>\n",
              "      <td>-0.030728</td>\n",
              "      <td>-0.025897</td>\n",
              "      <td>-0.032746</td>\n",
              "      <td>-0.044164</td>\n",
              "      <td>-0.041236</td>\n",
              "      <td>-0.025096</td>\n",
              "      <td>-0.010983</td>\n",
              "      <td>-0.004260</td>\n",
              "      <td>0.004007</td>\n",
              "      <td>0.012117</td>\n",
              "      <td>0.012323</td>\n",
              "      <td>0.006785</td>\n",
              "      <td>0.002386</td>\n",
              "      <td>0.000740</td>\n",
              "      <td>0.000069</td>\n",
              "    </tr>\n",
              "    <tr>\n",
              "      <th>2</th>\n",
              "      <td>5.670397e-07</td>\n",
              "      <td>-5.645850e-07</td>\n",
              "      <td>0.000011</td>\n",
              "      <td>0.000077</td>\n",
              "      <td>0.000164</td>\n",
              "      <td>0.000290</td>\n",
              "      <td>0.000778</td>\n",
              "      <td>0.001689</td>\n",
              "      <td>0.003150</td>\n",
              "      <td>0.003541</td>\n",
              "      <td>-0.000840</td>\n",
              "      <td>0.008676</td>\n",
              "      <td>0.024741</td>\n",
              "      <td>0.024014</td>\n",
              "      <td>0.024244</td>\n",
              "      <td>0.025011</td>\n",
              "      <td>0.016934</td>\n",
              "      <td>-0.002120</td>\n",
              "      <td>-0.007572</td>\n",
              "      <td>-0.000572</td>\n",
              "      <td>-0.000440</td>\n",
              "      <td>-0.000964</td>\n",
              "      <td>-0.001231</td>\n",
              "      <td>-0.001223</td>\n",
              "      <td>-0.000996</td>\n",
              "      <td>-0.000708</td>\n",
              "      <td>-0.000298</td>\n",
              "      <td>-4.910048e-05</td>\n",
              "      <td>4.835046e-07</td>\n",
              "      <td>0.000004</td>\n",
              "      <td>0.000044</td>\n",
              "      <td>0.000173</td>\n",
              "      <td>0.000403</td>\n",
              "      <td>0.001201</td>\n",
              "      <td>0.005090</td>\n",
              "      <td>0.012439</td>\n",
              "      <td>0.016378</td>\n",
              "      <td>0.013845</td>\n",
              "      <td>0.008025</td>\n",
              "      <td>0.026640</td>\n",
              "      <td>...</td>\n",
              "      <td>-0.036069</td>\n",
              "      <td>-0.034460</td>\n",
              "      <td>-0.021380</td>\n",
              "      <td>-0.007149</td>\n",
              "      <td>-0.000471</td>\n",
              "      <td>0.040229</td>\n",
              "      <td>0.070304</td>\n",
              "      <td>0.054308</td>\n",
              "      <td>0.020126</td>\n",
              "      <td>-0.004358</td>\n",
              "      <td>-0.005017</td>\n",
              "      <td>-0.000811</td>\n",
              "      <td>-5.593302e-06</td>\n",
              "      <td>-0.000002</td>\n",
              "      <td>0.000454</td>\n",
              "      <td>0.005983</td>\n",
              "      <td>0.023111</td>\n",
              "      <td>0.039594</td>\n",
              "      <td>0.032914</td>\n",
              "      <td>0.006676</td>\n",
              "      <td>-0.003556</td>\n",
              "      <td>-0.009081</td>\n",
              "      <td>-0.019045</td>\n",
              "      <td>-0.028992</td>\n",
              "      <td>-0.028824</td>\n",
              "      <td>-0.019080</td>\n",
              "      <td>-0.013758</td>\n",
              "      <td>-0.018180</td>\n",
              "      <td>-0.026245</td>\n",
              "      <td>-0.025152</td>\n",
              "      <td>-0.014785</td>\n",
              "      <td>-0.005320</td>\n",
              "      <td>0.000146</td>\n",
              "      <td>0.021125</td>\n",
              "      <td>0.041198</td>\n",
              "      <td>0.030719</td>\n",
              "      <td>0.010100</td>\n",
              "      <td>-0.000555</td>\n",
              "      <td>-0.000914</td>\n",
              "      <td>-0.000071</td>\n",
              "    </tr>\n",
              "    <tr>\n",
              "      <th>3</th>\n",
              "      <td>3.495354e-07</td>\n",
              "      <td>1.229744e-05</td>\n",
              "      <td>0.000050</td>\n",
              "      <td>0.000150</td>\n",
              "      <td>0.000285</td>\n",
              "      <td>0.000466</td>\n",
              "      <td>0.000891</td>\n",
              "      <td>0.002224</td>\n",
              "      <td>0.004324</td>\n",
              "      <td>0.004871</td>\n",
              "      <td>-0.003344</td>\n",
              "      <td>-0.005485</td>\n",
              "      <td>-0.006803</td>\n",
              "      <td>-0.005446</td>\n",
              "      <td>-0.001441</td>\n",
              "      <td>-0.002614</td>\n",
              "      <td>0.000730</td>\n",
              "      <td>0.000927</td>\n",
              "      <td>0.000792</td>\n",
              "      <td>0.007361</td>\n",
              "      <td>0.005896</td>\n",
              "      <td>0.004237</td>\n",
              "      <td>0.003214</td>\n",
              "      <td>0.002546</td>\n",
              "      <td>0.001532</td>\n",
              "      <td>0.000882</td>\n",
              "      <td>0.000383</td>\n",
              "      <td>8.197571e-05</td>\n",
              "      <td>7.467059e-06</td>\n",
              "      <td>0.000036</td>\n",
              "      <td>0.000146</td>\n",
              "      <td>0.000448</td>\n",
              "      <td>0.000972</td>\n",
              "      <td>0.002864</td>\n",
              "      <td>0.009077</td>\n",
              "      <td>0.016203</td>\n",
              "      <td>0.018022</td>\n",
              "      <td>0.008902</td>\n",
              "      <td>-0.012275</td>\n",
              "      <td>-0.013706</td>\n",
              "      <td>...</td>\n",
              "      <td>0.016818</td>\n",
              "      <td>0.016918</td>\n",
              "      <td>0.030557</td>\n",
              "      <td>0.048897</td>\n",
              "      <td>0.053237</td>\n",
              "      <td>0.038925</td>\n",
              "      <td>0.031671</td>\n",
              "      <td>0.028510</td>\n",
              "      <td>0.028316</td>\n",
              "      <td>0.021633</td>\n",
              "      <td>0.011002</td>\n",
              "      <td>0.001596</td>\n",
              "      <td>4.139205e-05</td>\n",
              "      <td>0.000383</td>\n",
              "      <td>0.001565</td>\n",
              "      <td>0.004457</td>\n",
              "      <td>0.007483</td>\n",
              "      <td>0.009525</td>\n",
              "      <td>0.014127</td>\n",
              "      <td>0.023196</td>\n",
              "      <td>0.031213</td>\n",
              "      <td>0.031782</td>\n",
              "      <td>0.025140</td>\n",
              "      <td>0.015484</td>\n",
              "      <td>0.015446</td>\n",
              "      <td>0.022890</td>\n",
              "      <td>0.023925</td>\n",
              "      <td>0.017482</td>\n",
              "      <td>0.006356</td>\n",
              "      <td>0.005234</td>\n",
              "      <td>0.014914</td>\n",
              "      <td>0.022239</td>\n",
              "      <td>0.021936</td>\n",
              "      <td>0.014552</td>\n",
              "      <td>0.011223</td>\n",
              "      <td>0.010651</td>\n",
              "      <td>0.009489</td>\n",
              "      <td>0.006115</td>\n",
              "      <td>0.002413</td>\n",
              "      <td>0.000171</td>\n",
              "    </tr>\n",
              "    <tr>\n",
              "      <th>4</th>\n",
              "      <td>-2.250691e-07</td>\n",
              "      <td>2.158588e-06</td>\n",
              "      <td>0.000007</td>\n",
              "      <td>-0.000028</td>\n",
              "      <td>-0.000076</td>\n",
              "      <td>-0.000163</td>\n",
              "      <td>-0.000175</td>\n",
              "      <td>0.000393</td>\n",
              "      <td>0.000333</td>\n",
              "      <td>-0.004026</td>\n",
              "      <td>-0.025586</td>\n",
              "      <td>-0.036920</td>\n",
              "      <td>-0.032086</td>\n",
              "      <td>-0.015633</td>\n",
              "      <td>-0.006981</td>\n",
              "      <td>-0.018924</td>\n",
              "      <td>-0.033107</td>\n",
              "      <td>-0.032468</td>\n",
              "      <td>-0.023472</td>\n",
              "      <td>-0.004902</td>\n",
              "      <td>-0.001617</td>\n",
              "      <td>-0.001881</td>\n",
              "      <td>-0.001703</td>\n",
              "      <td>-0.001311</td>\n",
              "      <td>-0.000754</td>\n",
              "      <td>-0.000482</td>\n",
              "      <td>-0.000173</td>\n",
              "      <td>2.668481e-06</td>\n",
              "      <td>8.049462e-06</td>\n",
              "      <td>0.000018</td>\n",
              "      <td>0.000026</td>\n",
              "      <td>-0.000099</td>\n",
              "      <td>-0.000267</td>\n",
              "      <td>-0.000342</td>\n",
              "      <td>-0.001950</td>\n",
              "      <td>-0.006343</td>\n",
              "      <td>-0.008817</td>\n",
              "      <td>-0.017436</td>\n",
              "      <td>-0.044074</td>\n",
              "      <td>-0.046833</td>\n",
              "      <td>...</td>\n",
              "      <td>0.081740</td>\n",
              "      <td>0.082355</td>\n",
              "      <td>0.099209</td>\n",
              "      <td>0.106398</td>\n",
              "      <td>0.089101</td>\n",
              "      <td>0.047258</td>\n",
              "      <td>-0.005546</td>\n",
              "      <td>-0.024599</td>\n",
              "      <td>-0.017933</td>\n",
              "      <td>-0.003643</td>\n",
              "      <td>-0.000331</td>\n",
              "      <td>0.000322</td>\n",
              "      <td>2.286420e-05</td>\n",
              "      <td>0.000420</td>\n",
              "      <td>0.001144</td>\n",
              "      <td>-0.001532</td>\n",
              "      <td>-0.009698</td>\n",
              "      <td>-0.008875</td>\n",
              "      <td>0.011487</td>\n",
              "      <td>0.036223</td>\n",
              "      <td>0.047485</td>\n",
              "      <td>0.055717</td>\n",
              "      <td>0.053138</td>\n",
              "      <td>0.040241</td>\n",
              "      <td>0.042481</td>\n",
              "      <td>0.058630</td>\n",
              "      <td>0.064592</td>\n",
              "      <td>0.055084</td>\n",
              "      <td>0.036861</td>\n",
              "      <td>0.033676</td>\n",
              "      <td>0.043324</td>\n",
              "      <td>0.043912</td>\n",
              "      <td>0.035396</td>\n",
              "      <td>0.017759</td>\n",
              "      <td>-0.010645</td>\n",
              "      <td>-0.019773</td>\n",
              "      <td>-0.011297</td>\n",
              "      <td>-0.002549</td>\n",
              "      <td>-0.000348</td>\n",
              "      <td>0.000043</td>\n",
              "    </tr>\n",
              "  </tbody>\n",
              "</table>\n",
              "<p>5 rows × 784 columns</p>\n",
              "</div>"
            ],
            "text/plain": [
              "            0             1         2    ...       781       782       783\n",
              "0  1.765215e-07  2.447684e-06  0.000017  ...  0.001066  0.000114  0.000013\n",
              "1 -2.007776e-07  3.259162e-06  0.000007  ...  0.002386  0.000740  0.000069\n",
              "2  5.670397e-07 -5.645850e-07  0.000011  ... -0.000555 -0.000914 -0.000071\n",
              "3  3.495354e-07  1.229744e-05  0.000050  ...  0.006115  0.002413  0.000171\n",
              "4 -2.250691e-07  2.158588e-06  0.000007  ... -0.002549 -0.000348  0.000043\n",
              "\n",
              "[5 rows x 784 columns]"
            ]
          },
          "metadata": {
            "tags": []
          },
          "execution_count": 15
        }
      ]
    },
    {
      "cell_type": "code",
      "metadata": {
        "colab": {
          "base_uri": "https://localhost:8080/",
          "height": 667
        },
        "id": "sBc7JhaUIzGn",
        "outputId": "2d3f29af-71b3-4142-c561-39291d175db2"
      },
      "source": [
        "variance_exp_cumsum = pca.explained_variance_ratio_.cumsum().round(2)\r\n",
        "fig, axes = plt.subplots(1,1,figsize=(16,7), dpi=100)\r\n",
        "plt.plot(variance_exp_cumsum, color='firebrick')\r\n",
        "plt.title('Screeplot of Variance Explained %', fontsize=22)\r\n",
        "plt.xlabel('# of PCs', fontsize=16)\r\n",
        "plt.show()"
      ],
      "execution_count": 16,
      "outputs": [
        {
          "output_type": "display_data",
          "data": {
            "image/png": "[encoded data removed]",
            "text/plain": [
              "<Figure size 1600x700 with 1 Axes>"
            ]
          },
          "metadata": {
            "tags": [],
            "needs_background": "light"
          }
        }
      ]
    },
    {
      "cell_type": "code",
      "metadata": {
        "colab": {
          "base_uri": "https://localhost:8080/",
          "height": 358
        },
        "id": "z9i3zPJJKsVk",
        "outputId": "24e643d5-c350-462c-d36f-3a054f016431"
      },
      "source": [
        "# Plot the explained variances\r\n",
        "plt.figure(figsize=(60,20))\r\n",
        "features = range(pca.n_components_)\r\n",
        "plt.bar(features, pca.explained_variance_ratio_, color='red')\r\n",
        "plt.xlabel('PCA features')\r\n",
        "plt.ylabel('variance %')\r\n",
        "#plt.xticks(features)"
      ],
      "execution_count": 28,
      "outputs": [
        {
          "output_type": "execute_result",
          "data": {
            "text/plain": [
              "Text(0, 0.5, 'variance %')"
            ]
          },
          "metadata": {
            "tags": []
          },
          "execution_count": 28
        },
        {
          "output_type": "display_data",
          "data": {
            "image/png": "[encoded data removed]",
            "text/plain": [
              "<Figure size 4320x1440 with 1 Axes>"
            ]
          },
          "metadata": {
            "tags": [],
            "needs_background": "light"
          }
        }
      ]
    },
    {
      "cell_type": "markdown",
      "metadata": {
        "id": "D6IfGRlUFhbv"
      },
      "source": [
        "# PCA and Random Forest"
      ]
    },
    {
      "cell_type": "code",
      "metadata": {
        "id": "OnGGVQ1MFhbw"
      },
      "source": [
        "\n",
        "\n",
        "pipe = Pipeline([('pca', PCA(n_components=300)),\n",
        "                 ('clf', RandomForestClassifier(n_estimators=100 , random_state=0))])\n",
        "\n",
        "\n"
      ],
      "execution_count": 52,
      "outputs": []
    },
    {
      "cell_type": "code",
      "metadata": {
        "colab": {
          "base_uri": "https://localhost:8080/"
        },
        "id": "0TdU52cBP7lY",
        "outputId": "c16afa0e-18cb-45b3-daaf-9e451c6860e2"
      },
      "source": [
        "pipe.get_params().keys()"
      ],
      "execution_count": 45,
      "outputs": [
        {
          "output_type": "execute_result",
          "data": {
            "text/plain": [
              "dict_keys(['memory', 'steps', 'verbose', 'pca', 'clf', 'pca__copy', 'pca__iterated_power', 'pca__n_components', 'pca__random_state', 'pca__svd_solver', 'pca__tol', 'pca__whiten', 'clf__bootstrap', 'clf__ccp_alpha', 'clf__class_weight', 'clf__criterion', 'clf__max_depth', 'clf__max_features', 'clf__max_leaf_nodes', 'clf__max_samples', 'clf__min_impurity_decrease', 'clf__min_impurity_split', 'clf__min_samples_leaf', 'clf__min_samples_split', 'clf__min_weight_fraction_leaf', 'clf__n_estimators', 'clf__n_jobs', 'clf__oob_score', 'clf__random_state', 'clf__verbose', 'clf__warm_start'])"
            ]
          },
          "metadata": {
            "tags": []
          },
          "execution_count": 45
        }
      ]
    },
    {
      "cell_type": "code",
      "metadata": {
        "colab": {
          "base_uri": "https://localhost:8080/"
        },
        "id": "33KkzY6_Fhbx",
        "outputId": "be6addb2-f437-4e92-8a8c-8c8f55b4dee2"
      },
      "source": [
        "from sklearn.model_selection import GridSearchCV\n",
        "\n",
        "if not os.path.isdir(\"saved\"):\n",
        "    os.mkdir(\"saved\")\n",
        "\n",
        "## we create a \"saved\" folder to save the trained model.\n",
        "saved_model = os.path.join(\"saved\",'pca-rf.joblib')\n",
        "if not os.path.exists(saved_model):\n",
        "    time_start = time.time()\n",
        "\n",
        "    pipe.fit(X_train_flat, y_train)\n",
        "    print(\"saving the pipeline\")\n",
        "    joblib.dump(pipe, saved_model)\n",
        "    print(\"train time\", time.strftime('%H:%M:%S', time.gmtime(time.time()-time_start)))\n",
        "else:\n",
        "    print(\"loading {} from file\".format(saved_model))\n",
        "    pipe = joblib.load(saved_model)\n",
        "    "
      ],
      "execution_count": 54,
      "outputs": [
        {
          "output_type": "stream",
          "text": [
            "saving the pipeline\n",
            "train time 00:03:07\n"
          ],
          "name": "stdout"
        }
      ]
    },
    {
      "cell_type": "code",
      "metadata": {
        "colab": {
          "base_uri": "https://localhost:8080/"
        },
        "id": "InfXQdeSFhby",
        "outputId": "c123c0aa-4cbf-4b6d-ffa1-63ce6956b58b"
      },
      "source": [
        "## YOUR CODE HERE (Replace the symbole #<> with your code)\n",
        "# Evaluate your model using the classification_report() function\n",
        "y_pred = pipe.predict(X_test_flat)\n",
        "print(\"-->\".join(pipe.named_steps.keys()))\n",
        "print(classification_report(y_test, y_pred, target_names=np.array(class_names)))\n"
      ],
      "execution_count": 55,
      "outputs": [
        {
          "output_type": "stream",
          "text": [
            "pca-->clf\n",
            "              precision    recall  f1-score   support\n",
            "\n",
            " T-shirt/top       0.77      0.85      0.81      1000\n",
            "     Trouser       1.00      0.95      0.97      1000\n",
            "    Pullover       0.76      0.78      0.77      1000\n",
            "       Dress       0.85      0.88      0.87      1000\n",
            "        Coat       0.76      0.80      0.78      1000\n",
            "      Sandal       0.92      0.92      0.92      1000\n",
            "       Shirt       0.70      0.54      0.61      1000\n",
            "     Sneaker       0.92      0.93      0.93      1000\n",
            "         Bag       0.91      0.95      0.93      1000\n",
            "  Ankle boot       0.92      0.95      0.94      1000\n",
            "\n",
            "    accuracy                           0.85     10000\n",
            "   macro avg       0.85      0.85      0.85     10000\n",
            "weighted avg       0.85      0.85      0.85     10000\n",
            "\n"
          ],
          "name": "stdout"
        }
      ]
    },
    {
      "cell_type": "code",
      "metadata": {
        "id": "l2JJFjQuFhbz"
      },
      "source": [
        "from sklearn.metrics import confusion_matrix\n",
        "confusion = confusion_matrix(y_test, y_pred)\n",
        "#print(confusion)"
      ],
      "execution_count": 61,
      "outputs": []
    },
    {
      "cell_type": "code",
      "metadata": {
        "colab": {
          "base_uri": "https://localhost:8080/",
          "height": 445
        },
        "id": "NpGPwrzkFhb0",
        "outputId": "d67d9daa-0824-486b-ac05-27f1cd51d8e4"
      },
      "source": [
        "import seaborn as sns\n",
        "plt.figure(figsize=(10,7))\n",
        "sns.heatmap(confusion, annot=True, fmt=\"d\",  \n",
        "            linewidths=.5,\n",
        "            xticklabels=np.array(class_names),\n",
        "            yticklabels=np.array(class_names))"
      ],
      "execution_count": 62,
      "outputs": [
        {
          "output_type": "execute_result",
          "data": {
            "text/plain": [
              "<matplotlib.axes._subplots.AxesSubplot at 0x7fda55eb2f28>"
            ]
          },
          "metadata": {
            "tags": []
          },
          "execution_count": 62
        },
        {
          "output_type": "display_data",
          "data": {
            "image/png": "[encoded data removed]",
            "text/plain": [
              "<Figure size 720x504 with 2 Axes>"
            ]
          },
          "metadata": {
            "tags": [],
            "needs_background": "light"
          }
        }
      ]
    },
    {
      "cell_type": "markdown",
      "metadata": {
        "id": "NYrtB_ffFhb0"
      },
      "source": [
        "# PCA and Ada-Boosting"
      ]
    },
    {
      "cell_type": "code",
      "metadata": {
        "id": "HT_Z88umFhb1"
      },
      "source": [
        "from sklearn.ensemble import AdaBoostClassifier\n",
        "pipe3 = Pipeline([('pca', PCA(n_components=300)),\n",
        "                 ( 'clf', AdaBoostClassifier( n_estimators=600, learning_rate=1.0))])\n",
        "\n",
        "\n"
      ],
      "execution_count": 95,
      "outputs": []
    },
    {
      "cell_type": "code",
      "metadata": {
        "colab": {
          "base_uri": "https://localhost:8080/"
        },
        "id": "7vQjfmnoFhb1",
        "outputId": "ed833277-1148-4118-8ab9-a54eabf3657f"
      },
      "source": [
        "if not os.path.isdir(\"saved\"):\n",
        "    os.mkdir(\"saved\")\n",
        "\n",
        "## we create a \"saved\" folder to save the trained model.\n",
        "saved_model = os.path.join(\"saved\",'pca-adaboost.joblib')\n",
        "if not os.path.exists(saved_model):\n",
        "    time_start = time.time()\n",
        "    pipe3.fit(X_train_flat, y_train)\n",
        "    print(\"saving the pipeline\")\n",
        "    joblib.dump(pipe3, saved_model)\n",
        "    print(\"train time\", time.strftime('%H:%M:%S', time.gmtime(time.time()-time_start)))\n",
        "else:\n",
        "    print(\"loading {} from file\".format(saved_model))\n",
        "    pipe3 = joblib.load(saved_model)\n",
        "    "
      ],
      "execution_count": 96,
      "outputs": [
        {
          "output_type": "stream",
          "text": [
            "saving the pipeline\n",
            "train time 00:36:16\n"
          ],
          "name": "stdout"
        }
      ]
    },
    {
      "cell_type": "code",
      "metadata": {
        "colab": {
          "base_uri": "https://localhost:8080/"
        },
        "id": "sOC6LFV1Fhb2",
        "outputId": "e5f3a2b8-f7bf-4a9c-da20-12a16976e5d3"
      },
      "source": [
        "## YOUR CODE HERE (Replace the symbole #<> with your code)\n",
        "# Evaluate your model using the classification_report() function\n",
        "y_pred = pipe3.predict(X_test_flat)\n",
        "y_pred_train = pipe3.predict(X_train_flat)\n",
        "print(\"-->\".join(pipe2.named_steps.keys()))\n",
        "print(classification_report(y_test, y_pred, target_names=np.array(class_names)))\n",
        "print(\"Classification report on Training data \\n\\n\\n\\n\",classification_report(y_train,\n",
        "                                                                              y_pred_train , \n",
        "                                                                              target_names=np.array(class_names)))\n"
      ],
      "execution_count": 97,
      "outputs": [
        {
          "output_type": "stream",
          "text": [
            "pca-->clf\n",
            "              precision    recall  f1-score   support\n",
            "\n",
            " T-shirt/top       0.40      0.09      0.15      1000\n",
            "     Trouser       0.33      0.68      0.45      1000\n",
            "    Pullover       0.33      0.12      0.18      1000\n",
            "       Dress       0.32      0.46      0.37      1000\n",
            "        Coat       0.37      0.67      0.47      1000\n",
            "      Sandal       0.77      0.37      0.50      1000\n",
            "       Shirt       0.25      0.05      0.09      1000\n",
            "     Sneaker       0.48      0.91      0.63      1000\n",
            "         Bag       0.84      0.73      0.78      1000\n",
            "  Ankle boot       0.78      0.50      0.61      1000\n",
            "\n",
            "    accuracy                           0.46     10000\n",
            "   macro avg       0.49      0.46      0.42     10000\n",
            "weighted avg       0.49      0.46      0.42     10000\n",
            "\n",
            "Classification report on Training data \n",
            "\n",
            "\n",
            "\n",
            "               precision    recall  f1-score   support\n",
            "\n",
            " T-shirt/top       0.42      0.11      0.17      6000\n",
            "     Trouser       0.33      0.68      0.44      6000\n",
            "    Pullover       0.36      0.13      0.19      6000\n",
            "       Dress       0.30      0.45      0.36      6000\n",
            "        Coat       0.37      0.65      0.47      6000\n",
            "      Sandal       0.73      0.34      0.46      6000\n",
            "       Shirt       0.21      0.04      0.07      6000\n",
            "     Sneaker       0.47      0.90      0.61      6000\n",
            "         Bag       0.85      0.75      0.80      6000\n",
            "  Ankle boot       0.78      0.50      0.61      6000\n",
            "\n",
            "    accuracy                           0.45     60000\n",
            "   macro avg       0.48      0.45      0.42     60000\n",
            "weighted avg       0.48      0.45      0.42     60000\n",
            "\n"
          ],
          "name": "stdout"
        }
      ]
    },
    {
      "cell_type": "code",
      "metadata": {
        "colab": {
          "base_uri": "https://localhost:8080/"
        },
        "id": "2WIaWVFlFhb2",
        "outputId": "365f8222-d2ad-4c22-e05c-f4f022acfa2c"
      },
      "source": [
        "from sklearn.metrics import confusion_matrix\n",
        "confusion = confusion_matrix(y_test, y_pred)\n",
        "print(confusion)"
      ],
      "execution_count": 98,
      "outputs": [
        {
          "output_type": "stream",
          "text": [
            "[[ 93 338  55 419  36   6  22   0  30   1]\n",
            " [  0 684   1 301   9   0   2   0   3   0]\n",
            " [ 19 236 120  12 548   0  36   0  29   0]\n",
            " [ 10 437  15 456  69   0   7   0   6   0]\n",
            " [  3 175  48  70 667   1  20   0  16   0]\n",
            " [  0   0   0   0   0 373   0 492  24 111]\n",
            " [ 45 186  90 150 442   3  54   0  30   0]\n",
            " [  0   0   0   0   0  67   0 905   2  26]\n",
            " [ 60   3  37  32  39  13  76   9 730   1]\n",
            " [  1   0   0   0   0  23   0 474   3 499]]\n"
          ],
          "name": "stdout"
        }
      ]
    },
    {
      "cell_type": "code",
      "metadata": {
        "colab": {
          "base_uri": "https://localhost:8080/",
          "height": 445
        },
        "id": "rGlJqBQkFhb3",
        "outputId": "32b769db-96b2-4675-f1eb-31f6fea91ebd"
      },
      "source": [
        "import seaborn as sns\n",
        "plt.figure(figsize=(10,7))\n",
        "sns.heatmap(confusion, annot=True, fmt=\"d\" ,  linewidths=.5, )"
      ],
      "execution_count": 99,
      "outputs": [
        {
          "output_type": "execute_result",
          "data": {
            "text/plain": [
              "<matplotlib.axes._subplots.AxesSubplot at 0x7fda5764bcc0>"
            ]
          },
          "metadata": {
            "tags": []
          },
          "execution_count": 99
        },
        {
          "output_type": "display_data",
          "data": {
            "image/png": "[encoded data removed]",
            "text/plain": [
              "<Figure size 720x504 with 2 Axes>"
            ]
          },
          "metadata": {
            "tags": [],
            "needs_background": "light"
          }
        }
      ]
    },
    {
      "cell_type": "code",
      "metadata": {
        "id": "6DYRSrfoFhb3"
      },
      "source": [
        ""
      ],
      "execution_count": null,
      "outputs": []
    }
  ]
}