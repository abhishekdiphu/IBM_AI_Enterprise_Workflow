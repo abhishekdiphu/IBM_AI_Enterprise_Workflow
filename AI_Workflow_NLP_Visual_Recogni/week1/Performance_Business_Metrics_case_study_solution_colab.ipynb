{
  "nbformat": 4,
  "nbformat_minor": 0,
  "metadata": {
    "kernelspec": {
      "display_name": "Python 3",
      "language": "python",
      "name": "python3"
    },
    "language_info": {
      "codemirror_mode": {
        "name": "ipython",
        "version": 3
      },
      "file_extension": ".py",
      "mimetype": "text/x-python",
      "name": "python",
      "nbconvert_exporter": "python",
      "pygments_lexer": "ipython3",
      "version": "3.7.3"
    },
    "colab": {
      "name": "Performance_Business_Metrics_case_study_solution_colab.ipynb",
      "provenance": [],
      "toc_visible": true
    }
  },
  "cells": [
    {
      "cell_type": "markdown",
      "metadata": {
        "id": "wY_swW8btioS"
      },
      "source": [
        "![ibm-cloud.png](attachment:ibm-cloud.png)\n",
        "\n",
        "The hype surrounding the combination of good data with state-of-the art machine learning can fall short of expectations.  There are many reasons for this, far too numerous to discuss in a single course, but there are some commonalities and trends.  See the white paper [Beyond the hype: A guide to understanding and successfully implementing artificial intelligence within your business](https://www.ibm.com/downloads/cas/8ZDXNKQ4) for a deeper dive into this topic.  This case study will focus on something that we are referring to as the *follow-through*.  \n",
        "\n",
        "The basic idea of the follow-through is to tune, train and deploy your model, then once you have collected some performance data return to the familiar world of data visualization and hypothesis testing to investigate the relationship between model performance (evaluation metrics) and business metrics.\n",
        "\n",
        "One of the reasons there has not been much focus on follow-through is that there are many projects and time is always precious.  The model is in production---okay what is the next project?  For this reason we propose readying your code for that post-performance investigation *before* the model is deployed. "
      ]
    },
    {
      "cell_type": "code",
      "metadata": {
        "id": "hBAoOGXItioV",
        "colab": {
          "base_uri": "https://localhost:8080/"
        },
        "outputId": "45874305-cd61-4be4-b1a8-4868d1219608"
      },
      "source": [
        "import os\n",
        "import sys\n",
        "import time\n",
        "import re\n",
        "import itertools\n",
        "from string import punctuation, printable\n",
        "import numpy as np\n",
        "import pandas as pd\n",
        "import spacy\n",
        "import joblib\n",
        "from collections import Counter\n",
        "import scipy.stats as stats\n",
        "import matplotlib.pyplot as plt\n",
        "from sklearn.utils import shuffle\n",
        "from sklearn.metrics import classification_report\n",
        "from sklearn.pipeline import Pipeline\n",
        "from sklearn.model_selection import train_test_split, GridSearchCV\n",
        "from sklearn.feature_extraction.text import TfidfVectorizer\n",
        "from sklearn.datasets import load_files\n",
        "from sklearn.feature_extraction import text\n",
        "import seaborn as sns\n",
        "\n",
        "if not 'nlp' in locals():\n",
        "    print(\"Loading English Module...\")\n",
        "    nlp = spacy.load('en')\n",
        "\n",
        "plt.style.use('seaborn')\n",
        "%matplotlib inline\n",
        "\n",
        "SMALL_SIZE = 12\n",
        "MEDIUM_SIZE = 14\n",
        "LARGE_SIZE = 16\n",
        "\n",
        "plt.rc('font', size=SMALL_SIZE)          # controls default text sizes\n",
        "plt.rc('axes', titlesize=SMALL_SIZE)     # fontsize of the axes title\n",
        "plt.rc('axes', labelsize=MEDIUM_SIZE)    # fontsize of the x and y labels\n",
        "plt.rc('xtick', labelsize=SMALL_SIZE)    # fontsize of the tick labels\n",
        "plt.rc('ytick', labelsize=SMALL_SIZE)    # fontsize of the tick labels\n",
        "plt.rc('legend', fontsize=SMALL_SIZE)    # legend fontsize\n",
        "plt.rc('figure', titlesize=LARGE_SIZE)   # fontsize of the figure title\n",
        "\n",
        "## Suppress all warnings (not to be used during development)\n",
        "#import warnings\n",
        "#warnings.filterwarnings(\"ignore\")\n",
        "\n",
        "DATA_DIR = os.path.join(\".\", \"sample_data\")"
      ],
      "execution_count": 1,
      "outputs": [
        {
          "output_type": "stream",
          "text": [
            "Loading English Module...\n"
          ],
          "name": "stdout"
        }
      ]
    },
    {
      "cell_type": "markdown",
      "metadata": {
        "id": "hJsh_XSbtioW"
      },
      "source": [
        "## Synopsis\n",
        "\n",
        "\n",
        "AAVAIL has recently enabled comments on its streaming service.  There are a number of data science projects that have become a priority since. Among other projects, the text will soon need to be monitored for automatic removal of inappropriate content.  Users and posts will need to be flagged for human review.  Your objective in this project will be to leverage comments for customer retention.  Following best practices, you are being asked now to build your code base to ensure you are ready when the first week of comments are ready.  Management has made the specific ask that they want you to monitor the relationship between your model's performance and a customer retention business metric.  \n",
        "\n",
        "As a first pass we are going to perform text classification for customer retention. The movie comments data set with sentiment as a target is a perfect data set to start building a code base.  We are going to give several hints about how you could improve model performance as there are many options when it come to representing your text.  Once your have iterated with respect to transforms and models you will pass the model pipeline to a special function that will simulate model performance **and**  business performance for nine months.  Finally you will create a visualization to help investigate and monitor the relationship between the two.\n",
        "\n",
        "## Outline\n",
        "\n",
        "\n",
        "1. Optimize a text classification pipeline to be deployed for use\n",
        "2. Iterate on and tune the model pipeline\n",
        "3. Use visualization techniques to relate the evaluation metrics to the business metrics\n",
        "\n",
        "\n",
        "## Data\n",
        "\n",
        "In order to perform these tasks we have built a dataset combining two datasets: The AAVAIL stream dataset that summarizes the stream history of 1000 customers from 2018-2019, and the movie review dataset from [nltk_data](http://www.nltk.org/nltk_data) that contains movie reviews with their corresponding sentiment labels (1 if the review is positive and 0 if the review is negative). This combined dataset has 17695 rows (one row per stream session) and 8 columns:\n",
        "* <u>customer_id</u> : The id of the customer that generated this stream.\n",
        "* <u>stream_id</u> : The id of the stream.\n",
        "* <u>date</u>  : The date of the stream.\n",
        "* <u>invoice_item_id</u> : An indication of the type of subscription of the customer.\n",
        "* <u>subscription_stopped</u> : Boolean variable equal to 1 if the customer stopped it's subscription after this stream and 0 otherwise.\n",
        "* <u>comments</u> : A comment that the customer left after this stream. NaN if the customer didn't write a comment.\n",
        "* <u>sentiments</u>  : The actual sentiment of the comment. NaN if the customer didn't write a comment.\n",
        "* <u>M-Y</u> : The month and year of the stream (this column is redundant with the date column but can be used to aggregate the data by month).\n",
        "\n",
        "We built this data by imputing reviews and their sentiment labels from the movie reviews dataset to the AAVAIL streams dataset. The format of these data is very close to the real dataset that the AAVAIL API will return once the comment feature is deployed."
      ]
    },
    {
      "cell_type": "code",
      "metadata": {
        "id": "hMQ6OhALtioX"
      },
      "source": [
        "df = pd.read_csv(os.path.join(DATA_DIR, \"simulated_user_comments.csv\"))\n",
        "\n",
        "# we create two lists, X and y that contains the user comments and the corresponding sentiments, respectively.\n",
        "X = df[~df['comments'].isna()]['comments'].tolist()\n",
        "y = df[~df['sentiments'].isna()]['sentiments'].tolist()\n",
        "target_names = ['neg', 'pos']"
      ],
      "execution_count": 2,
      "outputs": []
    },
    {
      "cell_type": "code",
      "metadata": {
        "colab": {
          "base_uri": "https://localhost:8080/",
          "height": 106
        },
        "id": "un13tuYNwKRf",
        "outputId": "63e2f46e-d007-4832-c024-d444c46d0691"
      },
      "source": [
        "df.head(2)"
      ],
      "execution_count": 3,
      "outputs": [
        {
          "output_type": "execute_result",
          "data": {
            "text/html": [
              "<div>\n",
              "<style scoped>\n",
              "    .dataframe tbody tr th:only-of-type {\n",
              "        vertical-align: middle;\n",
              "    }\n",
              "\n",
              "    .dataframe tbody tr th {\n",
              "        vertical-align: top;\n",
              "    }\n",
              "\n",
              "    .dataframe thead th {\n",
              "        text-align: right;\n",
              "    }\n",
              "</style>\n",
              "<table border=\"1\" class=\"dataframe\">\n",
              "  <thead>\n",
              "    <tr style=\"text-align: right;\">\n",
              "      <th></th>\n",
              "      <th>customer_id</th>\n",
              "      <th>stream_id</th>\n",
              "      <th>date</th>\n",
              "      <th>invoice_item_id</th>\n",
              "      <th>subscription_stopped</th>\n",
              "      <th>comments</th>\n",
              "      <th>sentiments</th>\n",
              "      <th>M-Y</th>\n",
              "    </tr>\n",
              "  </thead>\n",
              "  <tbody>\n",
              "    <tr>\n",
              "      <th>0</th>\n",
              "      <td>1</td>\n",
              "      <td>1420.0</td>\n",
              "      <td>2018-10-21</td>\n",
              "      <td>2.0</td>\n",
              "      <td>0</td>\n",
              "      <td>NaN</td>\n",
              "      <td>NaN</td>\n",
              "      <td>2018-10</td>\n",
              "    </tr>\n",
              "    <tr>\n",
              "      <th>1</th>\n",
              "      <td>1</td>\n",
              "      <td>1343.0</td>\n",
              "      <td>2018-10-23</td>\n",
              "      <td>2.0</td>\n",
              "      <td>0</td>\n",
              "      <td>NaN</td>\n",
              "      <td>NaN</td>\n",
              "      <td>2018-10</td>\n",
              "    </tr>\n",
              "  </tbody>\n",
              "</table>\n",
              "</div>"
            ],
            "text/plain": [
              "   customer_id  stream_id        date  ...  comments  sentiments      M-Y\n",
              "0            1     1420.0  2018-10-21  ...       NaN         NaN  2018-10\n",
              "1            1     1343.0  2018-10-23  ...       NaN         NaN  2018-10\n",
              "\n",
              "[2 rows x 8 columns]"
            ]
          },
          "metadata": {
            "tags": []
          },
          "execution_count": 3
        }
      ]
    },
    {
      "cell_type": "code",
      "metadata": {
        "colab": {
          "base_uri": "https://localhost:8080/",
          "height": 135
        },
        "id": "KuGjsJXUwOHI",
        "outputId": "7e4b870b-d9c0-495e-f4d6-dbd39e9c3282"
      },
      "source": [
        "df.describe(include=np.object).transpose()"
      ],
      "execution_count": 4,
      "outputs": [
        {
          "output_type": "execute_result",
          "data": {
            "text/html": [
              "<div>\n",
              "<style scoped>\n",
              "    .dataframe tbody tr th:only-of-type {\n",
              "        vertical-align: middle;\n",
              "    }\n",
              "\n",
              "    .dataframe tbody tr th {\n",
              "        vertical-align: top;\n",
              "    }\n",
              "\n",
              "    .dataframe thead th {\n",
              "        text-align: right;\n",
              "    }\n",
              "</style>\n",
              "<table border=\"1\" class=\"dataframe\">\n",
              "  <thead>\n",
              "    <tr style=\"text-align: right;\">\n",
              "      <th></th>\n",
              "      <th>count</th>\n",
              "      <th>unique</th>\n",
              "      <th>top</th>\n",
              "      <th>freq</th>\n",
              "    </tr>\n",
              "  </thead>\n",
              "  <tbody>\n",
              "    <tr>\n",
              "      <th>date</th>\n",
              "      <td>17695</td>\n",
              "      <td>609</td>\n",
              "      <td>2019-09-03</td>\n",
              "      <td>88</td>\n",
              "    </tr>\n",
              "    <tr>\n",
              "      <th>comments</th>\n",
              "      <td>1132</td>\n",
              "      <td>1132</td>\n",
              "      <td>apollo 13 is simply one of the most dramatic f...</td>\n",
              "      <td>1</td>\n",
              "    </tr>\n",
              "    <tr>\n",
              "      <th>M-Y</th>\n",
              "      <td>17695</td>\n",
              "      <td>21</td>\n",
              "      <td>2019-08</td>\n",
              "      <td>1946</td>\n",
              "    </tr>\n",
              "  </tbody>\n",
              "</table>\n",
              "</div>"
            ],
            "text/plain": [
              "          count unique                                                top  freq\n",
              "date      17695    609                                         2019-09-03    88\n",
              "comments   1132   1132  apollo 13 is simply one of the most dramatic f...     1\n",
              "M-Y       17695     21                                            2019-08  1946"
            ]
          },
          "metadata": {
            "tags": []
          },
          "execution_count": 4
        }
      ]
    },
    {
      "cell_type": "code",
      "metadata": {
        "colab": {
          "base_uri": "https://localhost:8080/"
        },
        "id": "qK17s-DPwe2F",
        "outputId": "9c572b6c-0938-4c8d-f6d6-8c80882525be"
      },
      "source": [
        "df.isna().sum()"
      ],
      "execution_count": 5,
      "outputs": [
        {
          "output_type": "execute_result",
          "data": {
            "text/plain": [
              "customer_id                 0\n",
              "stream_id                   0\n",
              "date                        0\n",
              "invoice_item_id             0\n",
              "subscription_stopped        0\n",
              "comments                16563\n",
              "sentiments              16563\n",
              "M-Y                         0\n",
              "dtype: int64"
            ]
          },
          "metadata": {
            "tags": []
          },
          "execution_count": 5
        }
      ]
    },
    {
      "cell_type": "code",
      "metadata": {
        "colab": {
          "base_uri": "https://localhost:8080/"
        },
        "id": "cR4-o2TZxNxx",
        "outputId": "06bafef7-1509-4a43-9dd7-30735be92df0"
      },
      "source": [
        "df['sentiments'].unique()"
      ],
      "execution_count": 6,
      "outputs": [
        {
          "output_type": "execute_result",
          "data": {
            "text/plain": [
              "array([nan,  1.,  0.])"
            ]
          },
          "metadata": {
            "tags": []
          },
          "execution_count": 6
        }
      ]
    },
    {
      "cell_type": "code",
      "metadata": {
        "colab": {
          "base_uri": "https://localhost:8080/"
        },
        "id": "uwwmIAqMxagJ",
        "outputId": "d1a579b5-d0e0-47ab-d1a2-5b1ea07bb9e9"
      },
      "source": [
        "print(\"length of the array is : {}:{}\" .format(len(X), len(y)))"
      ],
      "execution_count": 7,
      "outputs": [
        {
          "output_type": "stream",
          "text": [
            "length of the array is : 1132:1132\n"
          ],
          "name": "stdout"
        }
      ]
    },
    {
      "cell_type": "code",
      "metadata": {
        "colab": {
          "base_uri": "https://localhost:8080/",
          "height": 142
        },
        "id": "vRhF_32qx42-",
        "outputId": "4ecadc44-9505-4193-a5f2-3dd7d436ce81"
      },
      "source": [
        "X[0]"
      ],
      "execution_count": 8,
      "outputs": [
        {
          "output_type": "execute_result",
          "data": {
            "application/vnd.google.colaboratory.intrinsic+json": {
              "type": "string"
            },
            "text/plain": [
              "'few films in 1999 have divided the critical consensus as sharply as alan parker\\'s adaptation of frank mccourt\\'s memoir angela\\'s ashes . \\nmany dismissed it as an humorless , sentimentalized , uninteresting version of the hugely popular novel ; others hailed it as a heartfelt , sincere portrait of the human spirit . \\ni\\'m somewhere in between , leaning strongly towards the latter . \\nit\\'s certainly well-made and it never becomes tedious like some literary adaptations have a tendency to be . \\nbut i have a feeling that parker filled the movie with pseudo-lyrical shots of rain falling on the homely streets of ireland just so it can have the two-and-a-half hour running time that screams \" i\\'m important ! \" \\nmccourt\\'s book of the same name was about him and his family moving from the us to ireland in the early 1900\\'s , a time when most people were desperately trying to get into the us . \\nas he comments , \" we were the only irishfolk to say goodbye to the statue of liberty . \" \\nin ireland , frank ( played by joe breen as a small child ) , his 3 brothers , his mother angela ( emily watson ) and his father malachy ( robert carlyle ) get financial help from angela\\'s mother , a stereotypically strict catholic who chides her daughter for marrying a northern irishman . \\nshe helps them get a rat-infested apartment and malachy goes looking for a job . \\npositions are scarce and when he does finally find one , he is unable to hold on to it because of his fondness for drinking . \\nmeanwhile , frank goes to an uptight catholic school , where the instructors beat students with blunt wooden objects as often as their heart desires . \\ntwo of frank\\'s brothers soon die , crippled by the dreadful living conditions and malnutrition . \\nas if the poverty and the suffering weren\\'t intense enough as it stood , malachy and angela have another baby , worsening the situation further . \\ni imagine this doesn\\'t sound like much of a plot . \\nthat\\'s probably because it isn\\'t one . \\nthese are people . \\nthis is their story . \\ndirector alan parker ( the commitments ) knows how to tell a good story and angela\\'s ashes , despite its relentlessly literary tone remains interesting . \\nthough the film occasionally indulges too much in its gloomily picturesque irish setting , it avoids looking like a glorified travelogue . \\nsupplementing parker\\'s able direction are the engaging , often poignant performances of the leads , some of them seasoned thespians , others relative beginners . \\ncarlyle , the charismatic british actor who has shown astonishing range by hopping from the lead in a rowdy slapstick comedy to the villain in a james bond movie and now to sentimental melodrama , perfectly portrays his rather pathetic character . \\nwe empathize with the guy , but we don\\'t like or admire him . \\nemily watson turns in a heartfelt , sincere supporting performance . \\nit is mostly she who implants that lump in our throats . \\nalso worthy of mention is little joe breen , whose face graces the film\\'s superb poster . \\nit is breen\\'s first feature film and he\\'s extraordinary as young frank . \\nnot unlike sudden oscar darling haley joel osment of the sixth sense , you can peer into the character\\'s soul through breen\\'s sad eyes . \\non the flip side , one thing that could have vastly improved angela\\'s ashes is a more decisive editor . \\nwhile gerry hambling sure makes the most of the scenery , he and parker also leave in at least a half an hour of unnecessary footage . \\nthe first half , especially , could have been trimmed down , bringing the film to a more reasonable running time and doing our bladders a favor in the process . \\nthings pick up at about the halfway point , sort of dismissing a lot of the criticisms i accumulated during the opening hour , but i maintain that the aggressively deliberate pace parker and co . set in the first half was ludicrously unnecessary . \\n * spoiler warning ! \\nskip next paragraph if in suspense ! * \\nthe film\\'s final message is somewhat conflicted , as frankie , in effect , leaves his family famished in ireland while he himself goes back to america . \\nwhat , exactly , are we supposed to make of that ? \\nhis mother doesn\\'t seem to mind because she wants the best possible future for her son , as any mother would , but it still seems inconsiderate of him . \\ni haven\\'t read the book , but i\\'m sure that mccourt justifies his actions therein ; therefore , i\\'m suspicious . \\nanother thing that\\'s never made clear in the movie is the meaning of the title , which , i\\'m sure , is also explained in the memoir . \\nif seen as a film onto itself , rather than an adaptation , angela\\'s ashes stands tall . \\ndespite a few minor setbacks , it is a captivating story of people forced to live in the trenches by an merciless society where those of weaker character are shoved to the bottom of the financial ladder . \\n'"
            ]
          },
          "metadata": {
            "tags": []
          },
          "execution_count": 8
        }
      ]
    },
    {
      "cell_type": "markdown",
      "metadata": {
        "id": "rWZjAc7ztioZ"
      },
      "source": [
        "### QUESTION 1\n",
        "\n",
        "Before jumping to the preprocessing and the modeling phase, let's perform some EDA on the text data. Create a corpus_summary function that print statements and visualization to summarize the data. Two useful metrics are the number of different words in the full corpus and the number of words per comments but feel free to create your own metrics to summarize this data."
      ]
    },
    {
      "cell_type": "code",
      "metadata": {
        "colab": {
          "base_uri": "https://localhost:8080/",
          "height": 589
        },
        "id": "sP-Ke8h-tioZ",
        "outputId": "e0321bc5-2908-499a-e5ee-a0d62ec89952"
      },
      "source": [
        "## YOUR CODE HERE\n",
        "def plot_corpus_summary(corpus):\n",
        "    fig = plt.figure(figsize=(14,6))\n",
        "    ax1 = fig.add_subplot(121)\n",
        "    ax2 = fig.add_subplot(122)\n",
        "    \n",
        "\n",
        "    #-------------------------------------------------------------------\n",
        "\n",
        "    tokens_per_doc = [len(str(doc).split(\" \")) for doc in corpus]\n",
        "    all_docs = [str(doc).split(\" \") for doc in corpus]\n",
        "    all_docs = list(itertools.chain.from_iterable(all_docs))\n",
        "    unique_tokens, token_counts = np.unique(all_docs, return_counts=True)\n",
        "    \n",
        "    #---------------------------------------------------------------------\n",
        "\n",
        "    \n",
        "    print(\"---------------------------\")\n",
        "    print(\"num docs\", len(corpus))\n",
        "    print(\"median tokens\",np.median(tokens_per_doc))\n",
        "    print(\"num tokens\",len(all_docs))\n",
        "    print(\"unique tokens\", unique_tokens.size)\n",
        "    print(\"---------------------------\")\n",
        "  \n",
        "\n",
        "\n",
        "\n",
        "\n",
        "    sns.distplot(tokens_per_doc, ax=ax1)\n",
        "    sns.distplot([x for x in token_counts if (x>5)&(x<500)], ax=ax2)\n",
        "    ax1.set_title(\"Document Sizes\")\n",
        "    ax2.set_title(\"Token Counts\") \n",
        "    \n",
        "plot_corpus_summary(X)"
      ],
      "execution_count": 10,
      "outputs": [
        {
          "output_type": "stream",
          "text": [
            "---------------------------\n",
            "num docs 1132\n",
            "median tokens 711.0\n",
            "num tokens 863620\n",
            "unique tokens 42523\n",
            "---------------------------\n"
          ],
          "name": "stdout"
        },
        {
          "output_type": "stream",
          "text": [
            "/usr/local/lib/python3.6/dist-packages/seaborn/distributions.py:2551: FutureWarning: `distplot` is a deprecated function and will be removed in a future version. Please adapt your code to use either `displot` (a figure-level function with similar flexibility) or `histplot` (an axes-level function for histograms).\n",
            "  warnings.warn(msg, FutureWarning)\n",
            "/usr/local/lib/python3.6/dist-packages/seaborn/distributions.py:2551: FutureWarning: `distplot` is a deprecated function and will be removed in a future version. Please adapt your code to use either `displot` (a figure-level function with similar flexibility) or `histplot` (an axes-level function for histograms).\n",
            "  warnings.warn(msg, FutureWarning)\n"
          ],
          "name": "stderr"
        },
        {
          "output_type": "display_data",
          "data": {
            "image/png": "[encoded data removed]",
            "text/plain": [
              "<Figure size 1008x432 with 2 Axes>"
            ]
          },
          "metadata": {
            "tags": [],
            "needs_background": "light"
          }
        }
      ]
    },
    {
      "cell_type": "markdown",
      "metadata": {
        "id": "NKC59iU4tiob"
      },
      "source": [
        "### QUESTION 2\n",
        "\n",
        "Process the data.  There are many options to consider when you process the tokens from a \n",
        "corpus of text.  These are some of the questions you might want to ask?\n",
        "\n",
        "* Which stop words do I include?\n",
        "* Which stemmer/lemmatizer is best?\n",
        "* Which n-grams do I include?\n",
        "* Do I filter based on frequency min an max?\n",
        "\n",
        "There are many ways to process tokens (words, dates, emojis etc).  NLTK is often used to pre-process text data before the tokens are vectorized.  Generally, the tokens are modified via [stemming or lemmatization](https://nlp.stanford.edu/IR-book/html/htmledition/stemming-and-lemmatization-1.html).  The next code block provides a lemmatization function that makes use of the library [spaCy](https://spacy.io/).  You will need to install it and download the English language reference material as follows.  Stopwords are words that are very common or otherwise irrelevant we use a default list here, but it is an important part of NLP pipelines that needs to be customized for the subject area. \n",
        "\n",
        "Make sure spaCy is installed and that you downloaded an English language model for the package.\n",
        "\n",
        "```bash\n",
        "~$ pip install spacy\n",
        "~$ python -m spacy download en\n",
        "```\n",
        "\n",
        "Use the following function to process your data into into a clean corpus. Note that this may take a few minutes. "
      ]
    },
    {
      "cell_type": "code",
      "metadata": {
        "id": "Io12ln6Ltiob"
      },
      "source": [
        "import spacy\n",
        "STOPLIST = text.ENGLISH_STOP_WORDS\n",
        "STOPLIST = set(list(STOPLIST) + [\"foo\"])\n",
        "\n",
        "\n",
        "    \n"
      ],
      "execution_count": 13,
      "outputs": []
    },
    {
      "cell_type": "code",
      "metadata": {
        "id": "MVqYKMDXt4fj"
      },
      "source": [
        "def lemmatize_document(doc, stop_words=None):\r\n",
        "    \"\"\"\r\n",
        "    takes a list of strings where each string is a document\r\n",
        "    returns a processed list of strings\r\n",
        "    \"\"\"\r\n",
        "    \r\n",
        "    if not stop_words:\r\n",
        "        stop_words = set([])\r\n",
        "  \r\n",
        "    ## Ensure working with string\r\n",
        "    doc = str(doc)\r\n",
        "\r\n",
        "    # First remove punctuation form string\r\n",
        "    if sys.version_info.major == 3:\r\n",
        "        PUNCT_DICT = {ord(punc): None for punc in punctuation}\r\n",
        "        doc = doc.translate(PUNCT_DICT)\r\n",
        "\r\n",
        "    # Remove unicode\r\n",
        "    clean_doc = \"\".join([char for char in doc if char in printable])\r\n",
        "            \r\n",
        "    # Run the doc through spaCy\r\n",
        "    doc = nlp(clean_doc)\r\n",
        "\r\n",
        "    # Lemmatize and lower text\r\n",
        "    tokens = [re.sub(\"\\W+\",\"\",token.lemma_.lower()) for token in doc ]\r\n",
        "    tokens = [t for t in tokens if len(t) > 1]\r\n",
        "    \r\n",
        "    return ' '.join(w for w in tokens if w not in stop_words)   "
      ],
      "execution_count": 14,
      "outputs": []
    },
    {
      "cell_type": "code",
      "metadata": {
        "colab": {
          "base_uri": "https://localhost:8080/"
        },
        "id": "rLGLhdIDuAOV",
        "outputId": "f88a0da5-d295-46da-80e9-c2ddac2b7d35"
      },
      "source": [
        "## Example usage\r\n",
        "corpus = ['\"You can fool some of the people all of the time, and all of the people some of the time, but you can not fool all of the people all of the time\". -- Abraham Lincoln']\r\n",
        "processed = [lemmatize_document(doc, STOPLIST) for doc in corpus]\r\n",
        "print(processed[0])\r\n",
        "processed = [lemmatize_document(doc, None) for doc in corpus]\r\n",
        "print(\"\\n\\n\"+processed[0])"
      ],
      "execution_count": 16,
      "outputs": [
        {
          "output_type": "stream",
          "text": [
            "pron fool people time people time pron fool people time abraham lincoln\n",
            "\n",
            "\n",
            "pron can fool some of the people all of the time and all of the people some of the time but pron can not fool all of the people all of the time abraham lincoln\n"
          ],
          "name": "stdout"
        }
      ]
    },
    {
      "cell_type": "code",
      "metadata": {
        "colab": {
          "base_uri": "https://localhost:8080/"
        },
        "id": "Rj8TpnTNtioc",
        "outputId": "daa37613-a86f-48cb-9bed-489078be8453"
      },
      "source": [
        "## YOUR CODE HERE\n",
        "from tqdm import tqdm\n",
        "tqdm.pandas()\n",
        "\n",
        "saved_data_filename =  os.path.join(DATA_DIR, \"simulated_user_comments_processed.csv\")\n",
        "if not os.path.exists(saved_data_filename):\n",
        "    df['processed_comments'] = df.progress_apply(lambda x : lemmatize_document(x['comments'], stop_words=STOPLIST), axis=1)\n",
        "    df.to_csv(saved_data_filename, index=False)\n",
        "else:\n",
        "    print(\"loading {} from file\".format(saved_data_filename))\n",
        "    df = pd.read_csv(saved_data_filename)\n",
        "\n",
        "processed_corpus = df[~df['comments'].isna()]['processed_comments'].tolist()"
      ],
      "execution_count": 17,
      "outputs": [
        {
          "output_type": "stream",
          "text": [
            "loading ./sample_data/simulated_user_comments_processed.csv from file\n"
          ],
          "name": "stdout"
        }
      ]
    },
    {
      "cell_type": "code",
      "metadata": {
        "colab": {
          "base_uri": "https://localhost:8080/",
          "height": 142
        },
        "id": "gVBj7hlj0MH_",
        "outputId": "72f3eebf-b8bb-48bf-e7b4-ce9015c6bcc9"
      },
      "source": [
        "processed_corpus[0]"
      ],
      "execution_count": 20,
      "outputs": [
        {
          "output_type": "execute_result",
          "data": {
            "application/vnd.google.colaboratory.intrinsic+json": {
              "type": "string"
            },
            "text/plain": [
              "'film 1999 divide critical consensus sharply alan parkers adaptation frank mccourts memoir angelas ashe dismiss pron humorless sentimentalize uninteresting version hugely popular novel hail pron heartfelt portrait human spirit pron lean strongly pron certainly wellmade pron tedious like literary adaptation tendency feeling parker movie pseudolyrical shot rain fall homely street ireland just pron twoandahalf hour running time scream pron important mccourts book pron pron family ireland early 1900s time people desperately try pron comment pron irishfolk say goodbye statue liberty ireland frank play joe breen small child pron brother pron mother angela emily watson pron father malachy robert carlyle financial help angelas mother stereotypically strict catholic chide pron daughter marry northern irishman pron help pron ratinfeste apartment malachy look job position scarce pron finally pron unable hold pron pron fondness drink frank uptight catholic school instructor beat student blunt wooden object pron heart desire frank brother soon die cripple dreadful living condition malnutrition poverty suffering intense pron stand malachy angela baby worsen situation imagine sound like plot probably pron people pron story director alan parker commitment know tell good story angelas ashe despite pron relentlessly literary tone remain interesting film occasionally indulge pron gloomily picturesque irish setting pron avoid look like glorify travelogue supplementing parker able direction engaging poignant performance lead pron season thespian relative beginner carlyle charismatic british actor astonishing range hop lead rowdy slapstick comedy villain james bond movie sentimental melodrama perfectly portray pron pathetic character pron empathize guy pron like admire pron emily watson turn heartfelt support performance pron pron implant lump pron throat worthy mention little joe breen face grace film superb poster pron breens feature film pron extraordinary young frank unlike sudden oscar darling haley joel osment sixth sense pron peer character soul breen sad eye flip thing vastly improve angela ashe decisive editor gerry hamble sure make scenery pron parker leave half hour unnecessary footage half especially trim bring film reasonable running time pron bladder favor process thing pick halfway point sort dismiss lot criticism accumulate opening hour maintain aggressively deliberate pace parker set half ludicrously unnecessary spoiler warn skip paragraph suspense films final message somewhat conflict frankie effect leave pron family famish ireland pron pron america exactly pron suppose make pron mother mind pron want good possible future pron son mother pron inconsiderate pron read book pron sure mccourt justify pron action pron suspicious thing make clear movie meaning title pron sure explain memoir film pron adaptation angelas ashe stand tall despite minor setback pron captivate story people force live trench merciless society weak character shove financial ladder'"
            ]
          },
          "metadata": {
            "tags": []
          },
          "execution_count": 20
        }
      ]
    },
    {
      "cell_type": "markdown",
      "metadata": {
        "id": "tVd4sZgKtiod"
      },
      "source": [
        "### QUESTION 3\n",
        "\n",
        "Using the function that you created in Question 1, summarize the processed data."
      ]
    },
    {
      "cell_type": "code",
      "metadata": {
        "colab": {
          "base_uri": "https://localhost:8080/",
          "height": 589
        },
        "id": "_Q-WcZDbtioe",
        "outputId": "47e4f215-bf27-4cf0-936b-b533246df464"
      },
      "source": [
        "plot_corpus_summary(processed_corpus)"
      ],
      "execution_count": 21,
      "outputs": [
        {
          "output_type": "stream",
          "text": [
            "---------------------------\n",
            "num docs 1132\n",
            "median tokens 325.0\n",
            "num tokens 393177\n",
            "unique tokens 29980\n",
            "---------------------------\n"
          ],
          "name": "stdout"
        },
        {
          "output_type": "stream",
          "text": [
            "/usr/local/lib/python3.6/dist-packages/seaborn/distributions.py:2551: FutureWarning: `distplot` is a deprecated function and will be removed in a future version. Please adapt your code to use either `displot` (a figure-level function with similar flexibility) or `histplot` (an axes-level function for histograms).\n",
            "  warnings.warn(msg, FutureWarning)\n",
            "/usr/local/lib/python3.6/dist-packages/seaborn/distributions.py:2551: FutureWarning: `distplot` is a deprecated function and will be removed in a future version. Please adapt your code to use either `displot` (a figure-level function with similar flexibility) or `histplot` (an axes-level function for histograms).\n",
            "  warnings.warn(msg, FutureWarning)\n"
          ],
          "name": "stderr"
        },
        {
          "output_type": "display_data",
          "data": {
            "image/png": "[encoded data removed]",
            "text/plain": [
              "<Figure size 1008x432 with 2 Axes>"
            ]
          },
          "metadata": {
            "tags": [],
            "needs_background": "light"
          }
        }
      ]
    },
    {
      "cell_type": "markdown",
      "metadata": {
        "id": "JMmqBJVttioe"
      },
      "source": [
        "### QUESTION 4\n",
        "\n",
        "A [bag-of-words model](https://en.wikipedia.org/wiki/Bag-of-words_model) is a representation of text.  A document or sentence is represented as numeric counts of the individual words, without considering grammar and punctuation.  Even the word order is ignored unless you expand your feature matrix with [n-grams](https://en.wikipedia.org/wiki/N-gram).\n",
        "\n",
        "The most common type matrix derived from the bag-of-words representation **term frequency (TF)**, which is the number of times a token appears in the text.  Another useful matrix is the [term frequency-inverse document frequency (tf-idf)](https://en.wikipedia.org/wiki/Tf%E2%80%93idf) matrix. There are variations on tf-idf and in general these derived matrices can be thought of as *transforms* that can be optimized in an iterative fashion.\n",
        "   \n",
        "Finish the pipeline with a naive Bayes classifier to compare transforms\n",
        "\n",
        "Naive Bayes approaches are a commonly used base model for text\n",
        "classification.\n",
        "\n",
        "There are several types of Naive Bayes model.\n",
        "\n",
        "* Gaussian: It is used in classification and it assumes that features follow a normal distribution.\n",
        "* Multinomial: It is used for discrete counts.\n",
        "* Bernoulli: The binomial model is useful if your feature vectors are binary (i.e. zeros and ones).\n",
        "* Complement: CNB is an adaptation of the standard multinomial naive Bayes (MNB) algorithm that is particularly suited for imbalanced data sets\n",
        "\n",
        "In the next coding cell, we split the dataset into a test set and a training set. Then, you will have to create a text classification pipeline to predict the sentiment of the comments. The first part of the pipeline should transform the processed text to a vector representation, the second part is the classifier estimator. In this question we ask you to use one of the Naive Bayes model presented above."
      ]
    },
    {
      "cell_type": "code",
      "metadata": {
        "colab": {
          "base_uri": "https://localhost:8080/"
        },
        "id": "I9FywQtptiof",
        "outputId": "6ff1cb22-98b9-481f-a6c5-5e73ee9cc850"
      },
      "source": [
        "# Some additional EDA allowed us to observe that the first month and last month of the data are incomplete.\n",
        "# Because we want to link the model's impact on the churn rate at a monthly level, \n",
        "# we remove the last month and the first month of the analysis.\n",
        "\n",
        "# Moreover, in order to better test the future impact of our model we take as test set the last 3 complete \n",
        "# months of the dataset and use the rest of the data for the training set.\n",
        "\n",
        "df_test = df[df['M-Y'].astype(str).isin(['2019-08', '2019-07', '2019-06'])].copy(deep=True)\n",
        "df_train = df[~df['M-Y'].astype(str).isin(['2019-08', '2019-07', '2019-06', '2019-09', '2018-01'])].copy(deep=True)\n",
        "\n",
        "# we extract from these two datasets the comments and the sentiment labels which are our independent \n",
        "# and dependent variables, repectively.\n",
        "def create_sentiment_data(df):\n",
        "    X = df.dropna()['processed_comments']\n",
        "    y = df.dropna()['sentiments']\n",
        "    return X, y\n",
        "\n",
        "X_train, y_train = create_sentiment_data(df_train)\n",
        "X_test, y_test = create_sentiment_data(df_test)\n",
        "\n",
        "print(\"---------------------------\")\n",
        "print(\"train\", sorted(Counter(y_train).items()))\n",
        "print(\"test\", sorted(Counter(y_test).items()))\n",
        "print(\"targets\", target_names)\n",
        "print(\"---------------------------\")"
      ],
      "execution_count": 22,
      "outputs": [
        {
          "output_type": "stream",
          "text": [
            "---------------------------\n",
            "train [(0.0, 178), (1.0, 579)]\n",
            "test [(0.0, 110), (1.0, 238)]\n",
            "targets ['neg', 'pos']\n",
            "---------------------------\n"
          ],
          "name": "stdout"
        }
      ]
    },
    {
      "cell_type": "code",
      "metadata": {
        "colab": {
          "base_uri": "https://localhost:8080/"
        },
        "id": "66XG0qvN2tOO",
        "outputId": "792143e3-a6f3-4d22-dc05-3a75fa81a58c"
      },
      "source": [
        "X_train.head(10)\r\n"
      ],
      "execution_count": 23,
      "outputs": [
        {
          "output_type": "execute_result",
          "data": {
            "text/plain": [
              "6     film 1999 divide critical consensus sharply al...\n",
              "7     capsule liebe meet tod film sex death morgue a...\n",
              "9     mickey mouse watch pron new critter town pron ...\n",
              "10    like american history theater video feature fi...\n",
              "13    old saying state leave good george lucas certa...\n",
              "16    martin scorseses kundun chronicle roughly year...\n",
              "17    ingredient pour rain small flood town damn bur...\n",
              "51    pron inner flag halfmast year nick nite pull d...\n",
              "53    thing bad watch bad movie realize film lot pot...\n",
              "54    90 unwelcome thriller trend return grave pron ...\n",
              "Name: processed_comments, dtype: object"
            ]
          },
          "metadata": {
            "tags": []
          },
          "execution_count": 23
        }
      ]
    },
    {
      "cell_type": "code",
      "metadata": {
        "colab": {
          "base_uri": "https://localhost:8080/"
        },
        "id": "u9kDz7775diq",
        "outputId": "3e3c5fa3-578d-4bb6-aef5-57016ece6c01"
      },
      "source": [
        "y_train.head(10)"
      ],
      "execution_count": 24,
      "outputs": [
        {
          "output_type": "execute_result",
          "data": {
            "text/plain": [
              "6     1.0\n",
              "7     0.0\n",
              "9     1.0\n",
              "10    1.0\n",
              "13    1.0\n",
              "16    1.0\n",
              "17    1.0\n",
              "51    0.0\n",
              "53    0.0\n",
              "54    0.0\n",
              "Name: sentiments, dtype: float64"
            ]
          },
          "metadata": {
            "tags": []
          },
          "execution_count": 24
        }
      ]
    },
    {
      "cell_type": "code",
      "metadata": {
        "colab": {
          "base_uri": "https://localhost:8080/"
        },
        "id": "fJ_jAFwJtiof",
        "outputId": "b6b6a7f4-3eb6-499c-ef96-567198193c5c"
      },
      "source": [
        "## YOUR CODE HERE (base model)\n",
        "from sklearn.naive_bayes import MultinomialNB\n",
        "\n",
        "time_start = time.time()\n",
        "pipe1  = Pipeline(steps=[('tfidf',TfidfVectorizer()),\n",
        "                         ('nb', MultinomialNB())])\n",
        "\n",
        "param_grid1 = {\n",
        "    'tfidf__max_df':[0.4, 0.6, 0.8],\n",
        "    'tfidf__max_features': [2000, 4000, 6000],\n",
        "    'nb__alpha':[0.01, 0.1, 1.0, 2.0]   \n",
        "}\n",
        "\n",
        "\n",
        "\n",
        "\n",
        "\n",
        "grid1 = GridSearchCV(pipe1, param_grid=param_grid1, cv=5, n_jobs=-1)\n",
        "grid1.fit(X_train, y_train)\n",
        "y_pred = grid1.predict(X_test)\n",
        "print(\"train time\", time.strftime('%H:%M:%S', time.gmtime(time.time()-time_start)))\n",
        "print(classification_report(y_test, y_pred, target_names=target_names))\n",
        "print(grid1.best_params_)"
      ],
      "execution_count": 26,
      "outputs": [
        {
          "output_type": "stream",
          "text": [
            "train time 00:00:42\n",
            "              precision    recall  f1-score   support\n",
            "\n",
            "         neg       0.87      0.18      0.30       110\n",
            "         pos       0.72      0.99      0.83       238\n",
            "\n",
            "    accuracy                           0.73       348\n",
            "   macro avg       0.80      0.58      0.57       348\n",
            "weighted avg       0.77      0.73      0.67       348\n",
            "\n",
            "{'nb__alpha': 0.01, 'tfidf__max_df': 0.8, 'tfidf__max_features': 6000}\n"
          ],
          "name": "stdout"
        }
      ]
    },
    {
      "cell_type": "markdown",
      "metadata": {
        "id": "YN_xCFdltiog"
      },
      "source": [
        "### QUESTION 5\n",
        "\n",
        "See if you can beat the base model. Try other classifiers and other vectorization methods to beat the pipeline that we trained in the previous question\n",
        "(HINT: try using the SGDClassifier)"
      ]
    },
    {
      "cell_type": "code",
      "metadata": {
        "colab": {
          "base_uri": "https://localhost:8080/"
        },
        "id": "DOfbeRyqtiog",
        "outputId": "8cd978f9-01fc-43f9-d758-ca5fecaa3bdd"
      },
      "source": [
        "# YOUR CODE HERE\n",
        "from sklearn.linear_model import SGDClassifier\n",
        "\n",
        "time_start = time.time()\n",
        "pipe2  = Pipeline(steps=[('tfidf',TfidfVectorizer()),\n",
        "                         ('sgd', SGDClassifier(penalty = 'elasticnet'))])\n",
        "\n",
        "param_grid2 = {\n",
        "    'tfidf__max_df':[0.4, 0.6, 0.8],\n",
        "    'tfidf__max_features': [1000, 2000, 4000],\n",
        "    'sgd__alpha':[0.0001, 0.001, 0.01],\n",
        "    'sgd__l1_ratio':[ 0.20, 0.40, 0.50, 0.7]\n",
        "}\n",
        "\n",
        "grid2 = GridSearchCV(pipe2, param_grid=param_grid2, cv=5, n_jobs=-1)\n",
        "grid2.fit(X_train, y_train)\n",
        "y_pred = grid2.predict(X_test)\n",
        "y_pred_train = grid2.predict(X_train)\n",
        "print(\"train time\", time.strftime('%H:%M:%S', time.gmtime(time.time()-time_start)))\n",
        "print(classification_report(y_test, y_pred, target_names=target_names))\n",
        "print(grid2.best_params_)"
      ],
      "execution_count": 27,
      "outputs": [
        {
          "output_type": "stream",
          "text": [
            "train time 00:02:12\n",
            "              precision    recall  f1-score   support\n",
            "\n",
            "         neg       0.86      0.51      0.64       110\n",
            "         pos       0.81      0.96      0.88       238\n",
            "\n",
            "    accuracy                           0.82       348\n",
            "   macro avg       0.84      0.74      0.76       348\n",
            "weighted avg       0.83      0.82      0.80       348\n",
            "\n",
            "{'sgd__alpha': 0.0001, 'sgd__l1_ratio': 0.7, 'tfidf__max_df': 0.8, 'tfidf__max_features': 4000}\n"
          ],
          "name": "stdout"
        }
      ]
    },
    {
      "cell_type": "code",
      "metadata": {
        "colab": {
          "base_uri": "https://localhost:8080/"
        },
        "id": "5yPN8sLd7kYy",
        "outputId": "ab0d5771-9749-4178-f46e-a84d1c0f2a3f"
      },
      "source": [
        "print(classification_report(y_train, y_pred_train, target_names=target_names))"
      ],
      "execution_count": 28,
      "outputs": [
        {
          "output_type": "stream",
          "text": [
            "              precision    recall  f1-score   support\n",
            "\n",
            "         neg       1.00      1.00      1.00       178\n",
            "         pos       1.00      1.00      1.00       579\n",
            "\n",
            "    accuracy                           1.00       757\n",
            "   macro avg       1.00      1.00      1.00       757\n",
            "weighted avg       1.00      1.00      1.00       757\n",
            "\n"
          ],
          "name": "stdout"
        }
      ]
    },
    {
      "cell_type": "markdown",
      "metadata": {
        "id": "i6kAj56Ttioh"
      },
      "source": [
        "### QUESTION 6\n",
        "\n",
        "Now that you have a created a decent classifier, we want to investigate the relation between our predicted sentiment score and the churn rate.\n",
        "\n",
        "First you should create a dataframe that summarizes the rate of churn per month, the average real sentiment, and the predicted sentiment per month. Then, as you would as part of EDA, you will investigate the relationship between the sentiment and the business metric. At a minimum, the investigation should involve visualization, but hypothesis testing and/or statistical models could also be useful here."
      ]
    },
    {
      "cell_type": "code",
      "metadata": {
        "colab": {
          "base_uri": "https://localhost:8080/",
          "height": 223
        },
        "id": "xLI5TF7mtioh",
        "outputId": "88aa4334-1e50-439d-fcd2-70e16d99b2c6"
      },
      "source": [
        "# First we add the prediction to the train and test datasets.\n",
        "df_test['sentiment_pred']=np.nan\n",
        "idxs = df_test[~df_test['comments'].isna()]['sentiment_pred'].index.tolist()\n",
        "for i, idx in enumerate(idxs):\n",
        "    df_test.loc[idx, 'sentiment_pred'] = y_pred[i]\n",
        "    \n",
        "df_train['sentiment_pred']=np.nan\n",
        "idxs = df_train[~df_train['comments'].isna()]['sentiment_pred'].index.tolist()\n",
        "for i, idx in enumerate(idxs):\n",
        "    df_train.loc[idx, 'sentiment_pred'] = y_pred_train[i]\n",
        "    \n",
        "    \n",
        "def create_visu(x):\n",
        "    \"\"\"\n",
        "    This function computes the aggregated metrics\n",
        "    Input : A group dataframe of the df_train or df_test dataframe grouped by M-Y\n",
        "    Output : A pandas series with the following 3 aggregated metrics for this month :\n",
        "            - The total number of actual positive comments\n",
        "            - The total number of predicted positive comments\n",
        "            - The total number of churn\n",
        "    \"\"\"    \n",
        "    sentiment = x[~x['comments'].isna()]['sentiments'].sum()\n",
        "    sentiment_pred = x[~x['comments'].isna()]['sentiment_pred'].sum()\n",
        "    churn = x['subscription_stopped'].sum()\n",
        "    return pd.Series({'sentiment': sentiment, 'sentiment_pred': sentiment_pred, 'churn': churn})\n",
        "\n",
        "df_summary = pd.concat([df_train.groupby('M-Y').apply(create_visu), df_test.groupby('M-Y').apply(create_visu)])\n",
        "df_summary.head()"
      ],
      "execution_count": 29,
      "outputs": [
        {
          "output_type": "execute_result",
          "data": {
            "text/html": [
              "<div>\n",
              "<style scoped>\n",
              "    .dataframe tbody tr th:only-of-type {\n",
              "        vertical-align: middle;\n",
              "    }\n",
              "\n",
              "    .dataframe tbody tr th {\n",
              "        vertical-align: top;\n",
              "    }\n",
              "\n",
              "    .dataframe thead th {\n",
              "        text-align: right;\n",
              "    }\n",
              "</style>\n",
              "<table border=\"1\" class=\"dataframe\">\n",
              "  <thead>\n",
              "    <tr style=\"text-align: right;\">\n",
              "      <th></th>\n",
              "      <th>sentiment</th>\n",
              "      <th>sentiment_pred</th>\n",
              "      <th>churn</th>\n",
              "    </tr>\n",
              "    <tr>\n",
              "      <th>M-Y</th>\n",
              "      <th></th>\n",
              "      <th></th>\n",
              "      <th></th>\n",
              "    </tr>\n",
              "  </thead>\n",
              "  <tbody>\n",
              "    <tr>\n",
              "      <th>2018-02</th>\n",
              "      <td>11.0</td>\n",
              "      <td>11.0</td>\n",
              "      <td>0.0</td>\n",
              "    </tr>\n",
              "    <tr>\n",
              "      <th>2018-03</th>\n",
              "      <td>19.0</td>\n",
              "      <td>19.0</td>\n",
              "      <td>0.0</td>\n",
              "    </tr>\n",
              "    <tr>\n",
              "      <th>2018-04</th>\n",
              "      <td>25.0</td>\n",
              "      <td>25.0</td>\n",
              "      <td>4.0</td>\n",
              "    </tr>\n",
              "    <tr>\n",
              "      <th>2018-05</th>\n",
              "      <td>39.0</td>\n",
              "      <td>39.0</td>\n",
              "      <td>3.0</td>\n",
              "    </tr>\n",
              "    <tr>\n",
              "      <th>2018-06</th>\n",
              "      <td>39.0</td>\n",
              "      <td>39.0</td>\n",
              "      <td>10.0</td>\n",
              "    </tr>\n",
              "  </tbody>\n",
              "</table>\n",
              "</div>"
            ],
            "text/plain": [
              "         sentiment  sentiment_pred  churn\n",
              "M-Y                                      \n",
              "2018-02       11.0            11.0    0.0\n",
              "2018-03       19.0            19.0    0.0\n",
              "2018-04       25.0            25.0    4.0\n",
              "2018-05       39.0            39.0    3.0\n",
              "2018-06       39.0            39.0   10.0"
            ]
          },
          "metadata": {
            "tags": []
          },
          "execution_count": 29
        }
      ]
    },
    {
      "cell_type": "code",
      "metadata": {
        "colab": {
          "base_uri": "https://localhost:8080/",
          "height": 662
        },
        "id": "Ggv0AiHxtioh",
        "outputId": "a4d615f7-4fd1-4367-c8b6-7b0d9d850dbd"
      },
      "source": [
        "# YOUR CODE HERE\n",
        "\n",
        "fig = plt.figure(figsize=(30,15))\n",
        "ax1 = fig.add_subplot(111)\n",
        "\n",
        "n_months = df_summary.shape[0]\n",
        "\n",
        "color = 'tab:red'\n",
        "ax1.set_xlabel('Month')\n",
        "ax1.set_ylabel('sentiment', color=color)\n",
        "p1 = ax1.plot(df_summary.index.astype(str), df_summary['sentiment'], color=color, lw=4)\n",
        "p2 = ax1.plot(df_summary.index.astype(str), df_summary['sentiment_pred'], color='tab:green', lw=4, alpha =0.5)\n",
        "ax1.tick_params(axis='y',labelcolor=color)\n",
        "ax1.set_ylim((0, 130))\n",
        "\n",
        "ax2 = ax1.twinx()\n",
        "\n",
        "color = 'tab:blue'\n",
        "ax2.set_ylabel('churn', color=color)\n",
        "p3 = ax2.plot(df_summary.index.astype(str), df_summary['churn'], color=color, lw=4)\n",
        "ax2.tick_params(axis='y',labelcolor=color)\n",
        "ax2.set_ylim((0, 55))\n",
        "\n",
        "ax2.legend([p1[0], p2[0], p3[0]], [\"sentiment\", \"sentiment_pred\", \"churn\"])\n",
        "\n",
        "\n",
        "bbox_props = dict(boxstyle=\"rarrow,pad=0.3\", fc=\"white\", ec=\"b\", lw=2)\n",
        "ax2.text(15, 0, \"Test\", ha=\"center\", va=\"center\", \n",
        "                 size=15,rotation=90,\n",
        "                 bbox=bbox_props)\n",
        "ax2.vlines(15, 0, 55, linestyles='--')"
      ],
      "execution_count": 32,
      "outputs": [
        {
          "output_type": "execute_result",
          "data": {
            "text/plain": [
              "<matplotlib.collections.LineCollection at 0x7f4a34f82c88>"
            ]
          },
          "metadata": {
            "tags": []
          },
          "execution_count": 32
        },
        {
          "output_type": "display_data",
          "data": {
            "image/png": "[encoded data removed]",
            "text/plain": [
              "<Figure size 2160x1080 with 2 Axes>"
            ]
          },
          "metadata": {
            "tags": [],
            "needs_background": "light"
          }
        }
      ]
    },
    {
      "cell_type": "markdown",
      "metadata": {
        "id": "2_3V57gLtioi"
      },
      "source": [
        "## Solution comments\n",
        "\n",
        "We can see that the the churn rate seems to be negatively correlated with the churn rate. Building on this plot, we can fit a linear regression model to quantify the strength of the relation between these two variables."
      ]
    },
    {
      "cell_type": "code",
      "metadata": {
        "colab": {
          "base_uri": "https://localhost:8080/",
          "height": 282
        },
        "id": "RahQSIBP-jjy",
        "outputId": "f898dbf5-994f-4483-e1ac-7d68be07e238"
      },
      "source": [
        "df_summary.describe()"
      ],
      "execution_count": 33,
      "outputs": [
        {
          "output_type": "execute_result",
          "data": {
            "text/html": [
              "<div>\n",
              "<style scoped>\n",
              "    .dataframe tbody tr th:only-of-type {\n",
              "        vertical-align: middle;\n",
              "    }\n",
              "\n",
              "    .dataframe tbody tr th {\n",
              "        vertical-align: top;\n",
              "    }\n",
              "\n",
              "    .dataframe thead th {\n",
              "        text-align: right;\n",
              "    }\n",
              "</style>\n",
              "<table border=\"1\" class=\"dataframe\">\n",
              "  <thead>\n",
              "    <tr style=\"text-align: right;\">\n",
              "      <th></th>\n",
              "      <th>sentiment</th>\n",
              "      <th>sentiment_pred</th>\n",
              "      <th>churn</th>\n",
              "    </tr>\n",
              "  </thead>\n",
              "  <tbody>\n",
              "    <tr>\n",
              "      <th>count</th>\n",
              "      <td>19.000000</td>\n",
              "      <td>19.000000</td>\n",
              "      <td>19.000000</td>\n",
              "    </tr>\n",
              "    <tr>\n",
              "      <th>mean</th>\n",
              "      <td>43.000000</td>\n",
              "      <td>45.368421</td>\n",
              "      <td>11.526316</td>\n",
              "    </tr>\n",
              "    <tr>\n",
              "      <th>std</th>\n",
              "      <td>20.132892</td>\n",
              "      <td>25.826796</td>\n",
              "      <td>14.013360</td>\n",
              "    </tr>\n",
              "    <tr>\n",
              "      <th>min</th>\n",
              "      <td>11.000000</td>\n",
              "      <td>11.000000</td>\n",
              "      <td>0.000000</td>\n",
              "    </tr>\n",
              "    <tr>\n",
              "      <th>25%</th>\n",
              "      <td>31.500000</td>\n",
              "      <td>31.500000</td>\n",
              "      <td>3.000000</td>\n",
              "    </tr>\n",
              "    <tr>\n",
              "      <th>50%</th>\n",
              "      <td>40.000000</td>\n",
              "      <td>40.000000</td>\n",
              "      <td>5.000000</td>\n",
              "    </tr>\n",
              "    <tr>\n",
              "      <th>75%</th>\n",
              "      <td>48.500000</td>\n",
              "      <td>48.500000</td>\n",
              "      <td>15.000000</td>\n",
              "    </tr>\n",
              "    <tr>\n",
              "      <th>max</th>\n",
              "      <td>94.000000</td>\n",
              "      <td>122.000000</td>\n",
              "      <td>54.000000</td>\n",
              "    </tr>\n",
              "  </tbody>\n",
              "</table>\n",
              "</div>"
            ],
            "text/plain": [
              "       sentiment  sentiment_pred      churn\n",
              "count  19.000000       19.000000  19.000000\n",
              "mean   43.000000       45.368421  11.526316\n",
              "std    20.132892       25.826796  14.013360\n",
              "min    11.000000       11.000000   0.000000\n",
              "25%    31.500000       31.500000   3.000000\n",
              "50%    40.000000       40.000000   5.000000\n",
              "75%    48.500000       48.500000  15.000000\n",
              "max    94.000000      122.000000  54.000000"
            ]
          },
          "metadata": {
            "tags": []
          },
          "execution_count": 33
        }
      ]
    },
    {
      "cell_type": "code",
      "metadata": {
        "colab": {
          "base_uri": "https://localhost:8080/"
        },
        "id": "Ic4AonB5tioi",
        "outputId": "a129491c-acdc-4819-ac1a-d6ec6437a635"
      },
      "source": [
        "import statsmodels.formula.api as smf\n",
        "mod = smf.ols(formula='churn ~ sentiment', data=df_summary)\n",
        "res = mod.fit()\n",
        "print(res.summary())"
      ],
      "execution_count": 38,
      "outputs": [
        {
          "output_type": "stream",
          "text": [
            "                            OLS Regression Results                            \n",
            "==============================================================================\n",
            "Dep. Variable:                  churn   R-squared:                       0.615\n",
            "Model:                            OLS   Adj. R-squared:                  0.592\n",
            "Method:                 Least Squares   F-statistic:                     27.14\n",
            "Date:                Fri, 01 Jan 2021   Prob (F-statistic):           7.09e-05\n",
            "Time:                        02:32:59   Log-Likelihood:                -67.543\n",
            "No. Observations:                  19   AIC:                             139.1\n",
            "Df Residuals:                      17   BIC:                             141.0\n",
            "Df Model:                           1                                         \n",
            "Covariance Type:            nonrobust                                         \n",
            "==============================================================================\n",
            "                 coef    std err          t      P>|t|      [0.025      0.975]\n",
            "------------------------------------------------------------------------------\n",
            "Intercept    -11.9422      4.951     -2.412      0.027     -22.387      -1.497\n",
            "sentiment      0.5458      0.105      5.209      0.000       0.325       0.767\n",
            "==============================================================================\n",
            "Omnibus:                        1.704   Durbin-Watson:                   1.299\n",
            "Prob(Omnibus):                  0.427   Jarque-Bera (JB):                1.278\n",
            "Skew:                           0.608   Prob(JB):                        0.528\n",
            "Kurtosis:                       2.633   Cond. No.                         114.\n",
            "==============================================================================\n",
            "\n",
            "Warnings:\n",
            "[1] Standard Errors assume that the covariance matrix of the errors is correctly specified.\n"
          ],
          "name": "stdout"
        },
        {
          "output_type": "stream",
          "text": [
            "/usr/local/lib/python3.6/dist-packages/scipy/stats/stats.py:1535: UserWarning: kurtosistest only valid for n>=20 ... continuing anyway, n=19\n",
            "  \"anyway, n=%i\" % int(n))\n"
          ],
          "name": "stderr"
        }
      ]
    },
    {
      "cell_type": "code",
      "metadata": {
        "id": "TUVreUDZ-e5V"
      },
      "source": [
        ""
      ],
      "execution_count": null,
      "outputs": []
    },
    {
      "cell_type": "markdown",
      "metadata": {
        "id": "x00kpPMqtioj"
      },
      "source": [
        "### QUESTION 7 (Optional)\n",
        "\n",
        "Finally, we want to simulate the business impact that our model would have once implemented to support a marketing strategy. This simulation will allow us to link the performance of our model to the retention metric.\n",
        "\n",
        "##### Marketing strategy :\n",
        "We describe the following simple marketing strategy : Every month, our model predicts the average sentiment score of every subscriber. Then, if the ratio of negative comments over positive comments is greater than a certain threshold for a specific customer, the marketing team will send an incentive to this customer. \n",
        "* <u>Assumption 1</u> : Based on previous marketing campaigns, we assume that the probability that a customer stays after receiving the incentive given that he wanted to un-subscribe in the near future follows a normal distribution with mean 0.6 and standard deviation 0.05.\n",
        "* <u>Assumption 2</u> : The accuracy of our model in the coming months will follow a normal distribution with mean 0.81 and standard deviation 0.02.(based on cross validation across months on the training set).\n",
        "* <u>Assumption 3</u> : The predictive model is only a function of it's accuracy. In other words, we will suppose that the proportions of false positives and false negatives are the equal. (This is a strong assumption but we will see later that it is possible to relax it).\n",
        "\n",
        "The business metric that we will use to evaluate this simulated marketing campaign against the performance of our predictive model is the percent decrease in rate of churn when the strategy is implemented.\n",
        "\n",
        "##### Simulated data:\n",
        "To test this marketing strategy we simulated a dataset based on historical data. These data are very similar to the streams dataset: One row corresponds with one stream. The data has 4 columns:\n",
        "* month\n",
        "* customer_id \n",
        "* subscription_stopped -> whereas the customer stopped his subscription after this stream\n",
        "* sentiment -> boolean variable that gives the sentiment (positive of negative) of a comment that the customer left after this stream.\n",
        "\n",
        "In order to simplify this notebook we already generated this simulated dataset and saved it in the data folder. We will focus here on the implementation of the proposed marketing strategy and visualizing its business impact. Specifically, you'll investigate the relationship between the performance of our model and the retention metric. At a minimum the investigation should involve visualization, but hypothesis testing and/or statistical models could be useful here."
      ]
    },
    {
      "cell_type": "code",
      "metadata": {
        "id": "wSJTVmY0tioj"
      },
      "source": [
        "df_simulation = pd.read_csv(os.path.join(DATA_DIR, \"simulation_data.csv\"))"
      ],
      "execution_count": 43,
      "outputs": []
    },
    {
      "cell_type": "code",
      "metadata": {
        "colab": {
          "base_uri": "https://localhost:8080/"
        },
        "id": "qb0W9q8t8mFS",
        "outputId": "31ea7501-432c-4a3d-9705-4a9e6b6bd438"
      },
      "source": [
        "df_simulation.info()"
      ],
      "execution_count": 48,
      "outputs": [
        {
          "output_type": "stream",
          "text": [
            "<class 'pandas.core.frame.DataFrame'>\n",
            "RangeIndex: 10847 entries, 0 to 10846\n",
            "Data columns (total 6 columns):\n",
            " #   Column                          Non-Null Count  Dtype  \n",
            "---  ------                          --------------  -----  \n",
            " 0   customer_id                     10847 non-null  int64  \n",
            " 1   subscription_stopped            10847 non-null  int64  \n",
            " 2   sentiments                      738 non-null    float64\n",
            " 3   month                           10847 non-null  object \n",
            " 4   simulated_sentiments            738 non-null    float64\n",
            " 5   simulated_subscription_stopped  10847 non-null  int64  \n",
            "dtypes: float64(2), int64(3), object(1)\n",
            "memory usage: 508.6+ KB\n"
          ],
          "name": "stdout"
        }
      ]
    },
    {
      "cell_type": "code",
      "metadata": {
        "colab": {
          "base_uri": "https://localhost:8080/"
        },
        "id": "EiJeMF8f8w51",
        "outputId": "2426c397-9bdb-440d-ced7-b1b349c31417"
      },
      "source": [
        "df_simulation.isna().sum(axis = 0)"
      ],
      "execution_count": 50,
      "outputs": [
        {
          "output_type": "execute_result",
          "data": {
            "text/plain": [
              "customer_id                           0\n",
              "subscription_stopped                  0\n",
              "sentiments                        10109\n",
              "month                                 0\n",
              "simulated_sentiments              10109\n",
              "simulated_subscription_stopped        0\n",
              "dtype: int64"
            ]
          },
          "metadata": {
            "tags": []
          },
          "execution_count": 50
        }
      ]
    },
    {
      "cell_type": "code",
      "metadata": {
        "id": "eBEeysdstioj"
      },
      "source": [
        "model_accuracy = 0.81\n",
        "\n",
        "\n",
        "# We simulate the accuracy of our model on the comming months\n",
        "simulated_acc = {month:np.random.normal(loc=model_accuracy, scale=0.02) for month in df_simulation['month'].unique()}\n",
        "\n",
        "\n",
        "def simulate_model(x):\n",
        "    \"\"\"\n",
        "    This function simulates the output of the model based on the simulated accuracy.\n",
        "    Input : A group dataframe of df_simulation grouped by month.\n",
        "    Output : A copy of the input dataframe with an additional column that gives the simulated sentiments.\n",
        "    \"\"\"\n",
        "    df_tmp = x.copy()\n",
        "    month = df_tmp['month'].iloc[0]\n",
        "    acc = simulated_acc[month]\n",
        "    df_tmp['simulated_sentiments'] = np.nan\n",
        "    for i in range (len(df_tmp)):\n",
        "        if df_tmp['sentiments'].iloc[i]==1 :\n",
        "            if np.random.random() > acc :\n",
        "                df_tmp['simulated_sentiments'].iloc[i]=0\n",
        "            else :\n",
        "                df_tmp['simulated_sentiments'].iloc[i]=1\n",
        "        elif df_tmp['sentiments'].iloc[i]==0 :\n",
        "            if np.random.random() > acc :\n",
        "                df_tmp['simulated_sentiments'].iloc[i]=1\n",
        "            else :\n",
        "                df_tmp['simulated_sentiments'].iloc[i]=0\n",
        "        else :\n",
        "            pass\n",
        "    return df_tmp\n",
        "df_simulation = df_simulation.groupby('month').apply(simulate_model).reset_index(drop=True)\n",
        "\n",
        "\n",
        "def apply_marketing_policy(x, threshold):\n",
        "    \"\"\" \n",
        "    This function implements the marketing policy and outputs the customers that are selected for an incentive.\n",
        "    Input : A group dataframe of df_simulation for a specific customer_id / the threshold that dicts whereas this\n",
        "    customer should receive an incentive according to the simulated strategy.\n",
        "    Output : 1 if this customer should receive an incentive and 0 otherwise.\n",
        "    \"\"\"\n",
        "    if x['subscription_stopped'].max()>0 :\n",
        "        nb_pos = float(x.dropna()['simulated_sentiments'].sum())\n",
        "        len_ = float(len(x.dropna()))\n",
        "        nb_neg = len_ - nb_pos\n",
        "        ratio = nb_neg/(nb_pos+1)\n",
        "        if ratio > threshold:\n",
        "            return 1\n",
        "        else :\n",
        "            return 0\n",
        "    else :\n",
        "        return 0\n",
        "flaged_customer = df_simulation.groupby('customer_id').apply(lambda x : apply_marketing_policy(x, 0.5))==1\n",
        "\n",
        "\n",
        "def simulate_marketing_output(x):\n",
        "    \"\"\"\n",
        "    This function simulates the output of the marketing strategy on the flagged customers.\n",
        "    Input : A row of the df_simulation dataframe.\n",
        "    Output : the simulated value of subscription stopped for this row.\n",
        "    \"\"\"\n",
        "    if x['subscription_stopped'] == 1: # for efficiency\n",
        "        if flaged_customer[x['customer_id']] : # if the customer has been flagged by the model\n",
        "            if np.random.random() < np.random.normal(0.6, 0.05): # simulates the success of the incentive\n",
        "                return 0\n",
        "    return x['subscription_stopped']\n",
        "\n",
        "df_simulation['simulated_subscription_stopped'] = df_simulation.apply(simulate_marketing_output, axis=1)\n",
        "\n"
      ],
      "execution_count": 51,
      "outputs": []
    },
    {
      "cell_type": "code",
      "metadata": {
        "id": "UTneRm9Mtiok"
      },
      "source": [
        "# YOUR CODE HERE (Replace the #<> symbols by your code)\n",
        "\n",
        "def make_visualization_data(x):\n",
        "    \"\"\"\n",
        "    This function creates the aggregated metrics that we want to vizualize.\n",
        "    Input : One group dataframe of the df_simluation dataframe grouped by month (to see how one of these groups \n",
        "    look like you can use the pandas function get_group() on a DataFrameGroupBy pandas object)\n",
        "    Output : A pandas series with the following aggregated metrics : \n",
        "            - The total number of actuall churn for this month\n",
        "            - The total number of simulated churn for this month \n",
        "            - The total number of actuall positive comments\n",
        "            - The total number of predicted positive comments\n",
        "            - The model's accuracy for this month\n",
        "    \"\"\"\n",
        "    month = x['month'].iloc[0]\n",
        "    accuracy = simulated_acc[month]\n",
        "    churn = x['subscription_stopped'].sum()\n",
        "    simulated_churn = x['simulated_subscription_stopped'].sum()\n",
        "    sentiment = x['sentiments'].sum()\n",
        "    predicted_sentiment =  x['simulated_sentiments'].sum()\n",
        "    return pd.Series({'churn': churn, 'simulated_churn': simulated_churn, 'sentiment':sentiment, 'predicted_sentiment':predicted_sentiment, 'accuracy':accuracy})\n",
        "\n",
        "\n",
        "\n",
        "df_summary = df_simulation.groupby('month').apply(make_visualization_data)\n",
        "# The buisness output of the marketing is measured with the percentage deacrease in number of churn per month.\n",
        "df_summary['business_perf'] = 100*(df_summary['churn'] - df_summary['simulated_churn'])/df_summary['churn']"
      ],
      "execution_count": 45,
      "outputs": []
    },
    {
      "cell_type": "code",
      "metadata": {
        "colab": {
          "base_uri": "https://localhost:8080/",
          "height": 524
        },
        "id": "P2WJeqpztiok",
        "outputId": "801d0046-2dcc-4905-ab43-7139587aae85"
      },
      "source": [
        "# YOUR CODE HERE\n",
        "\n",
        "fig = plt.figure(figsize=(16,8))\n",
        "ax1 = fig.add_subplot(111)\n",
        "\n",
        "n_months = df_summary.shape[0]\n",
        "\n",
        "ax1.set_xlabel('Month')\n",
        "ax1.set_ylabel('accuracy', color='tab:red')\n",
        "p1 = ax1.plot(df_summary.index.astype(str), df_summary['accuracy'], color='tab:red', lw=4)\n",
        "ax1.tick_params(axis='y',labelcolor='tab:red')\n",
        "ax1.set_ylim((0.7, 0.9))\n",
        "\n",
        "ax2 = ax1.twinx()\n",
        "\n",
        "color = 'tab:blue'\n",
        "ax2.set_ylabel('business_perf', color='tab:blue')\n",
        "p2 = ax2.plot(df_summary.index.astype(str), df_summary['business_perf'], color='tab:blue', lw=4)\n",
        "ax2.tick_params(axis='y',labelcolor='tab:blue')\n",
        "ax2.set_ylim((0, 80))\n",
        "\n",
        "ax2.legend([p1[0], p2[0]], [\"accuracy\", \"business_perf\"])"
      ],
      "execution_count": 46,
      "outputs": [
        {
          "output_type": "execute_result",
          "data": {
            "text/plain": [
              "<matplotlib.legend.Legend at 0x7f4a3590a7b8>"
            ]
          },
          "metadata": {
            "tags": []
          },
          "execution_count": 46
        },
        {
          "output_type": "display_data",
          "data": {
            "image/png": "[encoded data removed]",
            "text/plain": [
              "<Figure size 1152x576 with 2 Axes>"
            ]
          },
          "metadata": {
            "tags": [],
            "needs_background": "light"
          }
        }
      ]
    },
    {
      "cell_type": "markdown",
      "metadata": {
        "id": "qQQAVBrAtiol"
      },
      "source": [
        "## Solution comments\n",
        "\n",
        "The above visualization shows a positive correlation between the performance of the classification model and the business performance metric. Further statistical analysis should be conducted to quantify the strength and amplitude of this correlation. As described in the previous question, fitting a linear model or conducting statistical tests would allow us to better describe the output of this simulation.\n",
        "\n",
        "Moreover, some of the assumptions we took to build the simulation could be relaxed. For instance we simulated the prediction of the model only using the accuracy without maintaining the recall and precision of our model to their estimated level. Improving the simulation of the model will make the simulation more realistic and strengthen the interpretation of the simulation."
      ]
    }
  ]
}