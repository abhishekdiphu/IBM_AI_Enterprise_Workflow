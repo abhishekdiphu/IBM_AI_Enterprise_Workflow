{
 "cells": [
  {
   "attachments": {
    "ibm-cloud.png": {
     "image/png": "[encoded data removed]"
    }
   },
   "cell_type": "markdown",
   "metadata": {},
   "source": [
    "![ibm-cloud.png](attachment:ibm-cloud.png)\n",
    "\n",
    "## CASE STUDY - Deploying a recommender\n",
    "\n",
    "For this lab we will be using the MovieLens data :\n",
    "\n",
    "* [MovieLens Downloads](https://grouplens.org/datasets/movielens/latest/)\n",
    "\n",
    "download either **ml-latest-small.zip** or **ml-latest.zip** from this link and add the unziped folder to the data folder of the lab directory. We recommend you to use the small version if you are not working with a Spark cluster or a High memory machine.\n",
    "\n",
    "The two important pages for documentation are below.\n",
    "\n",
    "* [Spark MLlib collaborative filtering docs](https://spark.apache.org/docs/latest/ml-collaborative-filtering.html) \n",
    "* [Spark ALS docs](https://spark.apache.org/docs/latest/api/python/pyspark.mllib.html#pyspark.mllib.recommendation.ALS)\n"
   ]
  },
  {
   "cell_type": "code",
   "execution_count": 1,
   "metadata": {},
   "outputs": [],
   "source": [
    "import os\n",
    "import shutil\n",
    "import pandas as pd\n",
    "import numpy as np\n",
    "import pyspark as ps\n",
    "from pyspark.ml import Pipeline\n",
    "from pyspark.sql import Row\n",
    "from pyspark.sql.types import DoubleType\n",
    "\n",
    "DATA_DIR = os.path.join(\"..\", \"data\")\n",
    "SAVE_DIR = os.path.join(\"..\", \"saved-recommender\")\n",
    "\n",
    "if os.path.isdir(SAVE_DIR):\n",
    "    shutil.rmtree(SAVE_DIR)"
   ]
  },
  {
   "cell_type": "code",
   "execution_count": 2,
   "metadata": {},
   "outputs": [
    {
     "name": "stdout",
     "output_type": "stream",
     "text": [
      "3.0.1\n"
     ]
    }
   ],
   "source": [
    "## ensure the spark context is available\n",
    "spark = (ps.sql.SparkSession.builder\n",
    "        .appName(\"sandbox\")\n",
    "        .getOrCreate()\n",
    "        )\n",
    "\n",
    "sc = spark.sparkContext\n",
    "print(spark.version) "
   ]
  },
  {
   "cell_type": "markdown",
   "metadata": {},
   "source": [
    "### Ensure the data are downloaded, unziped and placed in the data folder of this lab.\n",
    "\n",
    "The data can be downloaded <a href=\"https://grouplens.org/datasets/movielens/\">here</a>. We recommend you to download the small version: <b>ml-latest-small.zip</b>"
   ]
  },
  {
   "cell_type": "code",
   "execution_count": 3,
   "metadata": {},
   "outputs": [
    {
     "name": "stdout",
     "output_type": "stream",
     "text": [
      "ERROR make sure the path to the Movie Lens data is correct\n"
     ]
    }
   ],
   "source": [
    "movielens_data_dir = os.path.join(DATA_DIR, \"ml-latest-small\")        \n",
    "if not os.path.exists(movielens_data_dir):\n",
    "    print(\"ERROR make sure the path to the Movie Lens data is correct\")"
   ]
  },
  {
   "cell_type": "code",
   "execution_count": 4,
   "metadata": {},
   "outputs": [
    {
     "name": "stdout",
     "output_type": "stream",
     "text": [
      "+-------+--------+------+---------+\n",
      "|user_id|movie_id|rating|timestamp|\n",
      "+-------+--------+------+---------+\n",
      "|      1|       1|   4.0|964982703|\n",
      "|      1|       3|   4.0|964981247|\n",
      "|      1|       6|   4.0|964982224|\n",
      "|      1|      47|   5.0|964983815|\n",
      "+-------+--------+------+---------+\n",
      "only showing top 4 rows\n",
      "\n"
     ]
    }
   ],
   "source": [
    "## load the ratings data as a pysaprk dataframe\n",
    "ratings_file = os.path.join(movielens_data_dir, \"ratings.csv\")\n",
    "df = spark.read.format(\"csv\").options(header=\"true\", inferSchema=\"true\").load(ratings_file)\n",
    "df = df.withColumnRenamed(\"movieID\", \"movie_id\")\n",
    "df = df.withColumnRenamed(\"userID\", \"user_id\")\n",
    "df.show(n=4)"
   ]
  },
  {
   "cell_type": "code",
   "execution_count": 5,
   "metadata": {},
   "outputs": [
    {
     "name": "stdout",
     "output_type": "stream",
     "text": [
      "+--------+--------------------+--------------------+\n",
      "|movie_id|               title|              genres|\n",
      "+--------+--------------------+--------------------+\n",
      "|       1|    Toy Story (1995)|Adventure|Animati...|\n",
      "|       2|      Jumanji (1995)|Adventure|Childre...|\n",
      "|       3|Grumpier Old Men ...|      Comedy|Romance|\n",
      "|       4|Waiting to Exhale...|Comedy|Drama|Romance|\n",
      "+--------+--------------------+--------------------+\n",
      "only showing top 4 rows\n",
      "\n"
     ]
    }
   ],
   "source": [
    "## load the movies data as a pyspark dataframe\n",
    "movies_file = os.path.join(movielens_data_dir, \"movies.csv\") \n",
    "movies_df = spark.read.format(\"csv\").options(header=\"true\", inferSchema=\"true\").load(movies_file)\n",
    "movies_df = movies_df.withColumnRenamed(\"movieID\", \"movie_id\")\n",
    "movies_df.show(n=4)\n"
   ]
  },
  {
   "cell_type": "markdown",
   "metadata": {},
   "source": [
    "## QUESTION 1\n",
    "\n",
    "Explore the movie lens data a little and summarize it."
   ]
  },
  {
   "cell_type": "code",
   "execution_count": 6,
   "metadata": {},
   "outputs": [
    {
     "name": "stdout",
     "output_type": "stream",
     "text": [
      "+-------+------------------+----------------+------------------+--------------------+\n",
      "|summary|           user_id|        movie_id|            rating|           timestamp|\n",
      "+-------+------------------+----------------+------------------+--------------------+\n",
      "|  count|            100836|          100836|            100836|              100836|\n",
      "|   mean|326.12756356856676|19435.2957177992| 3.501556983616962|1.2059460873684695E9|\n",
      "| stddev| 182.6184914635004|35530.9871987003|1.0425292390606342|2.1626103599513078E8|\n",
      "|    min|                 1|               1|               0.5|           828124615|\n",
      "|    max|               610|          193609|               5.0|          1537799250|\n",
      "+-------+------------------+----------------+------------------+--------------------+\n",
      "\n",
      "Unique users: 610\n",
      "Unique movies: 9724\n",
      "Movies with Rating > 2: 8852\n",
      "Movies with Rating > 3: 7363\n",
      "Movies with Rating > 4: 4056\n"
     ]
    }
   ],
   "source": [
    "## YOUR CODE HERE (summarize the data)\n"
   ]
  },
  {
   "cell_type": "markdown",
   "metadata": {},
   "source": [
    "## QUESTION 2\n",
    "\n",
    "Find the ten most popular movies. \n",
    "\n",
    "\n",
    "1. Create 2 pyspark dataframes one with the count of each film in df and one with the average rating of each movie in df.\n",
    "2. Join these two dataframes in a third dataframe. Then, filter this dataframe to select only the movies that have been seen more than 100 times.\n",
    "3. Use the movies_df dataframe to add the names of each movies on the dataframe created in 2. Then, order the dataframe by descending average rating.\n",
    "\n"
   ]
  },
  {
   "cell_type": "code",
   "execution_count": 7,
   "metadata": {},
   "outputs": [
    {
     "name": "stdout",
     "output_type": "stream",
     "text": [
      "+--------+-----------------+-----+--------------------+--------------------+\n",
      "|movie_id|      avg(rating)|count|               title|              genres|\n",
      "+--------+-----------------+-----+--------------------+--------------------+\n",
      "|     318|4.429022082018927|  317|Shawshank Redempt...|         Crime|Drama|\n",
      "|     858|        4.2890625|  192|Godfather, The (1...|         Crime|Drama|\n",
      "|    2959|4.272935779816514|  218|   Fight Club (1999)|Action|Crime|Dram...|\n",
      "|    1221| 4.25968992248062|  129|Godfather: Part I...|         Crime|Drama|\n",
      "|   48516|4.252336448598131|  107|Departed, The (2006)|Crime|Drama|Thriller|\n",
      "|    1213|             4.25|  126|   Goodfellas (1990)|         Crime|Drama|\n",
      "|   58559|4.238255033557047|  149|Dark Knight, The ...|Action|Crime|Dram...|\n",
      "|      50|4.237745098039215|  204|Usual Suspects, T...|Crime|Mystery|Thr...|\n",
      "|    1197|4.232394366197183|  142|Princess Bride, T...|Action|Adventure|...|\n",
      "|     260|4.231075697211155|  251|Star Wars: Episod...|Action|Adventure|...|\n",
      "+--------+-----------------+-----+--------------------+--------------------+\n",
      "only showing top 10 rows\n",
      "\n"
     ]
    }
   ],
   "source": [
    "## YOUR CODE HERE (Replace the symbole #<> with your code)\n",
    "\n",
    "## 1_\n",
    "movie_counts = #<>\n",
    "top_rated = #<>\n",
    "\n",
    "## 2_\n",
    "top_movies = #<>\n",
    "\n",
    "## 3_\n",
    "top_movies = #<>\n",
    "\n",
    "\n",
    "top_movies.show(10)"
   ]
  },
  {
   "cell_type": "markdown",
   "metadata": {},
   "source": [
    "## QUESTION 3\n",
    "\n",
    "We will now fit a ALS model, this is matrix factorization model used for rating recommendation. See the [Spark ALS docs](https://spark.apache.org/docs/latest/api/python/pyspark.mllib.html#pyspark.mllib.recommendation.ALS)\n",
    "for example usage. \n",
    "\n",
    "First we split the data"
   ]
  },
  {
   "cell_type": "code",
   "execution_count": 8,
   "metadata": {},
   "outputs": [],
   "source": [
    "(training, test) = df.randomSplit([0.8, 0.2])"
   ]
  },
  {
   "cell_type": "markdown",
   "metadata": {},
   "source": [
    "Create a function called **train_model()** that takes two inputs :\n",
    "\n",
    "1. ``reg_param`` : the regularization parameter of the factorization model\n",
    "2. ``implicit_prefs`` : a boolean variable that indicate whereas the model should used explicit or implicit ratings.\n",
    "    \n",
    "The function train an ALS model on the training set then predict the test set and evaluate this prediction.\n",
    "The output of the function should be the RMSE of the fitted model on the test set./"
   ]
  },
  {
   "cell_type": "code",
   "execution_count": 9,
   "metadata": {},
   "outputs": [],
   "source": [
    "## YOUR CODE HERE (Replace the symbole #<> with your code)\n",
    "from pyspark.ml.evaluation import RegressionEvaluator\n",
    "from pyspark.ml.recommendation import ALS\n",
    "\n",
    "\n",
    "def train_model(reg_param, implicit_prefs=False):\n",
    "    \"\"\"\n",
    "    Train and evaluate an ALS model\n",
    "    Inputs : the regularization parametre of the ALS model and the implicit_prefs flag\n",
    "    Ouptus : a string with the RMSE and the regularization parameter inputed\n",
    "    \"\"\"\n",
    "    \n",
    "    als = #<>\n",
    "    model = als.fit(#<>)\n",
    "\n",
    "    predictions = model.transform(#<>)\n",
    "    evaluator = #<>\n",
    "\n",
    "    rmse = evaluator.evaluate(#<>)\n",
    "    print(\"regParam={}, RMSE={}\".format(reg_param, np.round(rmse, 2)))\n"
   ]
  },
  {
   "cell_type": "markdown",
   "metadata": {},
   "source": [
    "Calling the function created above for several ``reg_param`` values find the best regularization parameter."
   ]
  },
  {
   "cell_type": "code",
   "execution_count": 10,
   "metadata": {},
   "outputs": [
    {
     "name": "stdout",
     "output_type": "stream",
     "text": [
      "regParam=0.01, RMSE=1.08\n",
      "regParam=0.05, RMSE=0.94\n",
      "regParam=0.1, RMSE=0.89\n",
      "regParam=0.15, RMSE=0.88\n",
      "regParam=0.25, RMSE=0.9\n"
     ]
    }
   ],
   "source": [
    "for reg_param in [0.01, 0.05, 0.1, 0.15, 0.25]:\n",
    "    train_model(reg_param)"
   ]
  },
  {
   "cell_type": "markdown",
   "metadata": {},
   "source": [
    "## QUESTION 4\n",
    "\n",
    "With your best regParam try using the `implicitPrefs` flag.\n",
    "\n",
    ">Note that the results here make sense because the data are `explicit` ratings"
   ]
  },
  {
   "cell_type": "code",
   "execution_count": 11,
   "metadata": {},
   "outputs": [
    {
     "name": "stdout",
     "output_type": "stream",
     "text": [
      "regParam=0.1, RMSE=3.23\n"
     ]
    }
   ],
   "source": [
    "## YOUR CODE HERE\n"
   ]
  },
  {
   "cell_type": "markdown",
   "metadata": {},
   "source": [
    "## QUESTION 5\n",
    "\n",
    "Retrain the model with your best ``reg_param`` and ``implicit_prefs`` on the entire dataset and save the trained model in the SAVE_DIR directory."
   ]
  },
  {
   "cell_type": "code",
   "execution_count": 12,
   "metadata": {},
   "outputs": [
    {
     "name": "stdout",
     "output_type": "stream",
     "text": [
      "...training\n",
      "...saving als model\n",
      "done.\n"
     ]
    }
   ],
   "source": [
    "## YOUR CODE HERE (Replace the symbole #<> with your code)\n",
    "\n",
    "## re-train using the whole data set\n",
    "print(\"...training\")\n",
    "als = #<>\n",
    "model = als.fit(#<>)\n",
    "    \n",
    "## save model\n",
    "print(\"...saving als model\")\n",
    "#<>\n",
    "print(\"done.\")"
   ]
  },
  {
   "cell_type": "markdown",
   "metadata": {},
   "source": [
    "## QUESTION 6\n",
    "\n",
    "We now want to use ``spark-submit`` to load the model and demonstrate that you can load the model and interface with it.\n",
    "\n",
    "Following the best practices we created a python script (``recommender-submit.py``) in the **scripts** folder that loads the model, creates some hand crafted data points and query the model. We recommend you to go over this script and make sure you understand it before running it through this notebook."
   ]
  },
  {
   "cell_type": "code",
   "execution_count": 13,
   "metadata": {},
   "outputs": [
    {
     "name": "stdout",
     "output_type": "stream",
     "text": [
      "WARNING: An illegal reflective access operation has occurred\n",
      "WARNING: Illegal reflective access by org.apache.spark.unsafe.Platform (file:/Users/Cedric.Jouan@ibm.com/Documents/AI_Workflow_Entreprise/venvAIW/lib/python3.7/site-packages/pyspark/jars/spark-unsafe_2.12-3.0.0.jar) to constructor java.nio.DirectByteBuffer(long,int)\n",
      "WARNING: Please consider reporting this to the maintainers of org.apache.spark.unsafe.Platform\n",
      "WARNING: Use --illegal-access=warn to enable warnings of further illegal reflective access operations\n",
      "WARNING: All illegal access operations will be denied in a future release\n",
      "20/09/15 16:54:31 WARN NativeCodeLoader: Unable to load native-hadoop library for your platform... using builtin-java classes where applicable\n",
      "Using Spark's default log4j profile: org/apache/spark/log4j-defaults.properties\n",
      "Setting default log level to \"WARN\".\n",
      "To adjust logging level use sc.setLogLevel(newLevel). For SparkR, use setLogLevel(newLevel).\n",
      "20/09/15 16:54:32 WARN Utils: Service 'SparkUI' could not bind on port 4040. Attempting port 4041.\n",
      "best rated [(260,), (2628,), (1196,), (122886,), (187595,), (179819,), (1210,)]\n",
      "20/09/15 16:54:39 WARN BLAS: Failed to load implementation from: com.github.fommil.netlib.NativeSystemBLAS\n",
      "20/09/15 16:54:39 WARN BLAS: Failed to load implementation from: com.github.fommil.netlib.NativeRefBLAS\n",
      "closest_users                                                                   \n",
      " [(53,), (452,), (413,), (12,), (337,), (93,), (99,), (523,), (389,), (92,), (176,), (169,), (30,), (77,), (1,), (519,), (371,), (52,), (25,), (69,), (515,), (154,), (472,), (486,), (435,), (80,), (364,), (276,), (543,), (475,), (327,), (122,), (584,), (43,), (527,), (267,), (348,), (97,), (46,), (429,), (45,), (355,), (336,), (594,), (544,), (243,), (573,), (340,), (408,), (456,), (210,), (119,), (586,), (42,), (246,), (304,), (458,), (151,), (492,), (107,), (595,), (251,), (171,), (533,), (240,), (106,), (360,), (35,), (186,), (115,), (548,), (464,), (579,), (256,), (344,), (388,), (48,), (498,), (155,), (283,), (540,), (179,), (192,), (71,), (213,), (574,), (56,), (62,), (95,), (375,), (269,), (201,), (589,), (319,), (188,), (305,), (585,), (450,), (164,), (532,), (380,), (66,), (601,), (441,), (512,), (58,), (278,), (303,), (453,), (447,), (284,), (491,), (37,), (528,), (196,), (539,), (239,), (291,), (374,), (236,), (377,), (220,), (568,), (275,), (597,), (572,), (494,), (382,), (505,), (302,), (400,), (244,), (79,), (40,), (511,), (310,), (88,), (273,), (162,), (250,), (536,), (335,), (558,), (529,), (238,), (11,), (554,), (100,), (402,), (537,), (482,), (376,), (495,), (551,), (556,), (82,), (112,), (582,), (128,), (96,), (545,), (258,), (51,), (59,), (417,), (147,), (518,), (72,), (157,), (538,), (228,), (341,), (14,), (130,), (587,), (136,), (580,), (598,), (592,), (569,), (466,), (83,), (531,), (195,), (158,), (321,), (443,), (68,), (215,), (361,), (484,), (367,), (419,), (225,), (477,), (432,), (342,), (459,), (129,), (488,), (578,), (280,), (576,), (407,), (591,)]\n"
     ]
    }
   ],
   "source": [
    "! python ../scripts/recommender-submit.py"
   ]
  },
  {
   "cell_type": "code",
   "execution_count": null,
   "metadata": {},
   "outputs": [],
   "source": []
  }
 ],
 "metadata": {
  "kernelspec": {
   "display_name": "Python 3",
   "language": "python",
   "name": "python3"
  },
  "language_info": {
   "codemirror_mode": {
    "name": "ipython",
    "version": 3
   },
   "file_extension": ".py",
   "mimetype": "text/x-python",
   "name": "python",
   "nbconvert_exporter": "python",
   "pygments_lexer": "ipython3",
   "version": "3.8.6"
  }
 },
 "nbformat": 4,
 "nbformat_minor": 4
}
