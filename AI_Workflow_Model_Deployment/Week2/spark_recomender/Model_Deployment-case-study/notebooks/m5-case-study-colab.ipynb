{
  "nbformat": 4,
  "nbformat_minor": 0,
  "metadata": {
    "kernelspec": {
      "display_name": "Python 3",
      "language": "python",
      "name": "python3"
    },
    "language_info": {
      "codemirror_mode": {
        "name": "ipython",
        "version": 3
      },
      "file_extension": ".py",
      "mimetype": "text/x-python",
      "name": "python",
      "nbconvert_exporter": "python",
      "pygments_lexer": "ipython3",
      "version": "3.8.6"
    },
    "colab": {
      "name": "colaborative_filtering_pyspark.ipynb",
      "provenance": [],
      "collapsed_sections": [],
      "toc_visible": true
    },
    "accelerator": "GPU"
  },
  "cells": [
    {
      "cell_type": "markdown",
      "metadata": {
        "id": "NCGIwa_yNmSQ"
      },
      "source": [
        "![ibm-cloud.png](attachment:ibm-cloud.png)\n",
        "\n",
        "## CASE STUDY - Deploying a recommender\n",
        "\n",
        "For this lab we will be using the MovieLens data :\n",
        "\n",
        "* [MovieLens Downloads](https://grouplens.org/datasets/movielens/latest/)\n",
        "\n",
        "download either **ml-latest-small.zip** or **ml-latest.zip** from this link and add the unziped folder to the data folder of the lab directory. We recommend you to use the small version if you are not working with a Spark cluster or a High memory machine.\n",
        "\n",
        "The two important pages for documentation are below.\n",
        "\n",
        "* [Spark MLlib collaborative filtering docs](https://spark.apache.org/docs/latest/ml-collaborative-filtering.html) \n",
        "* [Spark ALS docs](https://spark.apache.org/docs/latest/api/python/pyspark.mllib.html#pyspark.mllib.recommendation.ALS)\n"
      ]
    },
    {
      "cell_type": "code",
      "metadata": {
        "colab": {
          "base_uri": "https://localhost:8080/"
        },
        "id": "hV1qTLvRNqH9",
        "outputId": "bc6cb97f-0e0d-4907-8792-67cd5a747db3"
      },
      "source": [
        "pip install pyspark"
      ],
      "execution_count": 2,
      "outputs": [
        {
          "output_type": "stream",
          "text": [
            "Collecting pyspark\n",
            "\u001b[?25l  Downloading https://files.pythonhosted.org/packages/f0/26/198fc8c0b98580f617cb03cb298c6056587b8f0447e20fa40c5b634ced77/pyspark-3.0.1.tar.gz (204.2MB)\n",
            "\u001b[K     |████████████████████████████████| 204.2MB 73kB/s \n",
            "\u001b[?25hCollecting py4j==0.10.9\n",
            "\u001b[?25l  Downloading https://files.pythonhosted.org/packages/9e/b6/6a4fb90cd235dc8e265a6a2067f2a2c99f0d91787f06aca4bcf7c23f3f80/py4j-0.10.9-py2.py3-none-any.whl (198kB)\n",
            "\u001b[K     |████████████████████████████████| 204kB 54.7MB/s \n",
            "\u001b[?25hBuilding wheels for collected packages: pyspark\n",
            "  Building wheel for pyspark (setup.py) ... \u001b[?25l\u001b[?25hdone\n",
            "  Created wheel for pyspark: filename=pyspark-3.0.1-py2.py3-none-any.whl size=204612242 sha256=004484aae8c2bfb8d9c5840564d4f59158fa60a68670eb3e4e9163cec664f008\n",
            "  Stored in directory: /root/.cache/pip/wheels/5e/bd/07/031766ca628adec8435bb40f0bd83bb676ce65ff4007f8e73f\n",
            "Successfully built pyspark\n",
            "Installing collected packages: py4j, pyspark\n",
            "Successfully installed py4j-0.10.9 pyspark-3.0.1\n"
          ],
          "name": "stdout"
        }
      ]
    },
    {
      "cell_type": "code",
      "metadata": {
        "colab": {
          "base_uri": "https://localhost:8080/"
        },
        "id": "zurP-Nj3Nzqd",
        "outputId": "51592ff0-c2f0-4b68-c099-8cf62a269f01"
      },
      "source": [
        "!wget http://files.grouplens.org/datasets/movielens/ml-latest.zip "
      ],
      "execution_count": 3,
      "outputs": [
        {
          "output_type": "stream",
          "text": [
            "--2021-02-04 04:19:29--  http://files.grouplens.org/datasets/movielens/ml-latest.zip\n",
            "Resolving files.grouplens.org (files.grouplens.org)... 128.101.65.152\n",
            "Connecting to files.grouplens.org (files.grouplens.org)|128.101.65.152|:80... connected.\n",
            "HTTP request sent, awaiting response... 200 OK\n",
            "Length: 277113433 (264M) [application/zip]\n",
            "Saving to: ‘ml-latest.zip’\n",
            "\n",
            "ml-latest.zip       100%[===================>] 264.28M   126MB/s    in 2.1s    \n",
            "\n",
            "2021-02-04 04:19:31 (126 MB/s) - ‘ml-latest.zip’ saved [277113433/277113433]\n",
            "\n"
          ],
          "name": "stdout"
        }
      ]
    },
    {
      "cell_type": "code",
      "metadata": {
        "colab": {
          "base_uri": "https://localhost:8080/"
        },
        "id": "mvx-Rn6rOAQK",
        "outputId": "cab86bb5-a887-4105-c445-9eb28330e51b"
      },
      "source": [
        "!unzip ml-latest.zip "
      ],
      "execution_count": 4,
      "outputs": [
        {
          "output_type": "stream",
          "text": [
            "Archive:  ml-latest.zip\n",
            "   creating: ml-latest/\n",
            "  inflating: ml-latest/links.csv     \n",
            "  inflating: ml-latest/tags.csv      \n",
            "  inflating: ml-latest/genome-tags.csv  \n",
            "  inflating: ml-latest/ratings.csv   \n",
            "  inflating: ml-latest/README.txt    \n",
            "  inflating: ml-latest/genome-scores.csv  \n",
            "  inflating: ml-latest/movies.csv    \n"
          ],
          "name": "stdout"
        }
      ]
    },
    {
      "cell_type": "code",
      "metadata": {
        "id": "VmVSij3QNmSa"
      },
      "source": [
        "import os\n",
        "import shutil\n",
        "import pandas as pd\n",
        "import numpy as np\n",
        "import pyspark as ps\n",
        "from pyspark.ml import Pipeline\n",
        "from pyspark.sql import Row\n",
        "from pyspark.sql.types import DoubleType\n",
        "\n",
        "DATA_DIR = os.path.join(\".\", \"/content/data/\")\n",
        "SAVE_DIR = os.path.join(\".\", \"saved-recommender/\")\n",
        "\n",
        "if os.path.isdir(SAVE_DIR):\n",
        "    shutil.rmtree(SAVE_DIR)"
      ],
      "execution_count": 21,
      "outputs": []
    },
    {
      "cell_type": "code",
      "metadata": {
        "colab": {
          "base_uri": "https://localhost:8080/"
        },
        "id": "SK-AifLRNmSc",
        "outputId": "02254964-8509-4015-f9ac-fc96ac8f44fb"
      },
      "source": [
        "## ensure the spark context is available\n",
        "spark = (ps.sql.SparkSession.builder\n",
        "        .appName(\"sandbox\")\n",
        "        .getOrCreate()\n",
        "        )\n",
        "\n",
        "sc = spark.sparkContext\n",
        "print(spark.version) "
      ],
      "execution_count": 23,
      "outputs": [
        {
          "output_type": "stream",
          "text": [
            "3.0.1\n"
          ],
          "name": "stdout"
        }
      ]
    },
    {
      "cell_type": "markdown",
      "metadata": {
        "id": "MF9Zt2TxNmSd"
      },
      "source": [
        "### Ensure the data are downloaded, unziped and placed in the data folder of this lab.\n",
        "\n",
        "The data can be downloaded <a href=\"https://grouplens.org/datasets/movielens/\">here</a>. We recommend you to download the small version: <b>ml-latest-small.zip</b>"
      ]
    },
    {
      "cell_type": "code",
      "metadata": {
        "colab": {
          "base_uri": "https://localhost:8080/"
        },
        "id": "146b8bWENmSe",
        "outputId": "286243bd-cd27-4c8f-c8e7-b0ebb1ddb0f3"
      },
      "source": [
        "movielens_data_dir = os.path.join(DATA_DIR, \"ml-latest\")   \n",
        "print(movielens_data_dir) \n",
        "if not os.path.exists(movielens_data_dir):\n",
        "    print(\"ERROR make sure the path to the Movie Lens data is correct\")"
      ],
      "execution_count": 24,
      "outputs": [
        {
          "output_type": "stream",
          "text": [
            "/content/data/ml-latest\n"
          ],
          "name": "stdout"
        }
      ]
    },
    {
      "cell_type": "code",
      "metadata": {
        "colab": {
          "base_uri": "https://localhost:8080/"
        },
        "id": "kkTlJQ-ONmSe",
        "outputId": "18cd074a-6b79-4cb8-c299-d99075b9ef01"
      },
      "source": [
        "## load the ratings data as a pysaprk dataframe\n",
        "ratings_file = os.path.join(movielens_data_dir, \"ratings.csv\")\n",
        "df = spark.read.format(\"csv\").options(header=\"true\", inferSchema=\"true\").load(ratings_file)\n",
        "df = df.withColumnRenamed(\"movieID\", \"movie_id\")\n",
        "df = df.withColumnRenamed(\"userID\", \"user_id\")\n",
        "df.show(n=4)"
      ],
      "execution_count": 25,
      "outputs": [
        {
          "output_type": "stream",
          "text": [
            "+-------+--------+------+----------+\n",
            "|user_id|movie_id|rating| timestamp|\n",
            "+-------+--------+------+----------+\n",
            "|      1|     307|   3.5|1256677221|\n",
            "|      1|     481|   3.5|1256677456|\n",
            "|      1|    1091|   1.5|1256677471|\n",
            "|      1|    1257|   4.5|1256677460|\n",
            "+-------+--------+------+----------+\n",
            "only showing top 4 rows\n",
            "\n"
          ],
          "name": "stdout"
        }
      ]
    },
    {
      "cell_type": "code",
      "metadata": {
        "colab": {
          "base_uri": "https://localhost:8080/"
        },
        "id": "gtN3kbJ8NmSf",
        "outputId": "cea69116-46a6-469c-8fee-1df1c900e58c"
      },
      "source": [
        "## load the movies data as a pyspark dataframe\n",
        "movies_file = os.path.join(movielens_data_dir, \"movies.csv\") \n",
        "movies_df = spark.read.format(\"csv\").options(header=\"true\", inferSchema=\"true\").load(movies_file)\n",
        "movies_df = movies_df.withColumnRenamed(\"movieID\", \"movie_id\")\n",
        "movies_df.show(n=4)\n"
      ],
      "execution_count": 26,
      "outputs": [
        {
          "output_type": "stream",
          "text": [
            "+--------+--------------------+--------------------+\n",
            "|movie_id|               title|              genres|\n",
            "+--------+--------------------+--------------------+\n",
            "|       1|    Toy Story (1995)|Adventure|Animati...|\n",
            "|       2|      Jumanji (1995)|Adventure|Childre...|\n",
            "|       3|Grumpier Old Men ...|      Comedy|Romance|\n",
            "|       4|Waiting to Exhale...|Comedy|Drama|Romance|\n",
            "+--------+--------------------+--------------------+\n",
            "only showing top 4 rows\n",
            "\n"
          ],
          "name": "stdout"
        }
      ]
    },
    {
      "cell_type": "markdown",
      "metadata": {
        "id": "B_lMOMYANmSf"
      },
      "source": [
        "## QUESTION 1\n",
        "\n",
        "Explore the movie lens data a little and summarize it."
      ]
    },
    {
      "cell_type": "code",
      "metadata": {
        "colab": {
          "base_uri": "https://localhost:8080/"
        },
        "id": "-wdp7ZfANmSg",
        "outputId": "07dc733f-4187-4d07-f867-d48e5b5d75a8"
      },
      "source": [
        "## YOUR CODE HERE (summarize the data)\n",
        "df.describe().show()"
      ],
      "execution_count": 27,
      "outputs": [
        {
          "output_type": "stream",
          "text": [
            "+-------+------------------+-----------------+------------------+--------------------+\n",
            "|summary|           user_id|         movie_id|            rating|           timestamp|\n",
            "+-------+------------------+-----------------+------------------+--------------------+\n",
            "|  count|          27753444|         27753444|          27753444|            27753444|\n",
            "|   mean|141942.01557064414|18487.99983414671|3.5304452124932677|1.1931218549319255E9|\n",
            "| stddev| 81707.40009148984| 35102.6252474677|1.0663527502319696|2.1604822852233613E8|\n",
            "|    min|                 1|                1|               0.5|           789652004|\n",
            "|    max|            283228|           193886|               5.0|          1537945149|\n",
            "+-------+------------------+-----------------+------------------+--------------------+\n",
            "\n"
          ],
          "name": "stdout"
        }
      ]
    },
    {
      "cell_type": "markdown",
      "metadata": {
        "id": "d-lAqS2yNmSg"
      },
      "source": [
        "## QUESTION 2\n",
        "\n",
        "Find the ten most popular movies. \n",
        "\n",
        "\n",
        "1. Create 2 pyspark dataframes one with the count of each film in df and one with the average rating of each movie in df.\n",
        "2. Join these two dataframes in a third dataframe. Then, filter this dataframe to select only the movies that have been seen more than 100 times.\n",
        "3. Use the movies_df dataframe to add the names of each movies on the dataframe created in 2. Then, order the dataframe by descending average rating.\n",
        "\n"
      ]
    },
    {
      "cell_type": "code",
      "metadata": {
        "id": "kFGwYMoeNmSg",
        "outputId": "a3c753a5-b8bb-41f8-ca0d-73318efcd88f"
      },
      "source": [
        "## YOUR CODE HERE (Replace the symbole #<> with your code)\n",
        "\n",
        "## 1_\n",
        "movie_counts = #<>\n",
        "top_rated = #<>\n",
        "\n",
        "## 2_\n",
        "top_movies = #<>\n",
        "\n",
        "## 3_\n",
        "top_movies = #<>\n",
        "\n",
        "\n",
        "top_movies.show(10)"
      ],
      "execution_count": null,
      "outputs": [
        {
          "output_type": "stream",
          "text": [
            "+--------+-----------------+-----+--------------------+--------------------+\n",
            "|movie_id|      avg(rating)|count|               title|              genres|\n",
            "+--------+-----------------+-----+--------------------+--------------------+\n",
            "|     318|4.429022082018927|  317|Shawshank Redempt...|         Crime|Drama|\n",
            "|     858|        4.2890625|  192|Godfather, The (1...|         Crime|Drama|\n",
            "|    2959|4.272935779816514|  218|   Fight Club (1999)|Action|Crime|Dram...|\n",
            "|    1221| 4.25968992248062|  129|Godfather: Part I...|         Crime|Drama|\n",
            "|   48516|4.252336448598131|  107|Departed, The (2006)|Crime|Drama|Thriller|\n",
            "|    1213|             4.25|  126|   Goodfellas (1990)|         Crime|Drama|\n",
            "|   58559|4.238255033557047|  149|Dark Knight, The ...|Action|Crime|Dram...|\n",
            "|      50|4.237745098039215|  204|Usual Suspects, T...|Crime|Mystery|Thr...|\n",
            "|    1197|4.232394366197183|  142|Princess Bride, T...|Action|Adventure|...|\n",
            "|     260|4.231075697211155|  251|Star Wars: Episod...|Action|Adventure|...|\n",
            "+--------+-----------------+-----+--------------------+--------------------+\n",
            "only showing top 10 rows\n",
            "\n"
          ],
          "name": "stdout"
        }
      ]
    },
    {
      "cell_type": "markdown",
      "metadata": {
        "id": "O-O9jcVSNmSh"
      },
      "source": [
        "## QUESTION 3\n",
        "\n",
        "We will now fit a ALS model, this is matrix factorization model used for rating recommendation. See the [Spark ALS docs](https://spark.apache.org/docs/latest/api/python/pyspark.mllib.html#pyspark.mllib.recommendation.ALS)\n",
        "for example usage. \n",
        "\n",
        "First we split the data"
      ]
    },
    {
      "cell_type": "code",
      "metadata": {
        "id": "K1rUw9ZrNmSh"
      },
      "source": [
        "(training, test) = df.randomSplit([0.8, 0.2])"
      ],
      "execution_count": 28,
      "outputs": []
    },
    {
      "cell_type": "markdown",
      "metadata": {
        "id": "zmt5UE3ZNmSi"
      },
      "source": [
        "Create a function called **train_model()** that takes two inputs :\n",
        "\n",
        "1. ``reg_param`` : the regularization parameter of the factorization model\n",
        "2. ``implicit_prefs`` : a boolean variable that indicate whereas the model should used explicit or implicit ratings.\n",
        "    \n",
        "The function train an ALS model on the training set then predict the test set and evaluate this prediction.\n",
        "The output of the function should be the RMSE of the fitted model on the test set./"
      ]
    },
    {
      "cell_type": "code",
      "metadata": {
        "id": "_dT1zr5hNmSi"
      },
      "source": [
        "## YOUR CODE HERE (Replace the symbole #<> with your code)\n",
        "from pyspark.ml.evaluation import RegressionEvaluator\n",
        "from pyspark.ml.recommendation import ALS\n",
        "\n",
        "\n",
        "def train_model(reg_param, implicit_prefs=False):\n",
        "    \"\"\"\n",
        "    Train and evaluate an ALS model\n",
        "    Inputs : the regularization parametre of the ALS model and the implicit_prefs flag\n",
        "    Ouptus : a string with the RMSE and the regularization parameter inputed\n",
        "    \"\"\"\n",
        "    \n",
        "    als = ALS(regParam= reg_param, userCol=\"user_id\", itemCol=\"movie_id\", ratingCol=\"rating\",\n",
        "          coldStartStrategy=\"drop\", implicitPrefs  = implicit_prefs)\n",
        "    model = als.fit(training)\n",
        "\n",
        "    predictions = model.transform(test)\n",
        "    evaluator = RegressionEvaluator(metricName=\"rmse\", labelCol=\"rating\",\n",
        "                                predictionCol=\"prediction\")\n",
        "\n",
        "    rmse = evaluator.evaluate(predictions)\n",
        "    print(\"regParam={}, RMSE={}\".format(reg_param, np.round(rmse, 2)))\n"
      ],
      "execution_count": 29,
      "outputs": []
    },
    {
      "cell_type": "markdown",
      "metadata": {
        "id": "vDf7MPpANmSi"
      },
      "source": [
        "Calling the function created above for several ``reg_param`` values find the best regularization parameter."
      ]
    },
    {
      "cell_type": "code",
      "metadata": {
        "colab": {
          "base_uri": "https://localhost:8080/"
        },
        "id": "57dthWC9NmSj",
        "outputId": "a39feab8-ede3-4aba-ac7b-d7f14e41c55f"
      },
      "source": [
        "for reg_param in [0.01, 0.05]:#, 0.1, 0.15, 0.25]:\n",
        "    train_model(reg_param)"
      ],
      "execution_count": 30,
      "outputs": [
        {
          "output_type": "stream",
          "text": [
            "regParam=0.01, RMSE=0.83\n",
            "regParam=0.05, RMSE=0.81\n"
          ],
          "name": "stdout"
        }
      ]
    },
    {
      "cell_type": "markdown",
      "metadata": {
        "id": "cSgrcMOzNmSj"
      },
      "source": [
        "## QUESTION 4\n",
        "\n",
        "With your best regParam try using the `implicitPrefs` flag.\n",
        "\n",
        ">Note that the results here make sense because the data are `explicit` ratings"
      ]
    },
    {
      "cell_type": "code",
      "metadata": {
        "colab": {
          "base_uri": "https://localhost:8080/"
        },
        "id": "-uONhh-8NmSj",
        "outputId": "9471aa4c-9a75-4169-b814-49264326f235"
      },
      "source": [
        "## YOUR CODE HERE\n",
        "als = ALS(regParam= 0.05, userCol=\"user_id\", itemCol=\"movie_id\", ratingCol=\"rating\",\n",
        "          coldStartStrategy=\"drop\", implicitPrefs  = True)\n",
        "model = als.fit(training)\n",
        "\n",
        "predictions = model.transform(test)\n",
        "evaluator = RegressionEvaluator(metricName=\"rmse\", labelCol=\"rating\",\n",
        "                            predictionCol=\"prediction\")\n",
        "\n",
        "rmse = evaluator.evaluate(predictions)\n",
        "print(\"regParam={}, RMSE={}\".format(reg_param, np.round(rmse, 2)))"
      ],
      "execution_count": 31,
      "outputs": [
        {
          "output_type": "stream",
          "text": [
            "regParam=0.05, RMSE=3.25\n"
          ],
          "name": "stdout"
        }
      ]
    },
    {
      "cell_type": "markdown",
      "metadata": {
        "id": "uey59ysYNmSk"
      },
      "source": [
        "## QUESTION 5\n",
        "\n",
        "Retrain the model with your best ``reg_param`` and ``implicit_prefs`` on the entire dataset and save the trained model in the SAVE_DIR directory."
      ]
    },
    {
      "cell_type": "code",
      "metadata": {
        "colab": {
          "base_uri": "https://localhost:8080/"
        },
        "id": "vodEwcjdNmSk",
        "outputId": "46355223-6df5-49b8-cd3b-8d034c186e4d"
      },
      "source": [
        "## YOUR CODE HERE (Replace the symbole #<> with your code)\n",
        "\n",
        "### re-train using the whole data set\n",
        "#print(\"...training\")\n",
        "#als = #<>\n",
        "#model = als.fit(#<>)\n",
        "    \n",
        "## save model\n",
        "print(\"...saving als model\")\n",
        "model.save(SAVE_DIR + '/model_1')\n",
        "print(\"done.\")"
      ],
      "execution_count": 35,
      "outputs": [
        {
          "output_type": "stream",
          "text": [
            "...saving als model\n",
            "done.\n"
          ],
          "name": "stdout"
        }
      ]
    },
    {
      "cell_type": "markdown",
      "metadata": {
        "id": "v6F64QPANmSk"
      },
      "source": [
        "## QUESTION 6\n",
        "\n",
        "We now want to use ``spark-submit`` to load the model and demonstrate that you can load the model and interface with it.\n",
        "\n",
        "Following the best practices we created a python script (``recommender-submit.py``) in the **scripts** folder that loads the model, creates some hand crafted data points and query the model. We recommend you to go over this script and make sure you understand it before running it through this notebook."
      ]
    },
    {
      "cell_type": "code",
      "metadata": {
        "colab": {
          "base_uri": "https://localhost:8080/"
        },
        "id": "QpTq8OD2NmSl",
        "outputId": "4b2bad0c-9c5f-4166-dd2d-2d0650a2ca90"
      },
      "source": [
        "! python /content/scripts/recommender-submit.py"
      ],
      "execution_count": 37,
      "outputs": [
        {
          "output_type": "stream",
          "text": [
            "WARNING: An illegal reflective access operation has occurred\n",
            "WARNING: Illegal reflective access by org.apache.spark.unsafe.Platform (file:/usr/local/lib/python3.6/dist-packages/pyspark/jars/spark-unsafe_2.12-3.0.1.jar) to constructor java.nio.DirectByteBuffer(long,int)\n",
            "WARNING: Please consider reporting this to the maintainers of org.apache.spark.unsafe.Platform\n",
            "WARNING: Use --illegal-access=warn to enable warnings of further illegal reflective access operations\n",
            "WARNING: All illegal access operations will be denied in a future release\n",
            "21/02/04 04:50:46 WARN NativeCodeLoader: Unable to load native-hadoop library for your platform... using builtin-java classes where applicable\n",
            "Using Spark's default log4j profile: org/apache/spark/log4j-defaults.properties\n",
            "Setting default log level to \"WARN\".\n",
            "To adjust logging level use sc.setLogLevel(newLevel). For SparkR, use setLogLevel(newLevel).\n",
            "21/02/04 04:50:47 WARN Utils: Service 'SparkUI' could not bind on port 4040. Attempting port 4041.\n",
            "best rated [(260,), (2628,), (1196,), (122886,), (187595,), (179819,), (1210,)]\n",
            "21/02/04 04:51:04 WARN BLAS: Failed to load implementation from: com.github.fommil.netlib.NativeSystemBLAS\n",
            "21/02/04 04:51:04 WARN BLAS: Failed to load implementation from: com.github.fommil.netlib.NativeRefBLAS\n",
            "closest_users\n",
            " [(115850,), (148571,), (254372,), (207998,), (12897,), (82874,), (94182,), (127938,), (184509,), (21094,), (219345,), (57584,), (94098,), (117097,), (220230,), (26676,), (156690,), (154161,), (146096,), (177221,), (117290,), (254590,), (257363,), (156871,), (141412,), (24873,), (49006,), (230492,), (8847,), (245378,), (273183,), (137925,), (203225,), (60572,), (21039,), (246206,), (11718,), (45684,), (128842,), (179087,), (4848,), (29360,), (150109,), (25422,), (164998,), (150085,), (196851,), (30618,), (128389,), (22748,), (70960,), (114778,), (198845,), (252776,), (140898,), (137179,), (279416,), (95444,), (17578,), (24139,), (97203,), (31319,), (178102,), (129667,), (13213,), (118056,), (94241,), (119545,), (126527,), (262521,), (167978,), (194252,), (223814,), (170137,), (165478,), (36929,), (12305,), (109245,), (106049,), (54906,), (233555,), (180361,), (128610,), (138332,), (5176,), (266004,), (158194,), (278022,), (206816,), (47834,), (247031,), (115043,), (74447,), (264938,), (209745,), (166252,), (272546,), (157795,), (249792,), (247310,), (68344,), (194365,), (62705,), (11560,), (215605,), (149620,), (6072,), (131057,), (29376,), (281461,), (37988,), (102774,), (275289,), (125217,), (254483,), (190797,), (92455,), (40929,), (185618,), (282327,), (107143,), (108197,), (152287,), (232077,), (51598,), (73177,), (262144,), (171817,), (60100,), (33432,), (138376,), (108670,), (252890,), (48662,), (171504,), (131945,), (60857,), (99860,), (107560,), (37546,), (63570,), (46816,), (240638,), (119492,), (207460,), (42074,), (231028,), (34425,), (66187,), (13164,), (133202,), (278628,), (144481,), (17255,), (162829,), (227664,), (72049,), (69105,), (210102,), (121220,), (24273,), (248133,), (35863,), (153633,), (6206,), (167790,), (202096,), (255484,), (147363,), (232180,), (85159,), (171731,), (16575,), (45388,), (83544,), (231397,), (168362,), (200179,), (44017,), (269165,), (238060,), (23960,), (55363,), (20685,), (195121,), (56568,), (41135,), (178394,), (132914,), (233106,), (4539,), (108661,), (201751,), (163052,), (25321,), (223593,), (48567,), (93512,), (88836,), (170226,), (139328,), (101155,), (167145,), (151425,), (221854,), (55841,), (80146,), (106408,), (245114,), (65930,), (275789,), (94680,), (228954,), (31835,), (4806,), (106163,), (17062,), (122978,), (38616,), (46335,), (68801,), (52194,), (234990,), (282732,), (81659,), (14932,), (102577,), (80862,), (63605,), (255646,), (84750,), (190393,), (156206,), (261395,), (94553,), (253467,), (232764,), (169751,), (75774,), (229811,), (145772,), (235058,), (222833,), (187440,), (194815,), (48263,), (146575,), (113262,), (129842,), (205220,), (277440,), (121344,), (132484,), (16748,), (128651,), (172188,), (110064,), (259058,), (70488,), (103948,), (45140,), (124475,), (36124,), (69329,), (106509,), (47141,), (230694,), (36252,), (158521,), (39538,), (42656,), (141535,), (2929,), (226621,), (89864,), (8318,), (99543,), (128604,), (108393,), (124600,), (159225,), (82922,), (66948,), (248038,), (199035,), (1185,), (117610,), (278181,), (135641,), (265404,), (32996,), (126040,), (166731,), (138140,), (153375,), (268053,), (218204,), (268202,), (112787,), (103661,), (277907,), (102923,), (278698,), (40066,), (7633,), (78372,), (206036,), (195742,), (155857,), (135161,), (99228,), (93190,), (10507,), (4871,), (238857,), (2745,), (277685,), (104515,), (206387,), (220217,), (151912,), (65868,), (193812,), (274785,), (35074,), (161814,), (129264,), (45498,), (82215,), (83272,), (64387,), (97897,), (4203,), (268018,), (44317,), (19836,), (84278,), (136915,), (154670,), (152121,), (23331,), (217223,), (184364,), (261506,), (46177,), (84016,), (127488,), (224914,), (217359,), (193393,), (222966,), (187056,), (148710,), (100267,), (139293,), (245389,), (149834,), (170121,), (198105,), (154616,), (44314,), (242752,), (279725,), (267679,), (130286,), (263856,), (147344,), (276915,), (162514,), (8348,), (240496,), (64000,), (179262,), (128959,), (169081,), (128494,), (212634,), (29315,), (254514,), (60702,), (38807,), (201101,), (249474,), (137561,), (125842,), (186859,), (196284,), (137652,), (248881,), (134596,), (220000,), (37046,), (7705,), (232485,), (203009,), (236981,), (221882,), (58920,), (116632,), (123100,), (212343,), (77609,), (94843,), (263149,), (72194,), (102042,), (23649,), (63783,), (71277,), (215651,), (191063,), (80398,), (263685,), (230183,), (168963,), (5747,), (75736,), (2025,), (48470,), (19924,), (133546,), (260317,), (71955,), (161582,), (79362,), (271383,), (205765,), (175927,), (169482,), (231991,), (275841,), (191444,), (153081,), (203626,), (195628,), (60950,), (273842,), (173280,), (95569,), (239426,), (95717,), (61801,), (261808,), (56351,), (142057,), (51515,), (181291,), (243324,), (253059,), (253813,), (42161,), (135932,), (56073,), (22947,), (158665,), (141034,), (81924,), (139102,), (99014,), (195892,), (42377,), (261865,), (130684,), (158002,), (172357,), (242683,), (109040,), (187986,), (111908,), (103438,), (70346,), (105104,), (269098,), (199011,), (89524,), (211520,), (252364,), (188066,), (240068,), (57392,), (185756,), (74769,), (89873,), (65670,), (156633,), (11109,), (35790,), (245960,), (117490,), (278420,), (127004,)]\n"
          ],
          "name": "stdout"
        }
      ]
    },
    {
      "cell_type": "code",
      "metadata": {
        "id": "Ea1OnjipNmSn"
      },
      "source": [
        ""
      ],
      "execution_count": null,
      "outputs": []
    }
  ]
}