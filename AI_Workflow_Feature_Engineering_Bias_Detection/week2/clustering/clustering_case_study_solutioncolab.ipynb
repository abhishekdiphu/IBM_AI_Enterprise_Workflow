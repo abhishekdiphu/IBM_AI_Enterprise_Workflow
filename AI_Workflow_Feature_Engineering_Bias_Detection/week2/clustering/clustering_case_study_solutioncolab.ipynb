{
  "nbformat": 4,
  "nbformat_minor": 0,
  "metadata": {
    "kernelspec": {
      "display_name": "Python 3",
      "language": "python",
      "name": "python3"
    },
    "language_info": {
      "codemirror_mode": {
        "name": "ipython",
        "version": 3
      },
      "file_extension": ".py",
      "mimetype": "text/x-python",
      "name": "python",
      "nbconvert_exporter": "python",
      "pygments_lexer": "ipython3",
      "version": "3.7.3"
    },
    "colab": {
      "name": "clustering-case-study-solution-checkpoint.ipynb",
      "provenance": []
    },
    "accelerator": "GPU"
  },
  "cells": [
    {
      "cell_type": "markdown",
      "metadata": {
        "id": "D2KI0omxNoPv"
      },
      "source": [
        "![ibm-cloud.png](attachment:ibm-cloud.png)\n",
        "\n",
        "# CASE STUDY - unsupervised learning\n"
      ]
    },
    {
      "cell_type": "code",
      "metadata": {
        "colab": {
          "base_uri": "https://localhost:8080/"
        },
        "id": "_aKRYB20NoP6",
        "outputId": "465ec94a-f498-4d01-dc25-b6da860a0b30"
      },
      "source": [
        "import os\n",
        "import joblib\n",
        "import time\n",
        "import numpy as np\n",
        "import pandas as pd\n",
        "import scipy.stats as stats\n",
        "import matplotlib.pyplot as plt\n",
        "from sklearn.utils import shuffle\n",
        "from sklearn.model_selection import train_test_split, GridSearchCV\n",
        "from sklearn.compose import ColumnTransformer\n",
        "from sklearn.base import BaseEstimator, TransformerMixin\n",
        "from sklearn.impute import SimpleImputer\n",
        "from sklearn.cluster import KMeans, SpectralClustering\n",
        "from sklearn.preprocessing import StandardScaler, OneHotEncoder, OrdinalEncoder\n",
        "from sklearn.pipeline import Pipeline\n",
        "from sklearn.metrics import classification_report, f1_score\n",
        "from sklearn.metrics import silhouette_score\n",
        "from sklearn.ensemble import RandomForestClassifier\n",
        "from sklearn.mixture import BayesianGaussianMixture\n",
        "from sklearn.svm import SVC\n",
        "import imblearn.pipeline as pl\n",
        "from imblearn.pipeline import make_pipeline\n",
        "from imblearn.over_sampling import RandomOverSampler\n",
        "from imblearn.over_sampling import SMOTE, SVMSMOTE\n",
        "    \n",
        "    \n",
        "plt.style.use('seaborn')\n",
        "%matplotlib inline\n",
        "\n",
        "DATA_DIR = os.path.join(\".\",\"sample_data\")"
      ],
      "execution_count": 1,
      "outputs": [
        {
          "output_type": "stream",
          "text": [
            "/usr/local/lib/python3.6/dist-packages/sklearn/externals/six.py:31: FutureWarning: The module is deprecated in version 0.21 and will be removed in version 0.23 since we've dropped support for Python 2.7. Please rely on the official version of six (https://pypi.org/project/six/).\n",
            "  \"(https://pypi.org/project/six/).\", FutureWarning)\n",
            "/usr/local/lib/python3.6/dist-packages/sklearn/utils/deprecation.py:144: FutureWarning: The sklearn.neighbors.base module is  deprecated in version 0.22 and will be removed in version 0.24. The corresponding classes / functions should instead be imported from sklearn.neighbors. Anything that cannot be imported from sklearn.neighbors is now part of the private API.\n",
            "  warnings.warn(message, FutureWarning)\n"
          ],
          "name": "stderr"
        }
      ]
    },
    {
      "cell_type": "markdown",
      "metadata": {
        "id": "ITppNoSiNoP7"
      },
      "source": [
        "## Synopsis\n",
        "\n",
        "  > We are now going to predict customer retention.  There are many models and many transforms to consider.  Use your\n",
        "    knowledge of pipelines and functions to ensure that your code makes it easy to compare and iterate.  \n",
        "    \n",
        "  > Marketing has asked you to make a report on customer retention.  They would like you to come up with information     that can be used to improve current marketing strategy efforts.  The current plan is for marketing at AAVAIL to\n",
        "    collect more features on subscribers the and they would like to use your report as a proof-of-concept in order to     get buyin for this effort.\n",
        "  \n",
        "## Outline\n",
        "\n",
        "1. Create a churn prediction baseline model\n",
        "2. Use clustering as part of your prediction pipeline\n",
        "3. Run and experiment to see if re-sampling techniques improve your model\n",
        "\n",
        "## Data\n",
        "\n",
        "Here we load the data as we have already done.\n",
        "\n",
        "`aavail-target.csv`"
      ]
    },
    {
      "cell_type": "code",
      "metadata": {
        "colab": {
          "base_uri": "https://localhost:8080/",
          "height": 194
        },
        "id": "4Wh31ss0NoP8",
        "outputId": "7b4308ca-f645-4f23-c3ca-3268cfc345ac"
      },
      "source": [
        "df = pd.read_csv(os.path.join(DATA_DIR, r\"aavail-target.csv\"))\n",
        "\n",
        "## pull out the target and remove uneeded columns\n",
        "_y = df.pop('is_subscriber')\n",
        "y = np.zeros(_y.size)\n",
        "y[_y==0] = 1 \n",
        "df.drop(columns=['customer_id', 'customer_name'], inplace=True)\n",
        "df.head()"
      ],
      "execution_count": 2,
      "outputs": [
        {
          "output_type": "execute_result",
          "data": {
            "text/html": [
              "<div>\n",
              "<style scoped>\n",
              "    .dataframe tbody tr th:only-of-type {\n",
              "        vertical-align: middle;\n",
              "    }\n",
              "\n",
              "    .dataframe tbody tr th {\n",
              "        vertical-align: top;\n",
              "    }\n",
              "\n",
              "    .dataframe thead th {\n",
              "        text-align: right;\n",
              "    }\n",
              "</style>\n",
              "<table border=\"1\" class=\"dataframe\">\n",
              "  <thead>\n",
              "    <tr style=\"text-align: right;\">\n",
              "      <th></th>\n",
              "      <th>country</th>\n",
              "      <th>age</th>\n",
              "      <th>subscriber_type</th>\n",
              "      <th>num_streams</th>\n",
              "    </tr>\n",
              "  </thead>\n",
              "  <tbody>\n",
              "    <tr>\n",
              "      <th>0</th>\n",
              "      <td>united_states</td>\n",
              "      <td>21</td>\n",
              "      <td>aavail_premium</td>\n",
              "      <td>23</td>\n",
              "    </tr>\n",
              "    <tr>\n",
              "      <th>1</th>\n",
              "      <td>singapore</td>\n",
              "      <td>30</td>\n",
              "      <td>aavail_unlimited</td>\n",
              "      <td>12</td>\n",
              "    </tr>\n",
              "    <tr>\n",
              "      <th>2</th>\n",
              "      <td>united_states</td>\n",
              "      <td>21</td>\n",
              "      <td>aavail_premium</td>\n",
              "      <td>22</td>\n",
              "    </tr>\n",
              "    <tr>\n",
              "      <th>3</th>\n",
              "      <td>united_states</td>\n",
              "      <td>20</td>\n",
              "      <td>aavail_basic</td>\n",
              "      <td>19</td>\n",
              "    </tr>\n",
              "    <tr>\n",
              "      <th>4</th>\n",
              "      <td>singapore</td>\n",
              "      <td>21</td>\n",
              "      <td>aavail_premium</td>\n",
              "      <td>23</td>\n",
              "    </tr>\n",
              "  </tbody>\n",
              "</table>\n",
              "</div>"
            ],
            "text/plain": [
              "         country  age   subscriber_type  num_streams\n",
              "0  united_states   21    aavail_premium           23\n",
              "1      singapore   30  aavail_unlimited           12\n",
              "2  united_states   21    aavail_premium           22\n",
              "3  united_states   20      aavail_basic           19\n",
              "4      singapore   21    aavail_premium           23"
            ]
          },
          "metadata": {
            "tags": []
          },
          "execution_count": 2
        }
      ]
    },
    {
      "cell_type": "markdown",
      "metadata": {
        "id": "8OHCPxOCNoP-"
      },
      "source": [
        "### QUESTION 1\n",
        "\n",
        "Using the train_test_split() function, create a stratified train test split of the data"
      ]
    },
    {
      "cell_type": "code",
      "metadata": {
        "id": "8CkSjicwNoP_"
      },
      "source": [
        "## YOUR CODE HERE\n",
        "X_train, X_test, y_train, y_test = train_test_split(df, y, test_size=0.25, stratify=y, random_state=42)"
      ],
      "execution_count": 6,
      "outputs": []
    },
    {
      "cell_type": "markdown",
      "metadata": {
        "id": "tNZ8hC5vNoP_"
      },
      "source": [
        "### QUESTION 2\n",
        "\n",
        "Create a baseline model.  We are going to test whether clustering followed by a model improves the results.  Then, we will test whether re-sampling techniques provide improvements.  Use a pipeline or another method, but create a baseline model given the data. Here is the ColumnTransformer we have used before."
      ]
    },
    {
      "cell_type": "code",
      "metadata": {
        "id": "ha3OttbxNoQA"
      },
      "source": [
        "## preprocessing pipeline\n",
        "numeric_features = ['age', 'num_streams']\n",
        "numeric_transformer = Pipeline(steps=[\n",
        "    ('imputer', SimpleImputer(strategy='mean')),\n",
        "    ('scaler', StandardScaler())])\n",
        "\n",
        "categorical_features = ['country', 'subscriber_type']\n",
        "categorical_transformer = Pipeline(steps=[\n",
        "    ('imputer', SimpleImputer(strategy='constant', fill_value='missing')),\n",
        "    ('encod', OrdinalEncoder())])\n",
        "\n",
        "preprocessor = ColumnTransformer(\n",
        "    transformers=[\n",
        "        ('num', numeric_transformer, numeric_features),\n",
        "        ('cat', categorical_transformer, categorical_features)])"
      ],
      "execution_count": 7,
      "outputs": []
    },
    {
      "cell_type": "code",
      "metadata": {
        "colab": {
          "base_uri": "https://localhost:8080/"
        },
        "id": "CXIQNoRJNoQA",
        "outputId": "7fac52ed-abaa-452c-cae4-c4cc70a17155"
      },
      "source": [
        "# YOUR CODE HERE\n",
        "\n",
        "\n",
        "# Create an instance of a binary classifier.\n",
        "clf = RandomForestClassifier()\n",
        "\n",
        "# Create a Pipeline that bind the preprocessing transformer and the classifier estimator.\n",
        "pipe = Pipeline(steps=[('pre', preprocessor),\n",
        "                          ('rf', clf)])\n",
        "\n",
        "# Here we apply a grid search to optimize the hypperparamters of the classifier. \n",
        "param_grid = {\n",
        "    'rf__n_estimators': [20, 50, 100, 150],\n",
        "    'rf__max_depth': [4, 5, 6, 7, 8],\n",
        "    'rf__criterion': ['gini', 'entropy']\n",
        "}\n",
        "grid = GridSearchCV(pipe, param_grid=param_grid, cv=3, n_jobs=-1, scoring='f1')\n",
        "#best_params = grid.best_params_\n",
        "\n",
        "# Fit the pipeline to the training data.\n",
        "grid.fit(X_train, y_train)\n",
        "best_params = grid.best_params_\n",
        "\n",
        "# predict the dependent variable of the test set\n",
        "y_pred = grid.predict(X_test)\n",
        "\n",
        "# Print the f1_score of the prediction\n",
        "print(\"f1_score\", round(f1_score(y_test, y_pred, average='binary'), 3))"
      ],
      "execution_count": 11,
      "outputs": [
        {
          "output_type": "stream",
          "text": [
            "f1_score 0.615\n"
          ],
          "name": "stdout"
        }
      ]
    },
    {
      "cell_type": "markdown",
      "metadata": {
        "id": "vtF1pUz4NoQB"
      },
      "source": [
        "### QUESTION 3\n",
        "\n",
        "The next part is to create version of the classifier that uses identified clusters.  Here is a class to get you started.  It is a transformer like those that we have been working with.  There is an example of how to use it just below.  In this example 4 clusters were specified and their one-hot encoded versions were appended to the feature matrix.  Now using pipelines and/or functions compare the performance using cluster profiling as part of your matrix to the baseline.  You may compare multiple models and multiple clustering algorithms here."
      ]
    },
    {
      "cell_type": "code",
      "metadata": {
        "colab": {
          "base_uri": "https://localhost:8080/"
        },
        "id": "vhbZUkXaNoQC",
        "outputId": "1e030d5f-452a-4072-dd63-7a3fb7988764"
      },
      "source": [
        "class KmeansTransformer(BaseEstimator, TransformerMixin):\n",
        "    def __init__(self, n_clusters=4):\n",
        "        self.n_clusters = n_clusters\n",
        "        self.km = KMeans(n_clusters=self.n_clusters, n_init=20)\n",
        "        \n",
        "    def transform(self, X, *_):\n",
        "        labels = self.km.predict(X)\n",
        "        return np.hstack((X, labels.reshape(-1, 1)))\n",
        "\n",
        "    def fit(self, X, y=None, *_):\n",
        "        self.km.fit(X)\n",
        "        labels = self.km.predict(X)\n",
        "        self.silhouette_score = round(silhouette_score(X, labels, metric='mahalanobis'), 3)\n",
        "        return self\n",
        "\n",
        "class GmmTransformer(BaseEstimator, TransformerMixin):\n",
        "    def __init__(self, n_clusters=4):\n",
        "        self.n_clusters = n_clusters\n",
        "        self.gmm = BayesianGaussianMixture(n_components=self.n_clusters, covariance_type='full',\n",
        "                                           max_iter=500, n_init=10, warm_start=True)        \n",
        "    def transform(self, X,*_):\n",
        "        probs = self.gmm.predict_proba(X) + np.finfo(float).eps\n",
        "        return np.hstack((X, probs))\n",
        "        \n",
        "    def fit(self, X, y=None, *_):\n",
        "        self.gmm.fit(X)\n",
        "        labels = self.gmm.predict(X)\n",
        "        self.silhouette_score = round(silhouette_score(X, labels, metric='mahalanobis'), 3)\n",
        "        return self\n",
        "    \n",
        "\n",
        "    \n",
        "## example for kmeans\n",
        "preprocessor.fit(X_train)\n",
        "X_train_pre = preprocessor.transform(X_train)    \n",
        "kt = KmeansTransformer(4)\n",
        "kt.fit(X_train_pre)\n",
        "X_train_kmeans = kt.transform(X_train_pre)\n",
        "print(X_train_pre.shape)\n",
        "print(X_train_kmeans.shape)   \n",
        "    \n",
        "## example for GMM  \n",
        "preprocessor.fit(X_train)\n",
        "X_train_pre = preprocessor.transform(X_train)    \n",
        "gt = GmmTransformer(4)\n",
        "gt.fit(X_train_pre)\n",
        "X_train_gmm = gt.transform(X_train_pre)\n",
        "print(X_train_pre.shape)  \n",
        "print(X_train_gmm.shape)"
      ],
      "execution_count": 12,
      "outputs": [
        {
          "output_type": "stream",
          "text": [
            "(750, 4)\n",
            "(750, 5)\n",
            "(750, 4)\n",
            "(750, 8)\n"
          ],
          "name": "stdout"
        }
      ]
    },
    {
      "cell_type": "code",
      "metadata": {
        "colab": {
          "base_uri": "https://localhost:8080/",
          "height": 223
        },
        "id": "TkRcZ7WKNoQE",
        "outputId": "31e4e0b4-fc5b-45fc-8efb-63403bc262c4"
      },
      "source": [
        "## YOUR CODE HERE\n",
        "\n",
        "\n",
        "def run_clustering_pipeline(umodel):\n",
        "    \"\"\"\n",
        "    This function evaluates different Pipelines constituated of the preprocessing transfomer,\n",
        "    a clustering transformer and a classifier estimator.\n",
        "    INPUT : The name of the clustering transformer : 'gmm' or 'kmeans'\n",
        "    OUTPUT : The list of f1_scores of the pipeline on the test set for the different number of clusters\n",
        "    \"\"\"\n",
        "    \n",
        "    fscores = [] # this list will store the f1_score of the different models that we will train\n",
        "    for n_clusters in np.arange(3, 8):\n",
        "    \n",
        "        # Create an instance of a binary classifier (The same as the one you trained in the previous question)\n",
        "        estimator = RandomForestClassifier()\n",
        "        param_grid = {\n",
        "                        'n_estimators': [20, 50, 100, 150],\n",
        "                        'max_depth': [4, 5, 6, 7, 8],\n",
        "                        'criterion': ['gini', 'entropy']\n",
        "                    }\n",
        "        clf = GridSearchCV(estimator, param_grid=param_grid, cv=3, n_jobs=-1, scoring='f1')\n",
        "        \n",
        "        if umodel == 'gmm':\n",
        "            # Create an instance of the Gmm transformer with n_clusters clusters\n",
        "            cluster = GmmTransformer(n_clusters)    \n",
        "        elif umodel == 'kmeans':\n",
        "            # Create an instance of the Kmean transformer with n_clusters clusters\n",
        "            cluster = KmeansTransformer(n_clusters)\n",
        "        else:\n",
        "            raise Exception(\"invalid unsupervised learning model\")\n",
        "        \n",
        "        # Create a Pipeline that binds the preprocessing transformer, the clustering transformer and the classifier\n",
        "        pipe = Pipeline(steps=[('pre', preprocessor),\n",
        "                               ('clustering', cluster),\n",
        "                               ('classifier', clf)])  \n",
        "        \n",
        "        # Fit the pipeline on training set\n",
        "        pipe.fit(X_train, y_train)\n",
        "        # Predict the test set\n",
        "        y_pred = pipe.predict(X_test)\n",
        "        # Compute the f1 score and add this score to the fscores list.\n",
        "        score = round(f1_score(y_test, y_pred, average='binary'), 3)\n",
        "        fscores.append(score)\n",
        "        \n",
        "    return fscores\n",
        "\n",
        "## Run the different iteration of the model\n",
        "cp_results = {}\n",
        "cp_results['kmeans'] = run_clustering_pipeline('kmeans')\n",
        "cp_results['gmm'] = run_clustering_pipeline('gmm')\n",
        "\n",
        "## Display table of results\n",
        "df_cp = pd.DataFrame(cp_results)\n",
        "df_cp[\"n_clusters\"] = [str(i) for i in np.arange(3,8)]\n",
        "df_cp.set_index(\"n_clusters\", inplace=True)\n",
        "df_cp.head(n=10)"
      ],
      "execution_count": 13,
      "outputs": [
        {
          "output_type": "execute_result",
          "data": {
            "text/html": [
              "<div>\n",
              "<style scoped>\n",
              "    .dataframe tbody tr th:only-of-type {\n",
              "        vertical-align: middle;\n",
              "    }\n",
              "\n",
              "    .dataframe tbody tr th {\n",
              "        vertical-align: top;\n",
              "    }\n",
              "\n",
              "    .dataframe thead th {\n",
              "        text-align: right;\n",
              "    }\n",
              "</style>\n",
              "<table border=\"1\" class=\"dataframe\">\n",
              "  <thead>\n",
              "    <tr style=\"text-align: right;\">\n",
              "      <th></th>\n",
              "      <th>kmeans</th>\n",
              "      <th>gmm</th>\n",
              "    </tr>\n",
              "    <tr>\n",
              "      <th>n_clusters</th>\n",
              "      <th></th>\n",
              "      <th></th>\n",
              "    </tr>\n",
              "  </thead>\n",
              "  <tbody>\n",
              "    <tr>\n",
              "      <th>3</th>\n",
              "      <td>0.598</td>\n",
              "      <td>0.585</td>\n",
              "    </tr>\n",
              "    <tr>\n",
              "      <th>4</th>\n",
              "      <td>0.585</td>\n",
              "      <td>0.554</td>\n",
              "    </tr>\n",
              "    <tr>\n",
              "      <th>5</th>\n",
              "      <td>0.571</td>\n",
              "      <td>0.602</td>\n",
              "    </tr>\n",
              "    <tr>\n",
              "      <th>6</th>\n",
              "      <td>0.581</td>\n",
              "      <td>0.583</td>\n",
              "    </tr>\n",
              "    <tr>\n",
              "      <th>7</th>\n",
              "      <td>0.553</td>\n",
              "      <td>0.595</td>\n",
              "    </tr>\n",
              "  </tbody>\n",
              "</table>\n",
              "</div>"
            ],
            "text/plain": [
              "            kmeans    gmm\n",
              "n_clusters               \n",
              "3            0.598  0.585\n",
              "4            0.585  0.554\n",
              "5            0.571  0.602\n",
              "6            0.581  0.583\n",
              "7            0.553  0.595"
            ]
          },
          "metadata": {
            "tags": []
          },
          "execution_count": 13
        }
      ]
    },
    {
      "cell_type": "markdown",
      "metadata": {
        "id": "RWGaUxT7NoQG"
      },
      "source": [
        "### SOLUTION NOTE\n",
        "\n",
        "This is a fairly small dataset with a small number of features.  The utility of adding clustering to the pipeline is generally more apparent in higher dimensional data sets."
      ]
    },
    {
      "cell_type": "markdown",
      "metadata": {
        "id": "1YTmc38_NoQH"
      },
      "source": [
        "## QUESTION 4\n",
        "\n",
        "Run an experiment to see if you can you improve on your workflow with the addition of re-sampling techniques?"
      ]
    },
    {
      "cell_type": "code",
      "metadata": {
        "colab": {
          "base_uri": "https://localhost:8080/",
          "height": 599
        },
        "id": "d2OksC8SNoQH",
        "outputId": "be854319-290f-43db-f08e-e1cfd49986b4"
      },
      "source": [
        "## YOUR CODE HERE\n",
        "\n",
        "def run_clustering_pipeline(umodel):\n",
        "    \"\"\"\n",
        "    This function evaluates different Pipelines constituated of the preprocessing transfomer,\n",
        "    a clustering transformer, a re-sampling transformer and a classifier estimator.\n",
        "    INPUT : The name of the clustering transformer : 'gmm' or 'kmeans'\n",
        "    OUTPUT : The list of f1_scores of the pipeline on the test set for the different number of clusters.\n",
        "    \"\"\"\n",
        "    \n",
        "    fscores = []  # this list will store the f1_score of the different models that we will train\n",
        "    for n_clusters in np.arange(3,8):\n",
        "        \n",
        "        # Create an instance of a binary classifier (The same as the one you trained in the previous question)\n",
        "        estimator = RandomForestClassifier()\n",
        "        param_grid = {\n",
        "                    'n_estimators': [20, 50, 100, 150],\n",
        "                    'max_depth': [4, 5, 6, 7, 8],\n",
        "                    'criterion': ['gini', 'entropy']\n",
        "                    }\n",
        "        clf = GridSearchCV(estimator, param_grid=param_grid, cv=3, n_jobs=-1, scoring='f1')\n",
        "        \n",
        "        if umodel == 'gmm':\n",
        "            # Create an instance of the Gmm transformer with n_clusters clusters\n",
        "            cluster = GmmTransformer(n_clusters)    \n",
        "        elif umodel == 'kmeans':\n",
        "            # Create an instance of the Kmean transformer with n_clusters clusters\n",
        "            cluster = KmeansTransformer(n_clusters)\n",
        "        else:\n",
        "            raise Exception(\"invalid unsupervised learning model\")\n",
        "            \n",
        "        \n",
        "        # Create a Pipeline that binds the preprocessing transformer, the clustering transformer, \n",
        "        # the re-sampling transformer and the classifier\n",
        "        pipe = pl.Pipeline(steps=[('pre', preprocessor),\n",
        "                                  ('clustering', cluster),\n",
        "                                  ('smote', SMOTE(random_state=42)),\n",
        "                                  ('classifier', clf)])  \n",
        "           \n",
        "        # Fit the pipeline on training set\n",
        "        pipe.fit(X_train,y_train) \n",
        "        # Predict the test set\n",
        "        y_pred = pipe.predict(X_test)  \n",
        "        # Compute the f1 score and add this score to the fscores list.\n",
        "        score = round(f1_score(y_test, y_pred,average='binary'),3)\n",
        "        fscores.append(score)\n",
        "        \n",
        "    return(fscores)\n",
        "\n",
        "## Run the different iteration of the model\n",
        "cp_results = {}\n",
        "cp_results['kmeans'] = run_clustering_pipeline('kmeans')\n",
        "cp_results['gmm'] = run_clustering_pipeline('gmm')\n",
        "\n",
        "\n",
        "## Display table of results\n",
        "df_cp = pd.DataFrame(cp_results)\n",
        "df_cp[\"n_clusters\"] = [str(i) for i in np.arange(3,8)]\n",
        "df_cp.set_index(\"n_clusters\",inplace=True)\n",
        "df_cp.head(n=10)"
      ],
      "execution_count": 14,
      "outputs": [
        {
          "output_type": "stream",
          "text": [
            "/usr/local/lib/python3.6/dist-packages/sklearn/utils/deprecation.py:87: FutureWarning: Function safe_indexing is deprecated; safe_indexing is deprecated in version 0.22 and will be removed in version 0.24.\n",
            "  warnings.warn(msg, category=FutureWarning)\n",
            "/usr/local/lib/python3.6/dist-packages/sklearn/utils/deprecation.py:87: FutureWarning: Function safe_indexing is deprecated; safe_indexing is deprecated in version 0.22 and will be removed in version 0.24.\n",
            "  warnings.warn(msg, category=FutureWarning)\n",
            "/usr/local/lib/python3.6/dist-packages/sklearn/utils/deprecation.py:87: FutureWarning: Function safe_indexing is deprecated; safe_indexing is deprecated in version 0.22 and will be removed in version 0.24.\n",
            "  warnings.warn(msg, category=FutureWarning)\n",
            "/usr/local/lib/python3.6/dist-packages/sklearn/utils/deprecation.py:87: FutureWarning: Function safe_indexing is deprecated; safe_indexing is deprecated in version 0.22 and will be removed in version 0.24.\n",
            "  warnings.warn(msg, category=FutureWarning)\n",
            "/usr/local/lib/python3.6/dist-packages/sklearn/utils/deprecation.py:87: FutureWarning: Function safe_indexing is deprecated; safe_indexing is deprecated in version 0.22 and will be removed in version 0.24.\n",
            "  warnings.warn(msg, category=FutureWarning)\n",
            "/usr/local/lib/python3.6/dist-packages/sklearn/utils/deprecation.py:87: FutureWarning: Function safe_indexing is deprecated; safe_indexing is deprecated in version 0.22 and will be removed in version 0.24.\n",
            "  warnings.warn(msg, category=FutureWarning)\n",
            "/usr/local/lib/python3.6/dist-packages/sklearn/utils/deprecation.py:87: FutureWarning: Function safe_indexing is deprecated; safe_indexing is deprecated in version 0.22 and will be removed in version 0.24.\n",
            "  warnings.warn(msg, category=FutureWarning)\n",
            "/usr/local/lib/python3.6/dist-packages/sklearn/utils/deprecation.py:87: FutureWarning: Function safe_indexing is deprecated; safe_indexing is deprecated in version 0.22 and will be removed in version 0.24.\n",
            "  warnings.warn(msg, category=FutureWarning)\n",
            "/usr/local/lib/python3.6/dist-packages/sklearn/utils/deprecation.py:87: FutureWarning: Function safe_indexing is deprecated; safe_indexing is deprecated in version 0.22 and will be removed in version 0.24.\n",
            "  warnings.warn(msg, category=FutureWarning)\n",
            "/usr/local/lib/python3.6/dist-packages/sklearn/utils/deprecation.py:87: FutureWarning: Function safe_indexing is deprecated; safe_indexing is deprecated in version 0.22 and will be removed in version 0.24.\n",
            "  warnings.warn(msg, category=FutureWarning)\n"
          ],
          "name": "stderr"
        },
        {
          "output_type": "execute_result",
          "data": {
            "text/html": [
              "<div>\n",
              "<style scoped>\n",
              "    .dataframe tbody tr th:only-of-type {\n",
              "        vertical-align: middle;\n",
              "    }\n",
              "\n",
              "    .dataframe tbody tr th {\n",
              "        vertical-align: top;\n",
              "    }\n",
              "\n",
              "    .dataframe thead th {\n",
              "        text-align: right;\n",
              "    }\n",
              "</style>\n",
              "<table border=\"1\" class=\"dataframe\">\n",
              "  <thead>\n",
              "    <tr style=\"text-align: right;\">\n",
              "      <th></th>\n",
              "      <th>kmeans</th>\n",
              "      <th>gmm</th>\n",
              "    </tr>\n",
              "    <tr>\n",
              "      <th>n_clusters</th>\n",
              "      <th></th>\n",
              "      <th></th>\n",
              "    </tr>\n",
              "  </thead>\n",
              "  <tbody>\n",
              "    <tr>\n",
              "      <th>3</th>\n",
              "      <td>0.611</td>\n",
              "      <td>0.626</td>\n",
              "    </tr>\n",
              "    <tr>\n",
              "      <th>4</th>\n",
              "      <td>0.603</td>\n",
              "      <td>0.639</td>\n",
              "    </tr>\n",
              "    <tr>\n",
              "      <th>5</th>\n",
              "      <td>0.635</td>\n",
              "      <td>0.630</td>\n",
              "    </tr>\n",
              "    <tr>\n",
              "      <th>6</th>\n",
              "      <td>0.606</td>\n",
              "      <td>0.582</td>\n",
              "    </tr>\n",
              "    <tr>\n",
              "      <th>7</th>\n",
              "      <td>0.603</td>\n",
              "      <td>0.617</td>\n",
              "    </tr>\n",
              "  </tbody>\n",
              "</table>\n",
              "</div>"
            ],
            "text/plain": [
              "            kmeans    gmm\n",
              "n_clusters               \n",
              "3            0.611  0.626\n",
              "4            0.603  0.639\n",
              "5            0.635  0.630\n",
              "6            0.606  0.582\n",
              "7            0.603  0.617"
            ]
          },
          "metadata": {
            "tags": []
          },
          "execution_count": 14
        }
      ]
    },
    {
      "cell_type": "code",
      "metadata": {
        "id": "Kpk2jZMAP6Mh"
      },
      "source": [
        "from sklearn.ensemble import GradientBoostingClassifier"
      ],
      "execution_count": 15,
      "outputs": []
    },
    {
      "cell_type": "code",
      "metadata": {
        "colab": {
          "base_uri": "https://localhost:8080/",
          "height": 223
        },
        "id": "k_Ypkq5xPxJ9",
        "outputId": "36bfdc97-7570-4f8c-a526-b4e74ac1d9ac"
      },
      "source": [
        "\r\n",
        "\r\n",
        "def run_clustering_pipeline(umodel):\r\n",
        "    \"\"\"\r\n",
        "    This function evaluates different Pipelines constituated of the preprocessing transfomer,\r\n",
        "    a clustering transformer and a classifier estimator.\r\n",
        "    INPUT : The name of the clustering transformer : 'gmm' or 'kmeans'\r\n",
        "    OUTPUT : The list of f1_scores of the pipeline on the test set for the different number of clusters\r\n",
        "    \"\"\"\r\n",
        "    \r\n",
        "    fscores = [] # this list will store the f1_score of the different models that we will train\r\n",
        "    for n_clusters in np.arange(3, 8):\r\n",
        "    \r\n",
        "        # Create an instance of a binary classifier (The same as the one you trained in the previous question)\r\n",
        "        estimator = GradientBoostingClassifier(learning_rate = 0.01)\r\n",
        "        param_grid = {\r\n",
        "                        'n_estimators': [200, 400,600],\r\n",
        "                        'max_depth': [4, 5, 10],\r\n",
        "                    }\r\n",
        "\r\n",
        "\r\n",
        "        clf = GridSearchCV(estimator, param_grid=param_grid, cv=3, n_jobs=-1, scoring='f1')\r\n",
        "        \r\n",
        "        if umodel == 'gmm':\r\n",
        "            # Create an instance of the Gmm transformer with n_clusters clusters\r\n",
        "            cluster = GmmTransformer(n_clusters)    \r\n",
        "        elif umodel == 'kmeans':\r\n",
        "            # Create an instance of the Kmean transformer with n_clusters clusters\r\n",
        "            cluster = KmeansTransformer(n_clusters)\r\n",
        "        else:\r\n",
        "            raise Exception(\"invalid unsupervised learning model\")\r\n",
        "        \r\n",
        "        # Create a Pipeline that binds the preprocessing transformer, the clustering transformer and the classifier\r\n",
        "        pipe = Pipeline(steps=[('pre', preprocessor),\r\n",
        "                               ('clustering', cluster),\r\n",
        "                               ('classifier', clf)])  \r\n",
        "        \r\n",
        "        # Fit the pipeline on training set\r\n",
        "        pipe.fit(X_train, y_train)\r\n",
        "        # Predict the test set\r\n",
        "        y_pred = pipe.predict(X_test)\r\n",
        "        # Compute the f1 score and add this score to the fscores list.\r\n",
        "        score = round(f1_score(y_test, y_pred, average='binary'), 3)\r\n",
        "        fscores.append(score)\r\n",
        "        \r\n",
        "    return fscores\r\n",
        "\r\n",
        "## Run the different iteration of the model\r\n",
        "cp_results = {}\r\n",
        "cp_results['kmeans'] = run_clustering_pipeline('kmeans')\r\n",
        "cp_results['gmm'] = run_clustering_pipeline('gmm')\r\n",
        "\r\n",
        "## Display table of results\r\n",
        "df_cp = pd.DataFrame(cp_results)\r\n",
        "df_cp[\"n_clusters\"] = [str(i) for i in np.arange(3,8)]\r\n",
        "df_cp.set_index(\"n_clusters\", inplace=True)\r\n",
        "df_cp.head(n=10)"
      ],
      "execution_count": 20,
      "outputs": [
        {
          "output_type": "execute_result",
          "data": {
            "text/html": [
              "<div>\n",
              "<style scoped>\n",
              "    .dataframe tbody tr th:only-of-type {\n",
              "        vertical-align: middle;\n",
              "    }\n",
              "\n",
              "    .dataframe tbody tr th {\n",
              "        vertical-align: top;\n",
              "    }\n",
              "\n",
              "    .dataframe thead th {\n",
              "        text-align: right;\n",
              "    }\n",
              "</style>\n",
              "<table border=\"1\" class=\"dataframe\">\n",
              "  <thead>\n",
              "    <tr style=\"text-align: right;\">\n",
              "      <th></th>\n",
              "      <th>kmeans</th>\n",
              "      <th>gmm</th>\n",
              "    </tr>\n",
              "    <tr>\n",
              "      <th>n_clusters</th>\n",
              "      <th></th>\n",
              "      <th></th>\n",
              "    </tr>\n",
              "  </thead>\n",
              "  <tbody>\n",
              "    <tr>\n",
              "      <th>3</th>\n",
              "      <td>0.583</td>\n",
              "      <td>0.556</td>\n",
              "    </tr>\n",
              "    <tr>\n",
              "      <th>4</th>\n",
              "      <td>0.578</td>\n",
              "      <td>0.586</td>\n",
              "    </tr>\n",
              "    <tr>\n",
              "      <th>5</th>\n",
              "      <td>0.583</td>\n",
              "      <td>0.535</td>\n",
              "    </tr>\n",
              "    <tr>\n",
              "      <th>6</th>\n",
              "      <td>0.583</td>\n",
              "      <td>0.554</td>\n",
              "    </tr>\n",
              "    <tr>\n",
              "      <th>7</th>\n",
              "      <td>0.589</td>\n",
              "      <td>0.558</td>\n",
              "    </tr>\n",
              "  </tbody>\n",
              "</table>\n",
              "</div>"
            ],
            "text/plain": [
              "            kmeans    gmm\n",
              "n_clusters               \n",
              "3            0.583  0.556\n",
              "4            0.578  0.586\n",
              "5            0.583  0.535\n",
              "6            0.583  0.554\n",
              "7            0.589  0.558"
            ]
          },
          "metadata": {
            "tags": []
          },
          "execution_count": 20
        }
      ]
    },
    {
      "cell_type": "markdown",
      "metadata": {
        "id": "je1GTJoFNoQJ"
      },
      "source": [
        "### SOLUTION NOTE\n",
        "\n",
        "The inclusion of customer profiles does not significantly improve the overall model performance pipeline for either model.  There may be some minor improvement depending on the random seed, but since it does not degrade model performance either it can be useful in the context of marketing.  The clusters are customer profiles that are tied to predictive performance.  The re-sampling does help the random forest classifiers obtain similar performance results to SVM in this case."
      ]
    }
  ]
}